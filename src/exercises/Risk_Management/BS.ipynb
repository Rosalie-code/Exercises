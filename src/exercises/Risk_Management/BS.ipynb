{
 "cells": [
  {
   "cell_type": "code",
   "execution_count": 1,
   "metadata": {},
   "outputs": [
    {
     "name": "stdout",
     "output_type": "stream",
     "text": [
      "Call Price: 8.02\n",
      "Put Price: 7.90\n"
     ]
    }
   ],
   "source": [
    "import numpy as np\n",
    "from scipy.stats import norm\n",
    "import plotly.express as px\n",
    "import pandas as pd\n",
    "\n",
    "\"\"\"I - BASIC\"\"\"\n",
    "def black_scholes(S, K, T, r, sigma, option_type='call'):\n",
    "    \"\"\"\n",
    "    Calculate the Black-Scholes price for a European call or put option.\n",
    "    \n",
    "    Parameters:\n",
    "    S : float : Current stock price (S_0)\n",
    "    K : float : Strike price\n",
    "    T : float : Time to maturity (in years)\n",
    "    r : float : Risk-free interest rate\n",
    "    sigma : float : Volatility (standard deviation of stock's returns)\n",
    "    option_type : str : 'call' for call option, 'put' for put option (default is 'call')\n",
    "    \n",
    "    Returns:\n",
    "    float : Option price (call or put)\n",
    "    \"\"\"\n",
    "    # Calculate d1 and d2\n",
    "    d1 = (np.log(S / K) + (r + 0.5 * sigma**2) * T) / (sigma * np.sqrt(T))\n",
    "    d2 = d1 - sigma * np.sqrt(T)\n",
    "    \n",
    "    # Call Option\n",
    "    if option_type == 'call':\n",
    "        option_price = S * norm.cdf(d1) - K * np.exp(-r * T) * norm.cdf(d2)\n",
    "    \n",
    "    # Put Option\n",
    "    elif option_type == 'put':\n",
    "        option_price = K * np.exp(-r * T) * norm.cdf(-d2) - S * norm.cdf(-d1)\n",
    "    \n",
    "    else:\n",
    "        raise ValueError(\"Invalid option type. Use 'call' or 'put'.\")\n",
    "    \n",
    "    # Calculate Greeks\n",
    "    delta = norm.cdf(d1) if option_type == 'call' else norm.cdf(d1) - 1\n",
    "    gamma = norm.pdf(d1) / (S * sigma * np.sqrt(T))\n",
    "    vega = S * norm.pdf(d1) * np.sqrt(T) / 100  # Vega is often expressed per 1% change in volatility\n",
    "    if option_type == 'call':\n",
    "        theta = (-S * norm.pdf(d1) * sigma / (2 * np.sqrt(T))\n",
    "                 - r * K * np.exp(-r * T) * norm.cdf(d2)) / 365\n",
    "    elif option_type == 'put':\n",
    "        theta = (-S * norm.pdf(d1) * sigma / (2 * np.sqrt(T))\n",
    "                 + r * K * np.exp(-r * T) * norm.cdf(-d2)) / 365\n",
    "\n",
    "\n",
    "    return option_price, delta, gamma, vega, theta\n",
    "\n",
    "\n",
    "# Example usage\n",
    "S = 100  # Current stock price\n",
    "K = 105  # Strike price\n",
    "T = 1    # Time to maturity in years\n",
    "r = 0.05  # Risk-free interest rate (5%)\n",
    "sigma = 0.2  # Volatility (20%)\n",
    "\n",
    "call_price = black_scholes(S, K, T, r, sigma, option_type='call')[0]\n",
    "put_price = black_scholes(S, K, T, r, sigma, option_type='put')[0]\n",
    "\n",
    "print(f\"Call Price: {call_price:.2f}\")\n",
    "print(f\"Put Price: {put_price:.2f}\")\n",
    "\n"
   ]
  },
  {
   "cell_type": "code",
   "execution_count": 2,
   "metadata": {},
   "outputs": [
    {
     "name": "stdout",
     "output_type": "stream",
     "text": [
      "(8.021352235143176, 0.5422283335848053, 0.019835261904213263, 0.3967052380842653, -0.017197606676738413)\n"
     ]
    }
   ],
   "source": [
    "print(black_scholes(100,105,1, 0.05, 0.2))\n"
   ]
  },
  {
   "cell_type": "code",
   "execution_count": 3,
   "metadata": {},
   "outputs": [
    {
     "data": {
      "application/vnd.plotly.v1+json": {
       "config": {
        "plotlyServerURL": "https://plot.ly"
       },
       "data": [
        {
         "hovertemplate": "variable=Call Price<br>Spot Price=%{x}<br>value=%{y}<extra></extra>",
         "legendgroup": "Call Price",
         "line": {
          "color": "#636efa",
          "dash": "solid"
         },
         "marker": {
          "symbol": "circle"
         },
         "mode": "lines",
         "name": "Call Price",
         "orientation": "v",
         "showlegend": true,
         "type": "scatter",
         "x": [
          50,
          51,
          52,
          53,
          54,
          55,
          56,
          57,
          58,
          59,
          60,
          61,
          62,
          63,
          64,
          65,
          66,
          67,
          68,
          69,
          70,
          71,
          72,
          73,
          74,
          75,
          76,
          77,
          78,
          79,
          80,
          81,
          82,
          83,
          84,
          85,
          86,
          87,
          88,
          89,
          90,
          91,
          92,
          93,
          94,
          95,
          96,
          97,
          98,
          99,
          100,
          101,
          102,
          103,
          104,
          105,
          106,
          107,
          108,
          109,
          110,
          111,
          112,
          113,
          114,
          115,
          116,
          117,
          118,
          119,
          120,
          121,
          122,
          123,
          124,
          125,
          126,
          127,
          128,
          129,
          130,
          131,
          132,
          133,
          134,
          135,
          136,
          137,
          138,
          139,
          140,
          141,
          142,
          143,
          144,
          145,
          146,
          147,
          148,
          149,
          150,
          151,
          152,
          153,
          154,
          155,
          156,
          157,
          158,
          159,
          160,
          161,
          162,
          163,
          164,
          165,
          166,
          167,
          168,
          169,
          170,
          171,
          172,
          173,
          174,
          175,
          176,
          177,
          178,
          179,
          180,
          181,
          182,
          183,
          184,
          185,
          186,
          187,
          188,
          189,
          190,
          191,
          192,
          193,
          194,
          195,
          196,
          197,
          198,
          199
         ],
         "xaxis": "x",
         "y": [
          2.1162455623012326e-19,
          2.078953874137733e-18,
          1.8381292409564866e-17,
          1.470401703710763e-16,
          1.0694378823169246e-15,
          7.104472866200165e-15,
          4.329511715705596e-14,
          2.4301738382581196e-13,
          1.2611973394263946e-12,
          6.0734468103583926e-12,
          2.723100230470099e-11,
          1.1403944487397372e-10,
          4.474244171877612e-10,
          1.6492866461319744e-9,
          5.727393411243501e-9,
          1.878508962476594e-8,
          5.833357567070045e-8,
          1.7189899732350778e-7,
          4.817571321029146e-7,
          0.0000012867297154274884,
          0.0000032817987866940682,
          0.000008007975504997886,
          0.000018728488937482923,
          0.000042053274734157094,
          0.00009080901561877176,
          0.00018887498749560472,
          0.0003789586473171569,
          0.0007345304692268351,
          0.0013773112204864685,
          0.0025017208897859106,
          0.004407460754206172,
          0.007540823187217216,
          0.012544360763786677,
          0.020313216971234782,
          0.032054833284044904,
          0.049347101962981865,
          0.07418860577291753,
          0.10903368314723227,
          0.15680496244329056,
          0.220876913162404,
          0.3050259104253712,
          0.41334516971921076,
          0.5501263770718836,
          0.719713478122582,
          0.9263373988781893,
          1.1739429760977096,
          1.4660207082459884,
          1.8054559012025493,
          2.194406379919805,
          2.634217366152832,
          3.125378735756833,
          3.6675261098530854,
          4.259483562263689,
          4.899342548785185,
          5.584569285090012,
          6.312131387914889,
          7.078634178118321,
          7.880457531088936,
          8.713885366196905,
          9.575221557457795,
          10.460887974909568,
          11.36750230356347,
          12.291935051186144,
          13.231346620814506,
          14.18320642044111,
          15.145296695080916,
          16.115704121571,
          17.092802258610476,
          18.075227763667257,
          19.061852948226587,
          20.05175681230834,
          21.044196236497598,
          22.038578559749737,
          23.03443636481316,
          24.031404948334597,
          25.029202677007362,
          26.027614223897046,
          27.026476534290424,
          28.025667278882324,
          29.025095503373734,
          30.02469416719373,
          31.02441427062425,
          32.024220291077526,
          33.024086679248995,
          34.0239951995228,
          35.02393293294095,
          36.02389079304014,
          37.02386243362649,
          38.023843452498,
          39.023830816123265,
          40.023822447536034,
          41.02381693357941,
          42.02381331858743,
          43.02381096009616,
          44.023809428680195,
          45.023808438915324,
          46.02380780212317,
          47.02380739423967,
          48.02380713410864,
          49.023806968908886,
          50.02380686442936,
          51.02380679861831,
          52.02380675732745,
          53.023806731520594,
          54.023806715451784,
          55.02380670548311,
          56.02380669932097,
          57.02380669552521,
          58.023806693195,
          59.02380669176932,
          60.02380669089989,
          61.02380669037133,
          62.023806690051046,
          63.02380668985752,
          64.02380668974092,
          65.0238066896709,
          66.02380668962896,
          67.02380668960392,
          68.023806689589,
          69.02380668958014,
          70.02380668957487,
          71.02380668957179,
          72.02380668956995,
          73.02380668956887,
          74.02380668956823,
          75.02380668956786,
          76.02380668956764,
          77.02380668956752,
          78.02380668956745,
          79.02380668956744,
          80.0238066895674,
          81.02380668956737,
          82.02380668956735,
          83.02380668956735,
          84.02380668956737,
          85.02380668956735,
          86.02380668956737,
          87.02380668956737,
          88.02380668956737,
          89.02380668956735,
          90.02380668956734,
          91.02380668956737,
          92.02380668956735,
          93.02380668956735,
          94.02380668956735,
          95.02380668956735,
          96.02380668956735,
          97.02380668956735,
          98.02380668956735,
          99.02380668956735
         ],
         "yaxis": "y"
        },
        {
         "hovertemplate": "variable=Put Price<br>Spot Price=%{x}<br>value=%{y}<extra></extra>",
         "legendgroup": "Put Price",
         "line": {
          "color": "#EF553B",
          "dash": "solid"
         },
         "marker": {
          "symbol": "circle"
         },
         "mode": "lines",
         "name": "Put Price",
         "orientation": "v",
         "showlegend": true,
         "type": "scatter",
         "x": [
          50,
          51,
          52,
          53,
          54,
          55,
          56,
          57,
          58,
          59,
          60,
          61,
          62,
          63,
          64,
          65,
          66,
          67,
          68,
          69,
          70,
          71,
          72,
          73,
          74,
          75,
          76,
          77,
          78,
          79,
          80,
          81,
          82,
          83,
          84,
          85,
          86,
          87,
          88,
          89,
          90,
          91,
          92,
          93,
          94,
          95,
          96,
          97,
          98,
          99,
          100,
          101,
          102,
          103,
          104,
          105,
          106,
          107,
          108,
          109,
          110,
          111,
          112,
          113,
          114,
          115,
          116,
          117,
          118,
          119,
          120,
          121,
          122,
          123,
          124,
          125,
          126,
          127,
          128,
          129,
          130,
          131,
          132,
          133,
          134,
          135,
          136,
          137,
          138,
          139,
          140,
          141,
          142,
          143,
          144,
          145,
          146,
          147,
          148,
          149,
          150,
          151,
          152,
          153,
          154,
          155,
          156,
          157,
          158,
          159,
          160,
          161,
          162,
          163,
          164,
          165,
          166,
          167,
          168,
          169,
          170,
          171,
          172,
          173,
          174,
          175,
          176,
          177,
          178,
          179,
          180,
          181,
          182,
          183,
          184,
          185,
          186,
          187,
          188,
          189,
          190,
          191,
          192,
          193,
          194,
          195,
          196,
          197,
          198,
          199
         ],
         "xaxis": "x",
         "y": [
          49.97619331043265,
          48.97619331043265,
          47.97619331043265,
          46.97619331043265,
          45.97619331043265,
          44.976193310432656,
          43.9761933104327,
          42.976193310432905,
          41.97619331043391,
          40.97619331043873,
          39.97619331045988,
          38.9761933105467,
          37.97619331088008,
          36.97619331208193,
          35.97619331616005,
          34.976193329217736,
          33.97619336876622,
          32.97619348233164,
          31.976193792189775,
          30.976194597162376,
          29.97619659223143,
          28.976201318408144,
          27.976212038921588,
          26.97623536370739,
          25.976284119448266,
          24.976382185420135,
          23.976572269079966,
          22.97692784090188,
          21.97757062165313,
          20.97869503132243,
          19.980600771186857,
          18.983734133619862,
          17.988737671196432,
          16.996506527403895,
          16.008248143716685,
          15.025540412395628,
          14.050381916205566,
          13.08522699357988,
          12.132998272875938,
          11.197070223595063,
          10.28121922085802,
          9.389538480151856,
          8.52631968750454,
          7.69590678855522,
          6.902530709310838,
          6.150136286530355,
          5.4422140186786265,
          4.781649211635198,
          4.170599690352454,
          3.610410676585481,
          3.1015720461894745,
          2.6437194202857413,
          2.235676872696338,
          1.8755358592178268,
          1.5607625955226574,
          1.2883246983475267,
          1.0548274885509734,
          0.8566508415215885,
          0.6900786766295575,
          0.5514148678904363,
          0.4370812853422201,
          0.3436956139961218,
          0.2681283616187926,
          0.20753993124714842,
          0.15939973087373804,
          0.12149000551357236,
          0.0918974320036412,
          0.0689955690431252,
          0.05142107409988905,
          0.038046258659225174,
          0.02795012274098485,
          0.020389546930257185,
          0.014771870182386238,
          0.010629675245815928,
          0.007598258767256116,
          0.005395987440007133,
          0.003807534329695078,
          0.002669844723062184,
          0.0018605893149681307,
          0.0012888138063907248,
          0.0008874776263971956,
          0.000607581056910507,
          0.00041360151017598434,
          0.00027998968163127184,
          0.00018850995545133253,
          0.00012624337360379705,
          0.00008410347279137753,
          0.00005574405913882528,
          0.00003676293063347314,
          0.00002412655591123693,
          0.000015757968702606118,
          0.000010244012067138486,
          0.000006629020059680771,
          0.0000042705288109358614,
          0.0000027391128340813003,
          0.000001749347993411471,
          0.0000011125558118889849,
          7.046723097383769e-7,
          4.4454130683371193e-7,
          2.793415182229747e-7,
          1.7486201285099586e-7,
          1.0905095611125006e-7,
          6.77601179700726e-8,
          4.195323060978298e-8,
          2.588441903791823e-8,
          1.5915769717734272e-8,
          9.753642418872901e-9,
          5.957842504977315e-9,
          3.627659984951264e-9,
          2.2019689224232456e-9,
          1.332520429396982e-9,
          8.03979588336527e-10,
          4.836758061839481e-10,
          2.9015563791444335e-10,
          1.7358151401872553e-10,
          1.0356181189952226e-10,
          6.162356658191478e-11,
          3.657394259282884e-11,
          2.1652131598824732e-11,
          1.2786718010916814e-11,
          7.5330724996938e-12,
          4.427559303071012e-12,
          2.5963296880860727e-12,
          1.5190848441829994e-12,
          8.868578038936539e-13,
          5.1665218304888e-13,
          3.003564297962449e-13,
          1.7425754625075046e-13,
          1.0089819727021176e-13,
          5.830866293529574e-14,
          3.363263552011497e-14,
          1.9363627330853706e-14,
          1.1128329286253051e-14,
          6.38424717437107e-15,
          3.6563227968828e-15,
          2.090512324261341e-15,
          1.1933069572787867e-15,
          6.80080551876034e-16,
          3.8698525984681787e-16,
          2.1987262638528203e-16,
          1.2474036811366206e-16,
          7.066723515611925e-17,
          3.997791816453435e-17,
          2.2585447355432433e-17,
          1.2742622093273974e-17,
          7.180014492395073e-18,
          4.040571299767024e-18,
          2.271043199682591e-18,
          1.2749323023777642e-18,
          7.148939511514915e-19
         ],
         "yaxis": "y"
        }
       ],
       "layout": {
        "legend": {
         "title": {
          "text": "variable"
         },
         "tracegroupgap": 0
        },
        "template": {
         "data": {
          "bar": [
           {
            "error_x": {
             "color": "#2a3f5f"
            },
            "error_y": {
             "color": "#2a3f5f"
            },
            "marker": {
             "line": {
              "color": "#E5ECF6",
              "width": 0.5
             },
             "pattern": {
              "fillmode": "overlay",
              "size": 10,
              "solidity": 0.2
             }
            },
            "type": "bar"
           }
          ],
          "barpolar": [
           {
            "marker": {
             "line": {
              "color": "#E5ECF6",
              "width": 0.5
             },
             "pattern": {
              "fillmode": "overlay",
              "size": 10,
              "solidity": 0.2
             }
            },
            "type": "barpolar"
           }
          ],
          "carpet": [
           {
            "aaxis": {
             "endlinecolor": "#2a3f5f",
             "gridcolor": "white",
             "linecolor": "white",
             "minorgridcolor": "white",
             "startlinecolor": "#2a3f5f"
            },
            "baxis": {
             "endlinecolor": "#2a3f5f",
             "gridcolor": "white",
             "linecolor": "white",
             "minorgridcolor": "white",
             "startlinecolor": "#2a3f5f"
            },
            "type": "carpet"
           }
          ],
          "choropleth": [
           {
            "colorbar": {
             "outlinewidth": 0,
             "ticks": ""
            },
            "type": "choropleth"
           }
          ],
          "contour": [
           {
            "colorbar": {
             "outlinewidth": 0,
             "ticks": ""
            },
            "colorscale": [
             [
              0,
              "#0d0887"
             ],
             [
              0.1111111111111111,
              "#46039f"
             ],
             [
              0.2222222222222222,
              "#7201a8"
             ],
             [
              0.3333333333333333,
              "#9c179e"
             ],
             [
              0.4444444444444444,
              "#bd3786"
             ],
             [
              0.5555555555555556,
              "#d8576b"
             ],
             [
              0.6666666666666666,
              "#ed7953"
             ],
             [
              0.7777777777777778,
              "#fb9f3a"
             ],
             [
              0.8888888888888888,
              "#fdca26"
             ],
             [
              1,
              "#f0f921"
             ]
            ],
            "type": "contour"
           }
          ],
          "contourcarpet": [
           {
            "colorbar": {
             "outlinewidth": 0,
             "ticks": ""
            },
            "type": "contourcarpet"
           }
          ],
          "heatmap": [
           {
            "colorbar": {
             "outlinewidth": 0,
             "ticks": ""
            },
            "colorscale": [
             [
              0,
              "#0d0887"
             ],
             [
              0.1111111111111111,
              "#46039f"
             ],
             [
              0.2222222222222222,
              "#7201a8"
             ],
             [
              0.3333333333333333,
              "#9c179e"
             ],
             [
              0.4444444444444444,
              "#bd3786"
             ],
             [
              0.5555555555555556,
              "#d8576b"
             ],
             [
              0.6666666666666666,
              "#ed7953"
             ],
             [
              0.7777777777777778,
              "#fb9f3a"
             ],
             [
              0.8888888888888888,
              "#fdca26"
             ],
             [
              1,
              "#f0f921"
             ]
            ],
            "type": "heatmap"
           }
          ],
          "heatmapgl": [
           {
            "colorbar": {
             "outlinewidth": 0,
             "ticks": ""
            },
            "colorscale": [
             [
              0,
              "#0d0887"
             ],
             [
              0.1111111111111111,
              "#46039f"
             ],
             [
              0.2222222222222222,
              "#7201a8"
             ],
             [
              0.3333333333333333,
              "#9c179e"
             ],
             [
              0.4444444444444444,
              "#bd3786"
             ],
             [
              0.5555555555555556,
              "#d8576b"
             ],
             [
              0.6666666666666666,
              "#ed7953"
             ],
             [
              0.7777777777777778,
              "#fb9f3a"
             ],
             [
              0.8888888888888888,
              "#fdca26"
             ],
             [
              1,
              "#f0f921"
             ]
            ],
            "type": "heatmapgl"
           }
          ],
          "histogram": [
           {
            "marker": {
             "pattern": {
              "fillmode": "overlay",
              "size": 10,
              "solidity": 0.2
             }
            },
            "type": "histogram"
           }
          ],
          "histogram2d": [
           {
            "colorbar": {
             "outlinewidth": 0,
             "ticks": ""
            },
            "colorscale": [
             [
              0,
              "#0d0887"
             ],
             [
              0.1111111111111111,
              "#46039f"
             ],
             [
              0.2222222222222222,
              "#7201a8"
             ],
             [
              0.3333333333333333,
              "#9c179e"
             ],
             [
              0.4444444444444444,
              "#bd3786"
             ],
             [
              0.5555555555555556,
              "#d8576b"
             ],
             [
              0.6666666666666666,
              "#ed7953"
             ],
             [
              0.7777777777777778,
              "#fb9f3a"
             ],
             [
              0.8888888888888888,
              "#fdca26"
             ],
             [
              1,
              "#f0f921"
             ]
            ],
            "type": "histogram2d"
           }
          ],
          "histogram2dcontour": [
           {
            "colorbar": {
             "outlinewidth": 0,
             "ticks": ""
            },
            "colorscale": [
             [
              0,
              "#0d0887"
             ],
             [
              0.1111111111111111,
              "#46039f"
             ],
             [
              0.2222222222222222,
              "#7201a8"
             ],
             [
              0.3333333333333333,
              "#9c179e"
             ],
             [
              0.4444444444444444,
              "#bd3786"
             ],
             [
              0.5555555555555556,
              "#d8576b"
             ],
             [
              0.6666666666666666,
              "#ed7953"
             ],
             [
              0.7777777777777778,
              "#fb9f3a"
             ],
             [
              0.8888888888888888,
              "#fdca26"
             ],
             [
              1,
              "#f0f921"
             ]
            ],
            "type": "histogram2dcontour"
           }
          ],
          "mesh3d": [
           {
            "colorbar": {
             "outlinewidth": 0,
             "ticks": ""
            },
            "type": "mesh3d"
           }
          ],
          "parcoords": [
           {
            "line": {
             "colorbar": {
              "outlinewidth": 0,
              "ticks": ""
             }
            },
            "type": "parcoords"
           }
          ],
          "pie": [
           {
            "automargin": true,
            "type": "pie"
           }
          ],
          "scatter": [
           {
            "fillpattern": {
             "fillmode": "overlay",
             "size": 10,
             "solidity": 0.2
            },
            "type": "scatter"
           }
          ],
          "scatter3d": [
           {
            "line": {
             "colorbar": {
              "outlinewidth": 0,
              "ticks": ""
             }
            },
            "marker": {
             "colorbar": {
              "outlinewidth": 0,
              "ticks": ""
             }
            },
            "type": "scatter3d"
           }
          ],
          "scattercarpet": [
           {
            "marker": {
             "colorbar": {
              "outlinewidth": 0,
              "ticks": ""
             }
            },
            "type": "scattercarpet"
           }
          ],
          "scattergeo": [
           {
            "marker": {
             "colorbar": {
              "outlinewidth": 0,
              "ticks": ""
             }
            },
            "type": "scattergeo"
           }
          ],
          "scattergl": [
           {
            "marker": {
             "colorbar": {
              "outlinewidth": 0,
              "ticks": ""
             }
            },
            "type": "scattergl"
           }
          ],
          "scattermapbox": [
           {
            "marker": {
             "colorbar": {
              "outlinewidth": 0,
              "ticks": ""
             }
            },
            "type": "scattermapbox"
           }
          ],
          "scatterpolar": [
           {
            "marker": {
             "colorbar": {
              "outlinewidth": 0,
              "ticks": ""
             }
            },
            "type": "scatterpolar"
           }
          ],
          "scatterpolargl": [
           {
            "marker": {
             "colorbar": {
              "outlinewidth": 0,
              "ticks": ""
             }
            },
            "type": "scatterpolargl"
           }
          ],
          "scatterternary": [
           {
            "marker": {
             "colorbar": {
              "outlinewidth": 0,
              "ticks": ""
             }
            },
            "type": "scatterternary"
           }
          ],
          "surface": [
           {
            "colorbar": {
             "outlinewidth": 0,
             "ticks": ""
            },
            "colorscale": [
             [
              0,
              "#0d0887"
             ],
             [
              0.1111111111111111,
              "#46039f"
             ],
             [
              0.2222222222222222,
              "#7201a8"
             ],
             [
              0.3333333333333333,
              "#9c179e"
             ],
             [
              0.4444444444444444,
              "#bd3786"
             ],
             [
              0.5555555555555556,
              "#d8576b"
             ],
             [
              0.6666666666666666,
              "#ed7953"
             ],
             [
              0.7777777777777778,
              "#fb9f3a"
             ],
             [
              0.8888888888888888,
              "#fdca26"
             ],
             [
              1,
              "#f0f921"
             ]
            ],
            "type": "surface"
           }
          ],
          "table": [
           {
            "cells": {
             "fill": {
              "color": "#EBF0F8"
             },
             "line": {
              "color": "white"
             }
            },
            "header": {
             "fill": {
              "color": "#C8D4E3"
             },
             "line": {
              "color": "white"
             }
            },
            "type": "table"
           }
          ]
         },
         "layout": {
          "annotationdefaults": {
           "arrowcolor": "#2a3f5f",
           "arrowhead": 0,
           "arrowwidth": 1
          },
          "autotypenumbers": "strict",
          "coloraxis": {
           "colorbar": {
            "outlinewidth": 0,
            "ticks": ""
           }
          },
          "colorscale": {
           "diverging": [
            [
             0,
             "#8e0152"
            ],
            [
             0.1,
             "#c51b7d"
            ],
            [
             0.2,
             "#de77ae"
            ],
            [
             0.3,
             "#f1b6da"
            ],
            [
             0.4,
             "#fde0ef"
            ],
            [
             0.5,
             "#f7f7f7"
            ],
            [
             0.6,
             "#e6f5d0"
            ],
            [
             0.7,
             "#b8e186"
            ],
            [
             0.8,
             "#7fbc41"
            ],
            [
             0.9,
             "#4d9221"
            ],
            [
             1,
             "#276419"
            ]
           ],
           "sequential": [
            [
             0,
             "#0d0887"
            ],
            [
             0.1111111111111111,
             "#46039f"
            ],
            [
             0.2222222222222222,
             "#7201a8"
            ],
            [
             0.3333333333333333,
             "#9c179e"
            ],
            [
             0.4444444444444444,
             "#bd3786"
            ],
            [
             0.5555555555555556,
             "#d8576b"
            ],
            [
             0.6666666666666666,
             "#ed7953"
            ],
            [
             0.7777777777777778,
             "#fb9f3a"
            ],
            [
             0.8888888888888888,
             "#fdca26"
            ],
            [
             1,
             "#f0f921"
            ]
           ],
           "sequentialminus": [
            [
             0,
             "#0d0887"
            ],
            [
             0.1111111111111111,
             "#46039f"
            ],
            [
             0.2222222222222222,
             "#7201a8"
            ],
            [
             0.3333333333333333,
             "#9c179e"
            ],
            [
             0.4444444444444444,
             "#bd3786"
            ],
            [
             0.5555555555555556,
             "#d8576b"
            ],
            [
             0.6666666666666666,
             "#ed7953"
            ],
            [
             0.7777777777777778,
             "#fb9f3a"
            ],
            [
             0.8888888888888888,
             "#fdca26"
            ],
            [
             1,
             "#f0f921"
            ]
           ]
          },
          "colorway": [
           "#636efa",
           "#EF553B",
           "#00cc96",
           "#ab63fa",
           "#FFA15A",
           "#19d3f3",
           "#FF6692",
           "#B6E880",
           "#FF97FF",
           "#FECB52"
          ],
          "font": {
           "color": "#2a3f5f"
          },
          "geo": {
           "bgcolor": "white",
           "lakecolor": "white",
           "landcolor": "#E5ECF6",
           "showlakes": true,
           "showland": true,
           "subunitcolor": "white"
          },
          "hoverlabel": {
           "align": "left"
          },
          "hovermode": "closest",
          "mapbox": {
           "style": "light"
          },
          "paper_bgcolor": "white",
          "plot_bgcolor": "#E5ECF6",
          "polar": {
           "angularaxis": {
            "gridcolor": "white",
            "linecolor": "white",
            "ticks": ""
           },
           "bgcolor": "#E5ECF6",
           "radialaxis": {
            "gridcolor": "white",
            "linecolor": "white",
            "ticks": ""
           }
          },
          "scene": {
           "xaxis": {
            "backgroundcolor": "#E5ECF6",
            "gridcolor": "white",
            "gridwidth": 2,
            "linecolor": "white",
            "showbackground": true,
            "ticks": "",
            "zerolinecolor": "white"
           },
           "yaxis": {
            "backgroundcolor": "#E5ECF6",
            "gridcolor": "white",
            "gridwidth": 2,
            "linecolor": "white",
            "showbackground": true,
            "ticks": "",
            "zerolinecolor": "white"
           },
           "zaxis": {
            "backgroundcolor": "#E5ECF6",
            "gridcolor": "white",
            "gridwidth": 2,
            "linecolor": "white",
            "showbackground": true,
            "ticks": "",
            "zerolinecolor": "white"
           }
          },
          "shapedefaults": {
           "line": {
            "color": "#2a3f5f"
           }
          },
          "ternary": {
           "aaxis": {
            "gridcolor": "white",
            "linecolor": "white",
            "ticks": ""
           },
           "baxis": {
            "gridcolor": "white",
            "linecolor": "white",
            "ticks": ""
           },
           "bgcolor": "#E5ECF6",
           "caxis": {
            "gridcolor": "white",
            "linecolor": "white",
            "ticks": ""
           }
          },
          "title": {
           "x": 0.05
          },
          "xaxis": {
           "automargin": true,
           "gridcolor": "white",
           "linecolor": "white",
           "ticks": "",
           "title": {
            "standoff": 15
           },
           "zerolinecolor": "white",
           "zerolinewidth": 2
          },
          "yaxis": {
           "automargin": true,
           "gridcolor": "white",
           "linecolor": "white",
           "ticks": "",
           "title": {
            "standoff": 15
           },
           "zerolinecolor": "white",
           "zerolinewidth": 2
          }
         }
        },
        "title": {
         "text": "Prices of a Call and Put"
        },
        "xaxis": {
         "anchor": "y",
         "domain": [
          0,
          1
         ],
         "title": {
          "text": "Spot Price"
         }
        },
        "yaxis": {
         "anchor": "x",
         "domain": [
          0,
          1
         ],
         "title": {
          "text": "value"
         }
        }
       }
      }
     },
     "metadata": {},
     "output_type": "display_data"
    }
   ],
   "source": [
    "\n",
    "\n",
    "K = 100\n",
    "sigma= 0.16\n",
    "r=0.1/100\n",
    "T=60/252\n",
    "list_call =[]\n",
    "list_put = []\n",
    "spot = []\n",
    "list_delta_call =[]\n",
    "list_delta_put =[]\n",
    "list_gamma_call =[]\n",
    "list_gamma_put =[]\n",
    "list_vega_call =[]\n",
    "list_vega_put =[]\n",
    "list_theta_call =[]\n",
    "list_theta_put=[]\n",
    "\n",
    "for S in range(50,200):\n",
    "    spot.append(S)\n",
    "    list_call.append(black_scholes(S, K, T, r, sigma, option_type='call')[0])\n",
    "    list_put.append(black_scholes(S, K, T, r, sigma, option_type='put')[0])\n",
    "    list_delta_call.append(black_scholes(S, K, T, r, sigma, option_type='call')[1])\n",
    "    list_delta_put.append(black_scholes(S, K, T, r, sigma, option_type='put')[1])\n",
    "    list_gamma_call.append(black_scholes(S, K, T, r, sigma, option_type='call')[2])\n",
    "    list_gamma_put.append(black_scholes(S, K, T, r, sigma, option_type='put')[2])\n",
    "    list_vega_call.append(black_scholes(S, K, T, r, sigma, option_type='call')[3])\n",
    "    list_vega_put.append(black_scholes(S, K, T, r, sigma, option_type='put')[3])\n",
    "    list_theta_call.append(black_scholes(S, K, T, r, sigma, option_type='call')[4])\n",
    "    list_theta_put.append(black_scholes(S, K, T, r, sigma, option_type='put')[4])\n",
    "    \n",
    "df=pd.DataFrame({\"Call Price\":list_call, \"Put Price\":list_put, \"Spot Price\":spot})\n",
    "df.set_index(\"Spot Price\", inplace = True)\n",
    "px.line(df, title='Prices of a Call and Put')\n",
    "\n",
    "    \n"
   ]
  },
  {
   "cell_type": "code",
   "execution_count": 4,
   "metadata": {},
   "outputs": [
    {
     "data": {
      "application/vnd.plotly.v1+json": {
       "config": {
        "plotlyServerURL": "https://plot.ly"
       },
       "data": [
        {
         "hovertemplate": "variable=Delta Call<br>Spot Price=%{x}<br>value=%{y}<extra></extra>",
         "legendgroup": "Delta Call",
         "line": {
          "color": "#636efa",
          "dash": "solid"
         },
         "marker": {
          "symbol": "circle"
         },
         "mode": "lines",
         "name": "Delta Call",
         "orientation": "v",
         "showlegend": true,
         "type": "scatter",
         "x": [
          50,
          51,
          52,
          53,
          54,
          55,
          56,
          57,
          58,
          59,
          60,
          61,
          62,
          63,
          64,
          65,
          66,
          67,
          68,
          69,
          70,
          71,
          72,
          73,
          74,
          75,
          76,
          77,
          78,
          79,
          80,
          81,
          82,
          83,
          84,
          85,
          86,
          87,
          88,
          89,
          90,
          91,
          92,
          93,
          94,
          95,
          96,
          97,
          98,
          99,
          100,
          101,
          102,
          103,
          104,
          105,
          106,
          107,
          108,
          109,
          110,
          111,
          112,
          113,
          114,
          115,
          116,
          117,
          118,
          119,
          120,
          121,
          122,
          123,
          124,
          125,
          126,
          127,
          128,
          129,
          130,
          131,
          132,
          133,
          134,
          135,
          136,
          137,
          138,
          139,
          140,
          141,
          142,
          143,
          144,
          145,
          146,
          147,
          148,
          149,
          150,
          151,
          152,
          153,
          154,
          155,
          156,
          157,
          158,
          159,
          160,
          161,
          162,
          163,
          164,
          165,
          166,
          167,
          168,
          169,
          170,
          171,
          172,
          173,
          174,
          175,
          176,
          177,
          178,
          179,
          180,
          181,
          182,
          183,
          184,
          185,
          186,
          187,
          188,
          189,
          190,
          191,
          192,
          193,
          194,
          195,
          196,
          197,
          198,
          199
         ],
         "xaxis": "x",
         "y": [
          4.95055881009244e-19,
          4.63863365388096e-18,
          3.912597387330514e-17,
          2.9863656915649345e-16,
          2.072725670518423e-15,
          1.3141545790668657e-14,
          7.643966280211098e-14,
          4.095504257923032e-13,
          2.028880123389945e-12,
          9.326382758157238e-12,
          3.9914985566111234e-11,
          1.595511151607e-10,
          5.974523384996528e-10,
          2.10171280453862e-9,
          6.964196821080145e-9,
          2.1791921520358573e-8,
          6.454888528529214e-8,
          1.814007921631491e-7,
          4.847139322077517e-7,
          0.0000012340135968753354,
          0.0000029991030180839324,
          0.000006971210996067356,
          0.00001552533890761871,
          0.00003318373592908127,
          0.00006818096242501494,
          0.00013487335569143527,
          0.0002572510450045117,
          0.0004737748378110374,
          0.0008436485356015319,
          0.0014544317936934998,
          0.002430598246358738,
          0.003942272076991598,
          0.006212986716291822,
          0.009524981380704773,
          0.014220378343278973,
          0.020696653800153397,
          0.029395185531185173,
          0.04078233699184474,
          0.05532346127967587,
          0.07345125803963155,
          0.09553092503846078,
          0.12182533261745826,
          0.15246385501195314,
          0.18741841650216423,
          0.22648973244821446,
          0.2693057130462393,
          0.3153326945093772,
          0.36389876016239997,
          0.4142271167003112,
          0.4654764780711555,
          0.5167848063625212,
          0.5673126197442014,
          0.6162823824705617,
          0.6630111592725383,
          0.7069346224185652,
          0.7476215035118579,
          0.7847785497388882,
          0.818246867370171,
          0.8479911422955351,
          0.8740835869715649,
          0.8966845808729185,
          0.9160218813723603,
          0.9323700357550455,
          0.9460312816595474,
          0.9573188393052989,
          0.9665431222751113,
          0.9740010596974115,
          0.9799684531479138,
          0.9846950956276291,
          0.9884022565333781,
          0.9912820773624438,
          0.9934984155261549,
          0.9951887040529604,
          0.9964664495402489,
          0.9974240576328313,
          0.9981357451991968,
          0.998660364536059,
          0.99904402313256,
          0.9993224306342509,
          0.9995229421332206,
          0.9996662943542797,
          0.9997680499594941,
          0.9998397766244276,
          0.9998899933779402,
          0.9999249184597021,
          0.9999490519428468,
          0.9999656236507904,
          0.9999769332741233,
          0.9999846056454489,
          0.9999897802459318,
          0.9999932504348091,
          0.9999955647370787,
          0.9999970998405335,
          0.9999981127347998,
          0.9999987776345894,
          0.9999992119138593,
          0.9999994941785489,
          0.9999996767659721,
          0.999999794326883,
          0.9999998696767325,
          0.999999917758175,
          0.9999999483070541,
          0.9999999676348168,
          0.9999999798129591,
          0.9999999874554892,
          0.9999999922328972,
          0.9999999952079033,
          0.9999999970536159,
          0.9999999981945489,
          0.9999999988973209,
          0.9999999993287053,
          0.9999999995926094,
          0.999999999753524,
          0.9999999998513258,
          0.9999999999105821,
          0.9999999999463745,
          0.9999999999679294,
          0.9999999999808725,
          0.9999999999886223,
          0.9999999999932497,
          0.9999999999960053,
          0.9999999999976419,
          0.9999999999986112,
          0.9999999999991841,
          0.9999999999995217,
          0.9999999999997203,
          0.9999999999998368,
          0.999999999999905,
          0.9999999999999448,
          0.999999999999968,
          0.9999999999999815,
          0.9999999999999893,
          0.9999999999999938,
          0.9999999999999964,
          0.999999999999998,
          0.9999999999999988,
          0.9999999999999993,
          0.9999999999999997,
          0.9999999999999998,
          0.9999999999999999,
          0.9999999999999999,
          1,
          1,
          1,
          1,
          1,
          1,
          1,
          1,
          1
         ],
         "yaxis": "y"
        },
        {
         "hovertemplate": "variable=Delta Put<br>Spot Price=%{x}<br>value=%{y}<extra></extra>",
         "legendgroup": "Delta Put",
         "line": {
          "color": "#EF553B",
          "dash": "solid"
         },
         "marker": {
          "symbol": "circle"
         },
         "mode": "lines",
         "name": "Delta Put",
         "orientation": "v",
         "showlegend": true,
         "type": "scatter",
         "x": [
          50,
          51,
          52,
          53,
          54,
          55,
          56,
          57,
          58,
          59,
          60,
          61,
          62,
          63,
          64,
          65,
          66,
          67,
          68,
          69,
          70,
          71,
          72,
          73,
          74,
          75,
          76,
          77,
          78,
          79,
          80,
          81,
          82,
          83,
          84,
          85,
          86,
          87,
          88,
          89,
          90,
          91,
          92,
          93,
          94,
          95,
          96,
          97,
          98,
          99,
          100,
          101,
          102,
          103,
          104,
          105,
          106,
          107,
          108,
          109,
          110,
          111,
          112,
          113,
          114,
          115,
          116,
          117,
          118,
          119,
          120,
          121,
          122,
          123,
          124,
          125,
          126,
          127,
          128,
          129,
          130,
          131,
          132,
          133,
          134,
          135,
          136,
          137,
          138,
          139,
          140,
          141,
          142,
          143,
          144,
          145,
          146,
          147,
          148,
          149,
          150,
          151,
          152,
          153,
          154,
          155,
          156,
          157,
          158,
          159,
          160,
          161,
          162,
          163,
          164,
          165,
          166,
          167,
          168,
          169,
          170,
          171,
          172,
          173,
          174,
          175,
          176,
          177,
          178,
          179,
          180,
          181,
          182,
          183,
          184,
          185,
          186,
          187,
          188,
          189,
          190,
          191,
          192,
          193,
          194,
          195,
          196,
          197,
          198,
          199
         ],
         "xaxis": "x",
         "y": [
          -1,
          -1,
          -1,
          -0.9999999999999997,
          -0.9999999999999979,
          -0.9999999999999869,
          -0.9999999999999235,
          -0.9999999999995904,
          -0.9999999999979711,
          -0.9999999999906736,
          -0.999999999960085,
          -0.9999999998404488,
          -0.9999999994025477,
          -0.9999999978982872,
          -0.9999999930358032,
          -0.9999999782080785,
          -0.9999999354511148,
          -0.9999998185992078,
          -0.9999995152860678,
          -0.9999987659864031,
          -0.999997000896982,
          -0.999993028789004,
          -0.9999844746610924,
          -0.9999668162640709,
          -0.999931819037575,
          -0.9998651266443086,
          -0.9997427489549955,
          -0.9995262251621889,
          -0.9991563514643985,
          -0.9985455682063065,
          -0.9975694017536413,
          -0.9960577279230084,
          -0.9937870132837082,
          -0.9904750186192952,
          -0.9857796216567211,
          -0.9793033461998466,
          -0.9706048144688149,
          -0.9592176630081553,
          -0.9446765387203241,
          -0.9265487419603684,
          -0.9044690749615392,
          -0.8781746673825417,
          -0.8475361449880469,
          -0.8125815834978358,
          -0.7735102675517855,
          -0.7306942869537607,
          -0.6846673054906228,
          -0.6361012398376,
          -0.5857728832996888,
          -0.5345235219288444,
          -0.4832151936374788,
          -0.43268738025579856,
          -0.38371761752943834,
          -0.3369888407274617,
          -0.2930653775814348,
          -0.25237849648814215,
          -0.21522145026111184,
          -0.18175313262982895,
          -0.15200885770446493,
          -0.12591641302843515,
          -0.10331541912708153,
          -0.08397811862763971,
          -0.06762996424495449,
          -0.05396871834045258,
          -0.04268116069470107,
          -0.0334568777248887,
          -0.025998940302588536,
          -0.02003154685208619,
          -0.015304904372370864,
          -0.011597743466621901,
          -0.008717922637556219,
          -0.006501584473845079,
          -0.004811295947039551,
          -0.0035335504597511225,
          -0.0025759423671687376,
          -0.0018642548008032112,
          -0.0013396354639410024,
          -0.0009559768674399782,
          -0.0006775693657491422,
          -0.00047705786677942896,
          -0.000333705645720328,
          -0.00023195004050591272,
          -0.0001602233755724214,
          -0.0001100066220598439,
          -0.00007508154029789438,
          -0.000050948057153221704,
          -0.00003437634920955279,
          -0.000023066725876708105,
          -0.0000153943545511126,
          -0.00001021975406823028,
          -0.000006749565190866669,
          -0.000004435262921265171,
          -0.000002900159466467933,
          -0.0000018872652002288604,
          -0.0000012223654105580906,
          -7.880861406794892e-7,
          -5.058214510578196e-7,
          -3.2323402787692856e-7,
          -2.0567311698194146e-7,
          -1.3032326751094558e-7,
          -8.224182501681554e-8,
          -5.1692945923775824e-8,
          -3.236518320015591e-8,
          -2.018704092776602e-8,
          -1.254451076349028e-8,
          -7.767102849776109e-9,
          -4.792096719441474e-9,
          -2.946384136670588e-9,
          -1.8054511219389724e-9,
          -1.1026790591728286e-9,
          -6.71294686505064e-10,
          -4.0739056572647314e-10,
          -2.464759507603276e-10,
          -1.486741840750483e-10,
          -8.941791751482242e-11,
          -5.362554844623446e-11,
          -3.207056842313705e-11,
          -1.912747737975451e-11,
          -1.1377676578661067e-11,
          -6.750267012023414e-12,
          -3.994693464903776e-12,
          -2.3581137043038325e-12,
          -1.3887779815036083e-12,
          -8.159029007970275e-13,
          -4.782840790085174e-13,
          -2.7966517990307693e-13,
          -1.63202784619898e-13,
          -9.50350909079134e-14,
          -5.517808432387028e-14,
          -3.197442310920451e-14,
          -1.8540724511240114e-14,
          -1.0658141036401503e-14,
          -6.217248937900877e-15,
          -3.552713678800501e-15,
          -1.9984014443252818e-15,
          -1.2212453270876722e-15,
          -6.661338147750939e-16,
          -3.3306690738754696e-16,
          -2.220446049250313e-16,
          -1.1102230246251565e-16,
          -1.1102230246251565e-16,
          0,
          0,
          0,
          0,
          0,
          0,
          0,
          0,
          0
         ],
         "yaxis": "y"
        }
       ],
       "layout": {
        "legend": {
         "title": {
          "text": "variable"
         },
         "tracegroupgap": 0
        },
        "template": {
         "data": {
          "bar": [
           {
            "error_x": {
             "color": "#2a3f5f"
            },
            "error_y": {
             "color": "#2a3f5f"
            },
            "marker": {
             "line": {
              "color": "#E5ECF6",
              "width": 0.5
             },
             "pattern": {
              "fillmode": "overlay",
              "size": 10,
              "solidity": 0.2
             }
            },
            "type": "bar"
           }
          ],
          "barpolar": [
           {
            "marker": {
             "line": {
              "color": "#E5ECF6",
              "width": 0.5
             },
             "pattern": {
              "fillmode": "overlay",
              "size": 10,
              "solidity": 0.2
             }
            },
            "type": "barpolar"
           }
          ],
          "carpet": [
           {
            "aaxis": {
             "endlinecolor": "#2a3f5f",
             "gridcolor": "white",
             "linecolor": "white",
             "minorgridcolor": "white",
             "startlinecolor": "#2a3f5f"
            },
            "baxis": {
             "endlinecolor": "#2a3f5f",
             "gridcolor": "white",
             "linecolor": "white",
             "minorgridcolor": "white",
             "startlinecolor": "#2a3f5f"
            },
            "type": "carpet"
           }
          ],
          "choropleth": [
           {
            "colorbar": {
             "outlinewidth": 0,
             "ticks": ""
            },
            "type": "choropleth"
           }
          ],
          "contour": [
           {
            "colorbar": {
             "outlinewidth": 0,
             "ticks": ""
            },
            "colorscale": [
             [
              0,
              "#0d0887"
             ],
             [
              0.1111111111111111,
              "#46039f"
             ],
             [
              0.2222222222222222,
              "#7201a8"
             ],
             [
              0.3333333333333333,
              "#9c179e"
             ],
             [
              0.4444444444444444,
              "#bd3786"
             ],
             [
              0.5555555555555556,
              "#d8576b"
             ],
             [
              0.6666666666666666,
              "#ed7953"
             ],
             [
              0.7777777777777778,
              "#fb9f3a"
             ],
             [
              0.8888888888888888,
              "#fdca26"
             ],
             [
              1,
              "#f0f921"
             ]
            ],
            "type": "contour"
           }
          ],
          "contourcarpet": [
           {
            "colorbar": {
             "outlinewidth": 0,
             "ticks": ""
            },
            "type": "contourcarpet"
           }
          ],
          "heatmap": [
           {
            "colorbar": {
             "outlinewidth": 0,
             "ticks": ""
            },
            "colorscale": [
             [
              0,
              "#0d0887"
             ],
             [
              0.1111111111111111,
              "#46039f"
             ],
             [
              0.2222222222222222,
              "#7201a8"
             ],
             [
              0.3333333333333333,
              "#9c179e"
             ],
             [
              0.4444444444444444,
              "#bd3786"
             ],
             [
              0.5555555555555556,
              "#d8576b"
             ],
             [
              0.6666666666666666,
              "#ed7953"
             ],
             [
              0.7777777777777778,
              "#fb9f3a"
             ],
             [
              0.8888888888888888,
              "#fdca26"
             ],
             [
              1,
              "#f0f921"
             ]
            ],
            "type": "heatmap"
           }
          ],
          "heatmapgl": [
           {
            "colorbar": {
             "outlinewidth": 0,
             "ticks": ""
            },
            "colorscale": [
             [
              0,
              "#0d0887"
             ],
             [
              0.1111111111111111,
              "#46039f"
             ],
             [
              0.2222222222222222,
              "#7201a8"
             ],
             [
              0.3333333333333333,
              "#9c179e"
             ],
             [
              0.4444444444444444,
              "#bd3786"
             ],
             [
              0.5555555555555556,
              "#d8576b"
             ],
             [
              0.6666666666666666,
              "#ed7953"
             ],
             [
              0.7777777777777778,
              "#fb9f3a"
             ],
             [
              0.8888888888888888,
              "#fdca26"
             ],
             [
              1,
              "#f0f921"
             ]
            ],
            "type": "heatmapgl"
           }
          ],
          "histogram": [
           {
            "marker": {
             "pattern": {
              "fillmode": "overlay",
              "size": 10,
              "solidity": 0.2
             }
            },
            "type": "histogram"
           }
          ],
          "histogram2d": [
           {
            "colorbar": {
             "outlinewidth": 0,
             "ticks": ""
            },
            "colorscale": [
             [
              0,
              "#0d0887"
             ],
             [
              0.1111111111111111,
              "#46039f"
             ],
             [
              0.2222222222222222,
              "#7201a8"
             ],
             [
              0.3333333333333333,
              "#9c179e"
             ],
             [
              0.4444444444444444,
              "#bd3786"
             ],
             [
              0.5555555555555556,
              "#d8576b"
             ],
             [
              0.6666666666666666,
              "#ed7953"
             ],
             [
              0.7777777777777778,
              "#fb9f3a"
             ],
             [
              0.8888888888888888,
              "#fdca26"
             ],
             [
              1,
              "#f0f921"
             ]
            ],
            "type": "histogram2d"
           }
          ],
          "histogram2dcontour": [
           {
            "colorbar": {
             "outlinewidth": 0,
             "ticks": ""
            },
            "colorscale": [
             [
              0,
              "#0d0887"
             ],
             [
              0.1111111111111111,
              "#46039f"
             ],
             [
              0.2222222222222222,
              "#7201a8"
             ],
             [
              0.3333333333333333,
              "#9c179e"
             ],
             [
              0.4444444444444444,
              "#bd3786"
             ],
             [
              0.5555555555555556,
              "#d8576b"
             ],
             [
              0.6666666666666666,
              "#ed7953"
             ],
             [
              0.7777777777777778,
              "#fb9f3a"
             ],
             [
              0.8888888888888888,
              "#fdca26"
             ],
             [
              1,
              "#f0f921"
             ]
            ],
            "type": "histogram2dcontour"
           }
          ],
          "mesh3d": [
           {
            "colorbar": {
             "outlinewidth": 0,
             "ticks": ""
            },
            "type": "mesh3d"
           }
          ],
          "parcoords": [
           {
            "line": {
             "colorbar": {
              "outlinewidth": 0,
              "ticks": ""
             }
            },
            "type": "parcoords"
           }
          ],
          "pie": [
           {
            "automargin": true,
            "type": "pie"
           }
          ],
          "scatter": [
           {
            "fillpattern": {
             "fillmode": "overlay",
             "size": 10,
             "solidity": 0.2
            },
            "type": "scatter"
           }
          ],
          "scatter3d": [
           {
            "line": {
             "colorbar": {
              "outlinewidth": 0,
              "ticks": ""
             }
            },
            "marker": {
             "colorbar": {
              "outlinewidth": 0,
              "ticks": ""
             }
            },
            "type": "scatter3d"
           }
          ],
          "scattercarpet": [
           {
            "marker": {
             "colorbar": {
              "outlinewidth": 0,
              "ticks": ""
             }
            },
            "type": "scattercarpet"
           }
          ],
          "scattergeo": [
           {
            "marker": {
             "colorbar": {
              "outlinewidth": 0,
              "ticks": ""
             }
            },
            "type": "scattergeo"
           }
          ],
          "scattergl": [
           {
            "marker": {
             "colorbar": {
              "outlinewidth": 0,
              "ticks": ""
             }
            },
            "type": "scattergl"
           }
          ],
          "scattermapbox": [
           {
            "marker": {
             "colorbar": {
              "outlinewidth": 0,
              "ticks": ""
             }
            },
            "type": "scattermapbox"
           }
          ],
          "scatterpolar": [
           {
            "marker": {
             "colorbar": {
              "outlinewidth": 0,
              "ticks": ""
             }
            },
            "type": "scatterpolar"
           }
          ],
          "scatterpolargl": [
           {
            "marker": {
             "colorbar": {
              "outlinewidth": 0,
              "ticks": ""
             }
            },
            "type": "scatterpolargl"
           }
          ],
          "scatterternary": [
           {
            "marker": {
             "colorbar": {
              "outlinewidth": 0,
              "ticks": ""
             }
            },
            "type": "scatterternary"
           }
          ],
          "surface": [
           {
            "colorbar": {
             "outlinewidth": 0,
             "ticks": ""
            },
            "colorscale": [
             [
              0,
              "#0d0887"
             ],
             [
              0.1111111111111111,
              "#46039f"
             ],
             [
              0.2222222222222222,
              "#7201a8"
             ],
             [
              0.3333333333333333,
              "#9c179e"
             ],
             [
              0.4444444444444444,
              "#bd3786"
             ],
             [
              0.5555555555555556,
              "#d8576b"
             ],
             [
              0.6666666666666666,
              "#ed7953"
             ],
             [
              0.7777777777777778,
              "#fb9f3a"
             ],
             [
              0.8888888888888888,
              "#fdca26"
             ],
             [
              1,
              "#f0f921"
             ]
            ],
            "type": "surface"
           }
          ],
          "table": [
           {
            "cells": {
             "fill": {
              "color": "#EBF0F8"
             },
             "line": {
              "color": "white"
             }
            },
            "header": {
             "fill": {
              "color": "#C8D4E3"
             },
             "line": {
              "color": "white"
             }
            },
            "type": "table"
           }
          ]
         },
         "layout": {
          "annotationdefaults": {
           "arrowcolor": "#2a3f5f",
           "arrowhead": 0,
           "arrowwidth": 1
          },
          "autotypenumbers": "strict",
          "coloraxis": {
           "colorbar": {
            "outlinewidth": 0,
            "ticks": ""
           }
          },
          "colorscale": {
           "diverging": [
            [
             0,
             "#8e0152"
            ],
            [
             0.1,
             "#c51b7d"
            ],
            [
             0.2,
             "#de77ae"
            ],
            [
             0.3,
             "#f1b6da"
            ],
            [
             0.4,
             "#fde0ef"
            ],
            [
             0.5,
             "#f7f7f7"
            ],
            [
             0.6,
             "#e6f5d0"
            ],
            [
             0.7,
             "#b8e186"
            ],
            [
             0.8,
             "#7fbc41"
            ],
            [
             0.9,
             "#4d9221"
            ],
            [
             1,
             "#276419"
            ]
           ],
           "sequential": [
            [
             0,
             "#0d0887"
            ],
            [
             0.1111111111111111,
             "#46039f"
            ],
            [
             0.2222222222222222,
             "#7201a8"
            ],
            [
             0.3333333333333333,
             "#9c179e"
            ],
            [
             0.4444444444444444,
             "#bd3786"
            ],
            [
             0.5555555555555556,
             "#d8576b"
            ],
            [
             0.6666666666666666,
             "#ed7953"
            ],
            [
             0.7777777777777778,
             "#fb9f3a"
            ],
            [
             0.8888888888888888,
             "#fdca26"
            ],
            [
             1,
             "#f0f921"
            ]
           ],
           "sequentialminus": [
            [
             0,
             "#0d0887"
            ],
            [
             0.1111111111111111,
             "#46039f"
            ],
            [
             0.2222222222222222,
             "#7201a8"
            ],
            [
             0.3333333333333333,
             "#9c179e"
            ],
            [
             0.4444444444444444,
             "#bd3786"
            ],
            [
             0.5555555555555556,
             "#d8576b"
            ],
            [
             0.6666666666666666,
             "#ed7953"
            ],
            [
             0.7777777777777778,
             "#fb9f3a"
            ],
            [
             0.8888888888888888,
             "#fdca26"
            ],
            [
             1,
             "#f0f921"
            ]
           ]
          },
          "colorway": [
           "#636efa",
           "#EF553B",
           "#00cc96",
           "#ab63fa",
           "#FFA15A",
           "#19d3f3",
           "#FF6692",
           "#B6E880",
           "#FF97FF",
           "#FECB52"
          ],
          "font": {
           "color": "#2a3f5f"
          },
          "geo": {
           "bgcolor": "white",
           "lakecolor": "white",
           "landcolor": "#E5ECF6",
           "showlakes": true,
           "showland": true,
           "subunitcolor": "white"
          },
          "hoverlabel": {
           "align": "left"
          },
          "hovermode": "closest",
          "mapbox": {
           "style": "light"
          },
          "paper_bgcolor": "white",
          "plot_bgcolor": "#E5ECF6",
          "polar": {
           "angularaxis": {
            "gridcolor": "white",
            "linecolor": "white",
            "ticks": ""
           },
           "bgcolor": "#E5ECF6",
           "radialaxis": {
            "gridcolor": "white",
            "linecolor": "white",
            "ticks": ""
           }
          },
          "scene": {
           "xaxis": {
            "backgroundcolor": "#E5ECF6",
            "gridcolor": "white",
            "gridwidth": 2,
            "linecolor": "white",
            "showbackground": true,
            "ticks": "",
            "zerolinecolor": "white"
           },
           "yaxis": {
            "backgroundcolor": "#E5ECF6",
            "gridcolor": "white",
            "gridwidth": 2,
            "linecolor": "white",
            "showbackground": true,
            "ticks": "",
            "zerolinecolor": "white"
           },
           "zaxis": {
            "backgroundcolor": "#E5ECF6",
            "gridcolor": "white",
            "gridwidth": 2,
            "linecolor": "white",
            "showbackground": true,
            "ticks": "",
            "zerolinecolor": "white"
           }
          },
          "shapedefaults": {
           "line": {
            "color": "#2a3f5f"
           }
          },
          "ternary": {
           "aaxis": {
            "gridcolor": "white",
            "linecolor": "white",
            "ticks": ""
           },
           "baxis": {
            "gridcolor": "white",
            "linecolor": "white",
            "ticks": ""
           },
           "bgcolor": "#E5ECF6",
           "caxis": {
            "gridcolor": "white",
            "linecolor": "white",
            "ticks": ""
           }
          },
          "title": {
           "x": 0.05
          },
          "xaxis": {
           "automargin": true,
           "gridcolor": "white",
           "linecolor": "white",
           "ticks": "",
           "title": {
            "standoff": 15
           },
           "zerolinecolor": "white",
           "zerolinewidth": 2
          },
          "yaxis": {
           "automargin": true,
           "gridcolor": "white",
           "linecolor": "white",
           "ticks": "",
           "title": {
            "standoff": 15
           },
           "zerolinecolor": "white",
           "zerolinewidth": 2
          }
         }
        },
        "title": {
         "text": "Delta of a Call and Put"
        },
        "xaxis": {
         "anchor": "y",
         "domain": [
          0,
          1
         ],
         "title": {
          "text": "Spot Price"
         }
        },
        "yaxis": {
         "anchor": "x",
         "domain": [
          0,
          1
         ],
         "title": {
          "text": "value"
         }
        }
       }
      }
     },
     "metadata": {},
     "output_type": "display_data"
    }
   ],
   "source": [
    "df=pd.DataFrame({\"Delta Call\":list_delta_call, \"Delta Put\":list_delta_put, \"Spot Price\":spot})\n",
    "df.set_index(\"Spot Price\", inplace = True)\n",
    "px.line(df, title='Delta of a Call and Put')"
   ]
  },
  {
   "cell_type": "code",
   "execution_count": 5,
   "metadata": {},
   "outputs": [
    {
     "data": {
      "application/vnd.plotly.v1+json": {
       "config": {
        "plotlyServerURL": "https://plot.ly"
       },
       "data": [
        {
         "hovertemplate": "variable=Gamma Call<br>Spot Price=%{x}<br>value=%{y}<extra></extra>",
         "legendgroup": "Gamma Call",
         "line": {
          "color": "#636efa",
          "dash": "solid"
         },
         "marker": {
          "symbol": "circle"
         },
         "mode": "lines",
         "name": "Gamma Call",
         "orientation": "v",
         "showlegend": true,
         "type": "scatter",
         "x": [
          50,
          51,
          52,
          53,
          54,
          55,
          56,
          57,
          58,
          59,
          60,
          61,
          62,
          63,
          64,
          65,
          66,
          67,
          68,
          69,
          70,
          71,
          72,
          73,
          74,
          75,
          76,
          77,
          78,
          79,
          80,
          81,
          82,
          83,
          84,
          85,
          86,
          87,
          88,
          89,
          90,
          91,
          92,
          93,
          94,
          95,
          96,
          97,
          98,
          99,
          100,
          101,
          102,
          103,
          104,
          105,
          106,
          107,
          108,
          109,
          110,
          111,
          112,
          113,
          114,
          115,
          116,
          117,
          118,
          119,
          120,
          121,
          122,
          123,
          124,
          125,
          126,
          127,
          128,
          129,
          130,
          131,
          132,
          133,
          134,
          135,
          136,
          137,
          138,
          139,
          140,
          141,
          142,
          143,
          144,
          145,
          146,
          147,
          148,
          149,
          150,
          151,
          152,
          153,
          154,
          155,
          156,
          157,
          158,
          159,
          160,
          161,
          162,
          163,
          164,
          165,
          166,
          167,
          168,
          169,
          170,
          171,
          172,
          173,
          174,
          175,
          176,
          177,
          178,
          179,
          180,
          181,
          182,
          183,
          184,
          185,
          186,
          187,
          188,
          189,
          190,
          191,
          192,
          193,
          194,
          195,
          196,
          197,
          198,
          199
         ],
         "xaxis": "x",
         "y": [
          1.1346186610413044e-18,
          1.0130950403816052e-17,
          8.144321517495329e-17,
          5.925338264355063e-16,
          3.9203864060270855e-15,
          2.36958696819744e-14,
          1.3139904142525092e-13,
          6.71153609150016e-13,
          3.169506520205372e-12,
          1.3887830324617593e-11,
          5.66491822081663e-11,
          2.157892351826814e-10,
          7.698854119483856e-10,
          2.579848654717687e-9,
          8.141026364354716e-9,
          2.425290448716622e-8,
          6.837116480500755e-8,
          1.8280065268806718e-7,
          4.645136251380998e-7,
          0.0000011241086815386526,
          0.000002595590852926931,
          0.000005728880746749427,
          0.000012107587308030025,
          0.000024542110543991763,
          0.00004778709169765261,
          0.00008951573655216464,
          0.0001615450516782932,
          0.0002812420425095107,
          0.0004729541769311123,
          0.0007692095590513072,
          0.0012113444692522814,
          0.0018491664441158016,
          0.002739279180750848,
          0.003941802988998396,
          0.00551542645165612,
          0.007511003550114293,
          0.009964223848924215,
          0.012888171210383758,
          0.016266782621452387,
          0.020050266468342855,
          0.024153407407975256,
          0.02845737662679484,
          0.03281522299604065,
          0.03706071410463493,
          0.04101971383428831,
          0.04452290975075928,
          0.04741850336801939,
          0.049583480440999216,
          0.05093228007343066,
          0.051422039439323185,
          0.05105404020035906,
          0.04987144844222141,
          0.04795385220252298,
          0.045409406118533065,
          0.04236556169391529,
          0.03895938961339327,
          0.03532840471151879,
          0.031602617184224795,
          0.027898295266355948,
          0.024313674404485133,
          0.020926619173828397,
          0.01779406017889781,
          0.01495290122538061,
          0.012422024206493682,
          0.010205004433266196,
          0.008293176400952597,
          0.006668745754443359,
          0.00530771412594267,
          0.004182458021444059,
          0.003263872270824762,
          0.0025230470569539,
          0.0019324924018814282,
          0.0014669547549147723,
          0.0011038882116235708,
          0.0008236501083611141,
          0.0006094899192849477,
          0.0004473941504206962,
          0.0003258405906808865,
          0.00023550469739146021,
          0.00016895041527801314,
          0.0001203282315436971,
          0.00008509523512013987,
          0.00005976554841971986,
          0.000041694694536812066,
          0.000028898080072483054,
          0.00001990157613017111,
          0.000013620912227390917,
          0.000009266018138850643,
          0.000006266346726431514,
          0.000004213415442848313,
          0.000002817184053565253,
          0.0000018733460851116365,
          0.0000012390869794151779,
          8.153124468128939e-7,
          5.337536122288055e-7,
          3.4770147331400265e-7,
          2.2541053297456845e-7,
          1.4544388590876285e-7,
          9.341585180242823e-8,
          5.973081933621199e-8,
          3.802566468570838e-8,
          2.410471670215401e-8,
          1.5216660575253096e-8,
          9.566935517800237e-9,
          5.99108462558575e-9,
          3.7373091664071505e-9,
          2.3225996420307345e-9,
          1.4381070192799693e-9,
          8.872547842721824e-10,
          5.454859762771618e-10,
          3.3422104480278713e-10,
          2.0409619764167212e-10,
          1.2422872460654865e-10,
          7.537535073603217e-11,
          4.5592169068507544e-11,
          2.7493961828533866e-11,
          1.653112259249739e-11,
          9.910974129431895e-12,
          5.925289798470212e-12,
          3.5327399460854814e-12,
          2.100638995413153e-12,
          1.2458249926643607e-12,
          7.369805643719561e-13,
          4.3488585796795367e-13,
          2.5600063252633396e-13,
          1.5034151906301772e-13,
          8.808744619689183e-14,
          5.149567609911671e-14,
          3.003814293533896e-14,
          1.748414213399654e-14,
          1.0155641077739204e-14,
          5.886869936718028e-15,
          3.4056297561634583e-15,
          1.966380860927682e-15,
          1.1332243695570115e-15,
          6.518724268283809e-16,
          3.743067711357347e-16,
          2.1455103138193804e-16,
          1.227694855921229e-16,
          7.013354775845663e-17,
          3.9999535874926524e-17,
          2.2776956752055615e-17,
          1.2949872313283412e-17,
          7.351591785832545e-18,
          4.167351045923787e-18,
          2.358945614616225e-18,
          1.3334320747543708e-18,
          7.527220483001664e-19,
          4.243502459090444e-19,
          2.3892156199290655e-19
         ],
         "yaxis": "y"
        },
        {
         "hovertemplate": "variable=Gamma Put<br>Spot Price=%{x}<br>value=%{y}<extra></extra>",
         "legendgroup": "Gamma Put",
         "line": {
          "color": "#EF553B",
          "dash": "solid"
         },
         "marker": {
          "symbol": "circle"
         },
         "mode": "lines",
         "name": "Gamma Put",
         "orientation": "v",
         "showlegend": true,
         "type": "scatter",
         "x": [
          50,
          51,
          52,
          53,
          54,
          55,
          56,
          57,
          58,
          59,
          60,
          61,
          62,
          63,
          64,
          65,
          66,
          67,
          68,
          69,
          70,
          71,
          72,
          73,
          74,
          75,
          76,
          77,
          78,
          79,
          80,
          81,
          82,
          83,
          84,
          85,
          86,
          87,
          88,
          89,
          90,
          91,
          92,
          93,
          94,
          95,
          96,
          97,
          98,
          99,
          100,
          101,
          102,
          103,
          104,
          105,
          106,
          107,
          108,
          109,
          110,
          111,
          112,
          113,
          114,
          115,
          116,
          117,
          118,
          119,
          120,
          121,
          122,
          123,
          124,
          125,
          126,
          127,
          128,
          129,
          130,
          131,
          132,
          133,
          134,
          135,
          136,
          137,
          138,
          139,
          140,
          141,
          142,
          143,
          144,
          145,
          146,
          147,
          148,
          149,
          150,
          151,
          152,
          153,
          154,
          155,
          156,
          157,
          158,
          159,
          160,
          161,
          162,
          163,
          164,
          165,
          166,
          167,
          168,
          169,
          170,
          171,
          172,
          173,
          174,
          175,
          176,
          177,
          178,
          179,
          180,
          181,
          182,
          183,
          184,
          185,
          186,
          187,
          188,
          189,
          190,
          191,
          192,
          193,
          194,
          195,
          196,
          197,
          198,
          199
         ],
         "xaxis": "x",
         "y": [
          1.1346186610413044e-18,
          1.0130950403816052e-17,
          8.144321517495329e-17,
          5.925338264355063e-16,
          3.9203864060270855e-15,
          2.36958696819744e-14,
          1.3139904142525092e-13,
          6.71153609150016e-13,
          3.169506520205372e-12,
          1.3887830324617593e-11,
          5.66491822081663e-11,
          2.157892351826814e-10,
          7.698854119483856e-10,
          2.579848654717687e-9,
          8.141026364354716e-9,
          2.425290448716622e-8,
          6.837116480500755e-8,
          1.8280065268806718e-7,
          4.645136251380998e-7,
          0.0000011241086815386526,
          0.000002595590852926931,
          0.000005728880746749427,
          0.000012107587308030025,
          0.000024542110543991763,
          0.00004778709169765261,
          0.00008951573655216464,
          0.0001615450516782932,
          0.0002812420425095107,
          0.0004729541769311123,
          0.0007692095590513072,
          0.0012113444692522814,
          0.0018491664441158016,
          0.002739279180750848,
          0.003941802988998396,
          0.00551542645165612,
          0.007511003550114293,
          0.009964223848924215,
          0.012888171210383758,
          0.016266782621452387,
          0.020050266468342855,
          0.024153407407975256,
          0.02845737662679484,
          0.03281522299604065,
          0.03706071410463493,
          0.04101971383428831,
          0.04452290975075928,
          0.04741850336801939,
          0.049583480440999216,
          0.05093228007343066,
          0.051422039439323185,
          0.05105404020035906,
          0.04987144844222141,
          0.04795385220252298,
          0.045409406118533065,
          0.04236556169391529,
          0.03895938961339327,
          0.03532840471151879,
          0.031602617184224795,
          0.027898295266355948,
          0.024313674404485133,
          0.020926619173828397,
          0.01779406017889781,
          0.01495290122538061,
          0.012422024206493682,
          0.010205004433266196,
          0.008293176400952597,
          0.006668745754443359,
          0.00530771412594267,
          0.004182458021444059,
          0.003263872270824762,
          0.0025230470569539,
          0.0019324924018814282,
          0.0014669547549147723,
          0.0011038882116235708,
          0.0008236501083611141,
          0.0006094899192849477,
          0.0004473941504206962,
          0.0003258405906808865,
          0.00023550469739146021,
          0.00016895041527801314,
          0.0001203282315436971,
          0.00008509523512013987,
          0.00005976554841971986,
          0.000041694694536812066,
          0.000028898080072483054,
          0.00001990157613017111,
          0.000013620912227390917,
          0.000009266018138850643,
          0.000006266346726431514,
          0.000004213415442848313,
          0.000002817184053565253,
          0.0000018733460851116365,
          0.0000012390869794151779,
          8.153124468128939e-7,
          5.337536122288055e-7,
          3.4770147331400265e-7,
          2.2541053297456845e-7,
          1.4544388590876285e-7,
          9.341585180242823e-8,
          5.973081933621199e-8,
          3.802566468570838e-8,
          2.410471670215401e-8,
          1.5216660575253096e-8,
          9.566935517800237e-9,
          5.99108462558575e-9,
          3.7373091664071505e-9,
          2.3225996420307345e-9,
          1.4381070192799693e-9,
          8.872547842721824e-10,
          5.454859762771618e-10,
          3.3422104480278713e-10,
          2.0409619764167212e-10,
          1.2422872460654865e-10,
          7.537535073603217e-11,
          4.5592169068507544e-11,
          2.7493961828533866e-11,
          1.653112259249739e-11,
          9.910974129431895e-12,
          5.925289798470212e-12,
          3.5327399460854814e-12,
          2.100638995413153e-12,
          1.2458249926643607e-12,
          7.369805643719561e-13,
          4.3488585796795367e-13,
          2.5600063252633396e-13,
          1.5034151906301772e-13,
          8.808744619689183e-14,
          5.149567609911671e-14,
          3.003814293533896e-14,
          1.748414213399654e-14,
          1.0155641077739204e-14,
          5.886869936718028e-15,
          3.4056297561634583e-15,
          1.966380860927682e-15,
          1.1332243695570115e-15,
          6.518724268283809e-16,
          3.743067711357347e-16,
          2.1455103138193804e-16,
          1.227694855921229e-16,
          7.013354775845663e-17,
          3.9999535874926524e-17,
          2.2776956752055615e-17,
          1.2949872313283412e-17,
          7.351591785832545e-18,
          4.167351045923787e-18,
          2.358945614616225e-18,
          1.3334320747543708e-18,
          7.527220483001664e-19,
          4.243502459090444e-19,
          2.3892156199290655e-19
         ],
         "yaxis": "y"
        }
       ],
       "layout": {
        "legend": {
         "title": {
          "text": "variable"
         },
         "tracegroupgap": 0
        },
        "template": {
         "data": {
          "bar": [
           {
            "error_x": {
             "color": "#2a3f5f"
            },
            "error_y": {
             "color": "#2a3f5f"
            },
            "marker": {
             "line": {
              "color": "#E5ECF6",
              "width": 0.5
             },
             "pattern": {
              "fillmode": "overlay",
              "size": 10,
              "solidity": 0.2
             }
            },
            "type": "bar"
           }
          ],
          "barpolar": [
           {
            "marker": {
             "line": {
              "color": "#E5ECF6",
              "width": 0.5
             },
             "pattern": {
              "fillmode": "overlay",
              "size": 10,
              "solidity": 0.2
             }
            },
            "type": "barpolar"
           }
          ],
          "carpet": [
           {
            "aaxis": {
             "endlinecolor": "#2a3f5f",
             "gridcolor": "white",
             "linecolor": "white",
             "minorgridcolor": "white",
             "startlinecolor": "#2a3f5f"
            },
            "baxis": {
             "endlinecolor": "#2a3f5f",
             "gridcolor": "white",
             "linecolor": "white",
             "minorgridcolor": "white",
             "startlinecolor": "#2a3f5f"
            },
            "type": "carpet"
           }
          ],
          "choropleth": [
           {
            "colorbar": {
             "outlinewidth": 0,
             "ticks": ""
            },
            "type": "choropleth"
           }
          ],
          "contour": [
           {
            "colorbar": {
             "outlinewidth": 0,
             "ticks": ""
            },
            "colorscale": [
             [
              0,
              "#0d0887"
             ],
             [
              0.1111111111111111,
              "#46039f"
             ],
             [
              0.2222222222222222,
              "#7201a8"
             ],
             [
              0.3333333333333333,
              "#9c179e"
             ],
             [
              0.4444444444444444,
              "#bd3786"
             ],
             [
              0.5555555555555556,
              "#d8576b"
             ],
             [
              0.6666666666666666,
              "#ed7953"
             ],
             [
              0.7777777777777778,
              "#fb9f3a"
             ],
             [
              0.8888888888888888,
              "#fdca26"
             ],
             [
              1,
              "#f0f921"
             ]
            ],
            "type": "contour"
           }
          ],
          "contourcarpet": [
           {
            "colorbar": {
             "outlinewidth": 0,
             "ticks": ""
            },
            "type": "contourcarpet"
           }
          ],
          "heatmap": [
           {
            "colorbar": {
             "outlinewidth": 0,
             "ticks": ""
            },
            "colorscale": [
             [
              0,
              "#0d0887"
             ],
             [
              0.1111111111111111,
              "#46039f"
             ],
             [
              0.2222222222222222,
              "#7201a8"
             ],
             [
              0.3333333333333333,
              "#9c179e"
             ],
             [
              0.4444444444444444,
              "#bd3786"
             ],
             [
              0.5555555555555556,
              "#d8576b"
             ],
             [
              0.6666666666666666,
              "#ed7953"
             ],
             [
              0.7777777777777778,
              "#fb9f3a"
             ],
             [
              0.8888888888888888,
              "#fdca26"
             ],
             [
              1,
              "#f0f921"
             ]
            ],
            "type": "heatmap"
           }
          ],
          "heatmapgl": [
           {
            "colorbar": {
             "outlinewidth": 0,
             "ticks": ""
            },
            "colorscale": [
             [
              0,
              "#0d0887"
             ],
             [
              0.1111111111111111,
              "#46039f"
             ],
             [
              0.2222222222222222,
              "#7201a8"
             ],
             [
              0.3333333333333333,
              "#9c179e"
             ],
             [
              0.4444444444444444,
              "#bd3786"
             ],
             [
              0.5555555555555556,
              "#d8576b"
             ],
             [
              0.6666666666666666,
              "#ed7953"
             ],
             [
              0.7777777777777778,
              "#fb9f3a"
             ],
             [
              0.8888888888888888,
              "#fdca26"
             ],
             [
              1,
              "#f0f921"
             ]
            ],
            "type": "heatmapgl"
           }
          ],
          "histogram": [
           {
            "marker": {
             "pattern": {
              "fillmode": "overlay",
              "size": 10,
              "solidity": 0.2
             }
            },
            "type": "histogram"
           }
          ],
          "histogram2d": [
           {
            "colorbar": {
             "outlinewidth": 0,
             "ticks": ""
            },
            "colorscale": [
             [
              0,
              "#0d0887"
             ],
             [
              0.1111111111111111,
              "#46039f"
             ],
             [
              0.2222222222222222,
              "#7201a8"
             ],
             [
              0.3333333333333333,
              "#9c179e"
             ],
             [
              0.4444444444444444,
              "#bd3786"
             ],
             [
              0.5555555555555556,
              "#d8576b"
             ],
             [
              0.6666666666666666,
              "#ed7953"
             ],
             [
              0.7777777777777778,
              "#fb9f3a"
             ],
             [
              0.8888888888888888,
              "#fdca26"
             ],
             [
              1,
              "#f0f921"
             ]
            ],
            "type": "histogram2d"
           }
          ],
          "histogram2dcontour": [
           {
            "colorbar": {
             "outlinewidth": 0,
             "ticks": ""
            },
            "colorscale": [
             [
              0,
              "#0d0887"
             ],
             [
              0.1111111111111111,
              "#46039f"
             ],
             [
              0.2222222222222222,
              "#7201a8"
             ],
             [
              0.3333333333333333,
              "#9c179e"
             ],
             [
              0.4444444444444444,
              "#bd3786"
             ],
             [
              0.5555555555555556,
              "#d8576b"
             ],
             [
              0.6666666666666666,
              "#ed7953"
             ],
             [
              0.7777777777777778,
              "#fb9f3a"
             ],
             [
              0.8888888888888888,
              "#fdca26"
             ],
             [
              1,
              "#f0f921"
             ]
            ],
            "type": "histogram2dcontour"
           }
          ],
          "mesh3d": [
           {
            "colorbar": {
             "outlinewidth": 0,
             "ticks": ""
            },
            "type": "mesh3d"
           }
          ],
          "parcoords": [
           {
            "line": {
             "colorbar": {
              "outlinewidth": 0,
              "ticks": ""
             }
            },
            "type": "parcoords"
           }
          ],
          "pie": [
           {
            "automargin": true,
            "type": "pie"
           }
          ],
          "scatter": [
           {
            "fillpattern": {
             "fillmode": "overlay",
             "size": 10,
             "solidity": 0.2
            },
            "type": "scatter"
           }
          ],
          "scatter3d": [
           {
            "line": {
             "colorbar": {
              "outlinewidth": 0,
              "ticks": ""
             }
            },
            "marker": {
             "colorbar": {
              "outlinewidth": 0,
              "ticks": ""
             }
            },
            "type": "scatter3d"
           }
          ],
          "scattercarpet": [
           {
            "marker": {
             "colorbar": {
              "outlinewidth": 0,
              "ticks": ""
             }
            },
            "type": "scattercarpet"
           }
          ],
          "scattergeo": [
           {
            "marker": {
             "colorbar": {
              "outlinewidth": 0,
              "ticks": ""
             }
            },
            "type": "scattergeo"
           }
          ],
          "scattergl": [
           {
            "marker": {
             "colorbar": {
              "outlinewidth": 0,
              "ticks": ""
             }
            },
            "type": "scattergl"
           }
          ],
          "scattermapbox": [
           {
            "marker": {
             "colorbar": {
              "outlinewidth": 0,
              "ticks": ""
             }
            },
            "type": "scattermapbox"
           }
          ],
          "scatterpolar": [
           {
            "marker": {
             "colorbar": {
              "outlinewidth": 0,
              "ticks": ""
             }
            },
            "type": "scatterpolar"
           }
          ],
          "scatterpolargl": [
           {
            "marker": {
             "colorbar": {
              "outlinewidth": 0,
              "ticks": ""
             }
            },
            "type": "scatterpolargl"
           }
          ],
          "scatterternary": [
           {
            "marker": {
             "colorbar": {
              "outlinewidth": 0,
              "ticks": ""
             }
            },
            "type": "scatterternary"
           }
          ],
          "surface": [
           {
            "colorbar": {
             "outlinewidth": 0,
             "ticks": ""
            },
            "colorscale": [
             [
              0,
              "#0d0887"
             ],
             [
              0.1111111111111111,
              "#46039f"
             ],
             [
              0.2222222222222222,
              "#7201a8"
             ],
             [
              0.3333333333333333,
              "#9c179e"
             ],
             [
              0.4444444444444444,
              "#bd3786"
             ],
             [
              0.5555555555555556,
              "#d8576b"
             ],
             [
              0.6666666666666666,
              "#ed7953"
             ],
             [
              0.7777777777777778,
              "#fb9f3a"
             ],
             [
              0.8888888888888888,
              "#fdca26"
             ],
             [
              1,
              "#f0f921"
             ]
            ],
            "type": "surface"
           }
          ],
          "table": [
           {
            "cells": {
             "fill": {
              "color": "#EBF0F8"
             },
             "line": {
              "color": "white"
             }
            },
            "header": {
             "fill": {
              "color": "#C8D4E3"
             },
             "line": {
              "color": "white"
             }
            },
            "type": "table"
           }
          ]
         },
         "layout": {
          "annotationdefaults": {
           "arrowcolor": "#2a3f5f",
           "arrowhead": 0,
           "arrowwidth": 1
          },
          "autotypenumbers": "strict",
          "coloraxis": {
           "colorbar": {
            "outlinewidth": 0,
            "ticks": ""
           }
          },
          "colorscale": {
           "diverging": [
            [
             0,
             "#8e0152"
            ],
            [
             0.1,
             "#c51b7d"
            ],
            [
             0.2,
             "#de77ae"
            ],
            [
             0.3,
             "#f1b6da"
            ],
            [
             0.4,
             "#fde0ef"
            ],
            [
             0.5,
             "#f7f7f7"
            ],
            [
             0.6,
             "#e6f5d0"
            ],
            [
             0.7,
             "#b8e186"
            ],
            [
             0.8,
             "#7fbc41"
            ],
            [
             0.9,
             "#4d9221"
            ],
            [
             1,
             "#276419"
            ]
           ],
           "sequential": [
            [
             0,
             "#0d0887"
            ],
            [
             0.1111111111111111,
             "#46039f"
            ],
            [
             0.2222222222222222,
             "#7201a8"
            ],
            [
             0.3333333333333333,
             "#9c179e"
            ],
            [
             0.4444444444444444,
             "#bd3786"
            ],
            [
             0.5555555555555556,
             "#d8576b"
            ],
            [
             0.6666666666666666,
             "#ed7953"
            ],
            [
             0.7777777777777778,
             "#fb9f3a"
            ],
            [
             0.8888888888888888,
             "#fdca26"
            ],
            [
             1,
             "#f0f921"
            ]
           ],
           "sequentialminus": [
            [
             0,
             "#0d0887"
            ],
            [
             0.1111111111111111,
             "#46039f"
            ],
            [
             0.2222222222222222,
             "#7201a8"
            ],
            [
             0.3333333333333333,
             "#9c179e"
            ],
            [
             0.4444444444444444,
             "#bd3786"
            ],
            [
             0.5555555555555556,
             "#d8576b"
            ],
            [
             0.6666666666666666,
             "#ed7953"
            ],
            [
             0.7777777777777778,
             "#fb9f3a"
            ],
            [
             0.8888888888888888,
             "#fdca26"
            ],
            [
             1,
             "#f0f921"
            ]
           ]
          },
          "colorway": [
           "#636efa",
           "#EF553B",
           "#00cc96",
           "#ab63fa",
           "#FFA15A",
           "#19d3f3",
           "#FF6692",
           "#B6E880",
           "#FF97FF",
           "#FECB52"
          ],
          "font": {
           "color": "#2a3f5f"
          },
          "geo": {
           "bgcolor": "white",
           "lakecolor": "white",
           "landcolor": "#E5ECF6",
           "showlakes": true,
           "showland": true,
           "subunitcolor": "white"
          },
          "hoverlabel": {
           "align": "left"
          },
          "hovermode": "closest",
          "mapbox": {
           "style": "light"
          },
          "paper_bgcolor": "white",
          "plot_bgcolor": "#E5ECF6",
          "polar": {
           "angularaxis": {
            "gridcolor": "white",
            "linecolor": "white",
            "ticks": ""
           },
           "bgcolor": "#E5ECF6",
           "radialaxis": {
            "gridcolor": "white",
            "linecolor": "white",
            "ticks": ""
           }
          },
          "scene": {
           "xaxis": {
            "backgroundcolor": "#E5ECF6",
            "gridcolor": "white",
            "gridwidth": 2,
            "linecolor": "white",
            "showbackground": true,
            "ticks": "",
            "zerolinecolor": "white"
           },
           "yaxis": {
            "backgroundcolor": "#E5ECF6",
            "gridcolor": "white",
            "gridwidth": 2,
            "linecolor": "white",
            "showbackground": true,
            "ticks": "",
            "zerolinecolor": "white"
           },
           "zaxis": {
            "backgroundcolor": "#E5ECF6",
            "gridcolor": "white",
            "gridwidth": 2,
            "linecolor": "white",
            "showbackground": true,
            "ticks": "",
            "zerolinecolor": "white"
           }
          },
          "shapedefaults": {
           "line": {
            "color": "#2a3f5f"
           }
          },
          "ternary": {
           "aaxis": {
            "gridcolor": "white",
            "linecolor": "white",
            "ticks": ""
           },
           "baxis": {
            "gridcolor": "white",
            "linecolor": "white",
            "ticks": ""
           },
           "bgcolor": "#E5ECF6",
           "caxis": {
            "gridcolor": "white",
            "linecolor": "white",
            "ticks": ""
           }
          },
          "title": {
           "x": 0.05
          },
          "xaxis": {
           "automargin": true,
           "gridcolor": "white",
           "linecolor": "white",
           "ticks": "",
           "title": {
            "standoff": 15
           },
           "zerolinecolor": "white",
           "zerolinewidth": 2
          },
          "yaxis": {
           "automargin": true,
           "gridcolor": "white",
           "linecolor": "white",
           "ticks": "",
           "title": {
            "standoff": 15
           },
           "zerolinecolor": "white",
           "zerolinewidth": 2
          }
         }
        },
        "title": {
         "text": "Gamma of a Call and Put"
        },
        "xaxis": {
         "anchor": "y",
         "domain": [
          0,
          1
         ],
         "title": {
          "text": "Spot Price"
         }
        },
        "yaxis": {
         "anchor": "x",
         "domain": [
          0,
          1
         ],
         "title": {
          "text": "value"
         }
        }
       }
      }
     },
     "metadata": {},
     "output_type": "display_data"
    }
   ],
   "source": [
    "df=pd.DataFrame({\"Gamma Call\":list_gamma_call, \"Gamma Put\":list_gamma_put, \"Spot Price\":spot})\n",
    "df.set_index(\"Spot Price\", inplace = True)\n",
    "px.line(df, title='Gamma of a Call and Put')"
   ]
  },
  {
   "cell_type": "code",
   "execution_count": 6,
   "metadata": {},
   "outputs": [
    {
     "data": {
      "application/vnd.plotly.v1+json": {
       "config": {
        "plotlyServerURL": "https://plot.ly"
       },
       "data": [
        {
         "hovertemplate": "variable=Vega Call<br>Spot Price=%{x}<br>value=%{y}<extra></extra>",
         "legendgroup": "Vega Call",
         "line": {
          "color": "#636efa",
          "dash": "solid"
         },
         "marker": {
          "symbol": "circle"
         },
         "mode": "lines",
         "name": "Vega Call",
         "orientation": "v",
         "showlegend": true,
         "type": "scatter",
         "x": [
          50,
          51,
          52,
          53,
          54,
          55,
          56,
          57,
          58,
          59,
          60,
          61,
          62,
          63,
          64,
          65,
          66,
          67,
          68,
          69,
          70,
          71,
          72,
          73,
          74,
          75,
          76,
          77,
          78,
          79,
          80,
          81,
          82,
          83,
          84,
          85,
          86,
          87,
          88,
          89,
          90,
          91,
          92,
          93,
          94,
          95,
          96,
          97,
          98,
          99,
          100,
          101,
          102,
          103,
          104,
          105,
          106,
          107,
          108,
          109,
          110,
          111,
          112,
          113,
          114,
          115,
          116,
          117,
          118,
          119,
          120,
          121,
          122,
          123,
          124,
          125,
          126,
          127,
          128,
          129,
          130,
          131,
          132,
          133,
          134,
          135,
          136,
          137,
          138,
          139,
          140,
          141,
          142,
          143,
          144,
          145,
          146,
          147,
          148,
          149,
          150,
          151,
          152,
          153,
          154,
          155,
          156,
          157,
          158,
          159,
          160,
          161,
          162,
          163,
          164,
          165,
          166,
          167,
          168,
          169,
          170,
          171,
          172,
          173,
          174,
          175,
          176,
          177,
          178,
          179,
          180,
          181,
          182,
          183,
          184,
          185,
          186,
          187,
          188,
          189,
          190,
          191,
          192,
          193,
          194,
          195,
          196,
          197,
          198,
          199
         ],
         "xaxis": "x",
         "y": [
          1.0805892009917184e-18,
          1.0038324571552593e-17,
          8.389426812688522e-17,
          6.340676260789857e-16,
          4.3549892418952316e-15,
          2.73066688716086e-14,
          1.569780548226998e-13,
          8.306964099536771e-13,
          4.061798070084141e-12,
          1.841658566095003e-11,
          7.769030702834234e-11,
          3.058863787103839e-10,
          1.127405532773179e-9,
          3.900731165933142e-9,
          1.2703102471770256e-8,
          3.903562722220087e-8,
          1.1345706433928111e-7,
          3.1260652568256523e-7,
          8.182518105289805e-7,
          0.000002038811974402105,
          0.000004845102925463605,
          0.000011001633464519567,
          0.000023910755278029585,
          0.00004982282174816461,
          0.0000996884244328936,
          0.0001918194354689242,
          0.00035546065466431304,
          0.0006352320266814816,
          0.001096172652361481,
          0.0018288140411577938,
          0.0029533731821769914,
          0.00462185944375001,
          0.007016728842426174,
          0.010344792682365695,
          0.014825466302051648,
          0.02067314310460029,
          0.02807443793776895,
          0.03716212110148368,
          0.047988557950677066,
          0.06050215645552143,
          0.07453051428746651,
          0.0897735374653288,
          0.1058087799765669,
          0.12210975858704286,
          0.1380762634056273,
          0.15307400400022952,
          0.16647959125320635,
          0.17772608284547114,
          0.18634423536199166,
          0.1919952032551644,
          0.19449158171565353,
          0.19380519830822884,
          0.1900616679295425,
          0.18352319600438755,
          0.17456225344052867,
          0.16362943637625174,
          0.15121903060519054,
          0.13783556729226276,
          0.1239640822806765,
          0.11004600594273825,
          0.09646174933459947,
          0.08352023446255234,
          0.07145493065568548,
          0.060425457940083,
          0.050523519091324756,
          0.041781812534323094,
          0.034184625855919935,
          0.02767897092191589,
          0.02218535066308079,
          0.017607502943675985,
          0.013840715283861396,
          0.010778522383217519,
          0.008317773170343419,
          0.006362180858534477,
          0.0048245501204420916,
          0.0036279161862199276,
          0.0027058398217443707,
          0.002002088718892198,
          0.001469908176023499,
          0.0010710490897681588,
          0.0007746846145098976,
          0.000556312125674941,
          0.0003967066345391235,
          0.0002809666482520643,
          0.00019767387648819267,
          0.00013817379998947373,
          0.00009597424478393235,
          0.00006625291217070009,
          0.000045461450307871155,
          0.00003101234277000848,
          0.00002103497426662056,
          0.000014188188006896932,
          0.000009518076134448626,
          0.0000063513616094769006,
          0.0000042163485345434325,
          0.0000027849232291150115,
          0.0000018304193984327243,
          0.000001197294068800936,
          7.794974544306241e-7,
          5.05174826698378e-7,
          3.259342687346433e-7,
          2.093758649622147e-7,
          1.3392980035453241e-7,
          8.531519753759457e-8,
          5.412745256395872e-8,
          3.4205277227783544e-8,
          2.153248948131808e-8,
          1.3503961873612178e-8,
          8.4378774988841e-9,
          5.2534975109573064e-9,
          3.2594509512195627e-9,
          2.0153819196456317e-9,
          1.2420032946949574e-9,
          7.629134071259578e-10,
          4.671417063872682e-10,
          2.8515166125022274e-10,
          1.7353585301289829e-10,
          1.0529796476027663e-10,
          6.370871591315172e-11,
          3.8437556419103785e-11,
          2.312703503521529e-11,
          1.387777851828517e-11,
          8.305841149097123e-12,
          4.9583614640468135e-12,
          2.9526381525208713e-12,
          1.7539843890685403e-12,
          1.0394654222456844e-12,
          6.14593537717801e-13,
          3.6256324600505896e-13,
          2.1341310404395552e-13,
          1.2534962701666674e-13,
          7.347037942735974e-14,
          4.297450668310796e-14,
          2.508652520061225e-14,
          1.4615788287894165e-14,
          8.499174784076701e-15,
          4.933149353985477e-15,
          2.858146672912378e-15,
          1.6530151233401876e-15,
          9.543773178970779e-16,
          5.500888552704182e-16,
          3.1654329877018706e-16,
          1.8186060684071606e-16,
          1.0431978759256246e-16,
          5.974949484357626e-17,
          3.417101218886932e-17,
          1.9514333936671966e-17,
          1.1128529513326156e-17,
          6.337610301187876e-18,
          3.604393438659464e-18
         ],
         "yaxis": "y"
        },
        {
         "hovertemplate": "variable=Vega Put<br>Spot Price=%{x}<br>value=%{y}<extra></extra>",
         "legendgroup": "Vega Put",
         "line": {
          "color": "#EF553B",
          "dash": "solid"
         },
         "marker": {
          "symbol": "circle"
         },
         "mode": "lines",
         "name": "Vega Put",
         "orientation": "v",
         "showlegend": true,
         "type": "scatter",
         "x": [
          50,
          51,
          52,
          53,
          54,
          55,
          56,
          57,
          58,
          59,
          60,
          61,
          62,
          63,
          64,
          65,
          66,
          67,
          68,
          69,
          70,
          71,
          72,
          73,
          74,
          75,
          76,
          77,
          78,
          79,
          80,
          81,
          82,
          83,
          84,
          85,
          86,
          87,
          88,
          89,
          90,
          91,
          92,
          93,
          94,
          95,
          96,
          97,
          98,
          99,
          100,
          101,
          102,
          103,
          104,
          105,
          106,
          107,
          108,
          109,
          110,
          111,
          112,
          113,
          114,
          115,
          116,
          117,
          118,
          119,
          120,
          121,
          122,
          123,
          124,
          125,
          126,
          127,
          128,
          129,
          130,
          131,
          132,
          133,
          134,
          135,
          136,
          137,
          138,
          139,
          140,
          141,
          142,
          143,
          144,
          145,
          146,
          147,
          148,
          149,
          150,
          151,
          152,
          153,
          154,
          155,
          156,
          157,
          158,
          159,
          160,
          161,
          162,
          163,
          164,
          165,
          166,
          167,
          168,
          169,
          170,
          171,
          172,
          173,
          174,
          175,
          176,
          177,
          178,
          179,
          180,
          181,
          182,
          183,
          184,
          185,
          186,
          187,
          188,
          189,
          190,
          191,
          192,
          193,
          194,
          195,
          196,
          197,
          198,
          199
         ],
         "xaxis": "x",
         "y": [
          1.0805892009917184e-18,
          1.0038324571552593e-17,
          8.389426812688522e-17,
          6.340676260789857e-16,
          4.3549892418952316e-15,
          2.73066688716086e-14,
          1.569780548226998e-13,
          8.306964099536771e-13,
          4.061798070084141e-12,
          1.841658566095003e-11,
          7.769030702834234e-11,
          3.058863787103839e-10,
          1.127405532773179e-9,
          3.900731165933142e-9,
          1.2703102471770256e-8,
          3.903562722220087e-8,
          1.1345706433928111e-7,
          3.1260652568256523e-7,
          8.182518105289805e-7,
          0.000002038811974402105,
          0.000004845102925463605,
          0.000011001633464519567,
          0.000023910755278029585,
          0.00004982282174816461,
          0.0000996884244328936,
          0.0001918194354689242,
          0.00035546065466431304,
          0.0006352320266814816,
          0.001096172652361481,
          0.0018288140411577938,
          0.0029533731821769914,
          0.00462185944375001,
          0.007016728842426174,
          0.010344792682365695,
          0.014825466302051648,
          0.02067314310460029,
          0.02807443793776895,
          0.03716212110148368,
          0.047988557950677066,
          0.06050215645552143,
          0.07453051428746651,
          0.0897735374653288,
          0.1058087799765669,
          0.12210975858704286,
          0.1380762634056273,
          0.15307400400022952,
          0.16647959125320635,
          0.17772608284547114,
          0.18634423536199166,
          0.1919952032551644,
          0.19449158171565353,
          0.19380519830822884,
          0.1900616679295425,
          0.18352319600438755,
          0.17456225344052867,
          0.16362943637625174,
          0.15121903060519054,
          0.13783556729226276,
          0.1239640822806765,
          0.11004600594273825,
          0.09646174933459947,
          0.08352023446255234,
          0.07145493065568548,
          0.060425457940083,
          0.050523519091324756,
          0.041781812534323094,
          0.034184625855919935,
          0.02767897092191589,
          0.02218535066308079,
          0.017607502943675985,
          0.013840715283861396,
          0.010778522383217519,
          0.008317773170343419,
          0.006362180858534477,
          0.0048245501204420916,
          0.0036279161862199276,
          0.0027058398217443707,
          0.002002088718892198,
          0.001469908176023499,
          0.0010710490897681588,
          0.0007746846145098976,
          0.000556312125674941,
          0.0003967066345391235,
          0.0002809666482520643,
          0.00019767387648819267,
          0.00013817379998947373,
          0.00009597424478393235,
          0.00006625291217070009,
          0.000045461450307871155,
          0.00003101234277000848,
          0.00002103497426662056,
          0.000014188188006896932,
          0.000009518076134448626,
          0.0000063513616094769006,
          0.0000042163485345434325,
          0.0000027849232291150115,
          0.0000018304193984327243,
          0.000001197294068800936,
          7.794974544306241e-7,
          5.05174826698378e-7,
          3.259342687346433e-7,
          2.093758649622147e-7,
          1.3392980035453241e-7,
          8.531519753759457e-8,
          5.412745256395872e-8,
          3.4205277227783544e-8,
          2.153248948131808e-8,
          1.3503961873612178e-8,
          8.4378774988841e-9,
          5.2534975109573064e-9,
          3.2594509512195627e-9,
          2.0153819196456317e-9,
          1.2420032946949574e-9,
          7.629134071259578e-10,
          4.671417063872682e-10,
          2.8515166125022274e-10,
          1.7353585301289829e-10,
          1.0529796476027663e-10,
          6.370871591315172e-11,
          3.8437556419103785e-11,
          2.312703503521529e-11,
          1.387777851828517e-11,
          8.305841149097123e-12,
          4.9583614640468135e-12,
          2.9526381525208713e-12,
          1.7539843890685403e-12,
          1.0394654222456844e-12,
          6.14593537717801e-13,
          3.6256324600505896e-13,
          2.1341310404395552e-13,
          1.2534962701666674e-13,
          7.347037942735974e-14,
          4.297450668310796e-14,
          2.508652520061225e-14,
          1.4615788287894165e-14,
          8.499174784076701e-15,
          4.933149353985477e-15,
          2.858146672912378e-15,
          1.6530151233401876e-15,
          9.543773178970779e-16,
          5.500888552704182e-16,
          3.1654329877018706e-16,
          1.8186060684071606e-16,
          1.0431978759256246e-16,
          5.974949484357626e-17,
          3.417101218886932e-17,
          1.9514333936671966e-17,
          1.1128529513326156e-17,
          6.337610301187876e-18,
          3.604393438659464e-18
         ],
         "yaxis": "y"
        }
       ],
       "layout": {
        "legend": {
         "title": {
          "text": "variable"
         },
         "tracegroupgap": 0
        },
        "template": {
         "data": {
          "bar": [
           {
            "error_x": {
             "color": "#2a3f5f"
            },
            "error_y": {
             "color": "#2a3f5f"
            },
            "marker": {
             "line": {
              "color": "#E5ECF6",
              "width": 0.5
             },
             "pattern": {
              "fillmode": "overlay",
              "size": 10,
              "solidity": 0.2
             }
            },
            "type": "bar"
           }
          ],
          "barpolar": [
           {
            "marker": {
             "line": {
              "color": "#E5ECF6",
              "width": 0.5
             },
             "pattern": {
              "fillmode": "overlay",
              "size": 10,
              "solidity": 0.2
             }
            },
            "type": "barpolar"
           }
          ],
          "carpet": [
           {
            "aaxis": {
             "endlinecolor": "#2a3f5f",
             "gridcolor": "white",
             "linecolor": "white",
             "minorgridcolor": "white",
             "startlinecolor": "#2a3f5f"
            },
            "baxis": {
             "endlinecolor": "#2a3f5f",
             "gridcolor": "white",
             "linecolor": "white",
             "minorgridcolor": "white",
             "startlinecolor": "#2a3f5f"
            },
            "type": "carpet"
           }
          ],
          "choropleth": [
           {
            "colorbar": {
             "outlinewidth": 0,
             "ticks": ""
            },
            "type": "choropleth"
           }
          ],
          "contour": [
           {
            "colorbar": {
             "outlinewidth": 0,
             "ticks": ""
            },
            "colorscale": [
             [
              0,
              "#0d0887"
             ],
             [
              0.1111111111111111,
              "#46039f"
             ],
             [
              0.2222222222222222,
              "#7201a8"
             ],
             [
              0.3333333333333333,
              "#9c179e"
             ],
             [
              0.4444444444444444,
              "#bd3786"
             ],
             [
              0.5555555555555556,
              "#d8576b"
             ],
             [
              0.6666666666666666,
              "#ed7953"
             ],
             [
              0.7777777777777778,
              "#fb9f3a"
             ],
             [
              0.8888888888888888,
              "#fdca26"
             ],
             [
              1,
              "#f0f921"
             ]
            ],
            "type": "contour"
           }
          ],
          "contourcarpet": [
           {
            "colorbar": {
             "outlinewidth": 0,
             "ticks": ""
            },
            "type": "contourcarpet"
           }
          ],
          "heatmap": [
           {
            "colorbar": {
             "outlinewidth": 0,
             "ticks": ""
            },
            "colorscale": [
             [
              0,
              "#0d0887"
             ],
             [
              0.1111111111111111,
              "#46039f"
             ],
             [
              0.2222222222222222,
              "#7201a8"
             ],
             [
              0.3333333333333333,
              "#9c179e"
             ],
             [
              0.4444444444444444,
              "#bd3786"
             ],
             [
              0.5555555555555556,
              "#d8576b"
             ],
             [
              0.6666666666666666,
              "#ed7953"
             ],
             [
              0.7777777777777778,
              "#fb9f3a"
             ],
             [
              0.8888888888888888,
              "#fdca26"
             ],
             [
              1,
              "#f0f921"
             ]
            ],
            "type": "heatmap"
           }
          ],
          "heatmapgl": [
           {
            "colorbar": {
             "outlinewidth": 0,
             "ticks": ""
            },
            "colorscale": [
             [
              0,
              "#0d0887"
             ],
             [
              0.1111111111111111,
              "#46039f"
             ],
             [
              0.2222222222222222,
              "#7201a8"
             ],
             [
              0.3333333333333333,
              "#9c179e"
             ],
             [
              0.4444444444444444,
              "#bd3786"
             ],
             [
              0.5555555555555556,
              "#d8576b"
             ],
             [
              0.6666666666666666,
              "#ed7953"
             ],
             [
              0.7777777777777778,
              "#fb9f3a"
             ],
             [
              0.8888888888888888,
              "#fdca26"
             ],
             [
              1,
              "#f0f921"
             ]
            ],
            "type": "heatmapgl"
           }
          ],
          "histogram": [
           {
            "marker": {
             "pattern": {
              "fillmode": "overlay",
              "size": 10,
              "solidity": 0.2
             }
            },
            "type": "histogram"
           }
          ],
          "histogram2d": [
           {
            "colorbar": {
             "outlinewidth": 0,
             "ticks": ""
            },
            "colorscale": [
             [
              0,
              "#0d0887"
             ],
             [
              0.1111111111111111,
              "#46039f"
             ],
             [
              0.2222222222222222,
              "#7201a8"
             ],
             [
              0.3333333333333333,
              "#9c179e"
             ],
             [
              0.4444444444444444,
              "#bd3786"
             ],
             [
              0.5555555555555556,
              "#d8576b"
             ],
             [
              0.6666666666666666,
              "#ed7953"
             ],
             [
              0.7777777777777778,
              "#fb9f3a"
             ],
             [
              0.8888888888888888,
              "#fdca26"
             ],
             [
              1,
              "#f0f921"
             ]
            ],
            "type": "histogram2d"
           }
          ],
          "histogram2dcontour": [
           {
            "colorbar": {
             "outlinewidth": 0,
             "ticks": ""
            },
            "colorscale": [
             [
              0,
              "#0d0887"
             ],
             [
              0.1111111111111111,
              "#46039f"
             ],
             [
              0.2222222222222222,
              "#7201a8"
             ],
             [
              0.3333333333333333,
              "#9c179e"
             ],
             [
              0.4444444444444444,
              "#bd3786"
             ],
             [
              0.5555555555555556,
              "#d8576b"
             ],
             [
              0.6666666666666666,
              "#ed7953"
             ],
             [
              0.7777777777777778,
              "#fb9f3a"
             ],
             [
              0.8888888888888888,
              "#fdca26"
             ],
             [
              1,
              "#f0f921"
             ]
            ],
            "type": "histogram2dcontour"
           }
          ],
          "mesh3d": [
           {
            "colorbar": {
             "outlinewidth": 0,
             "ticks": ""
            },
            "type": "mesh3d"
           }
          ],
          "parcoords": [
           {
            "line": {
             "colorbar": {
              "outlinewidth": 0,
              "ticks": ""
             }
            },
            "type": "parcoords"
           }
          ],
          "pie": [
           {
            "automargin": true,
            "type": "pie"
           }
          ],
          "scatter": [
           {
            "fillpattern": {
             "fillmode": "overlay",
             "size": 10,
             "solidity": 0.2
            },
            "type": "scatter"
           }
          ],
          "scatter3d": [
           {
            "line": {
             "colorbar": {
              "outlinewidth": 0,
              "ticks": ""
             }
            },
            "marker": {
             "colorbar": {
              "outlinewidth": 0,
              "ticks": ""
             }
            },
            "type": "scatter3d"
           }
          ],
          "scattercarpet": [
           {
            "marker": {
             "colorbar": {
              "outlinewidth": 0,
              "ticks": ""
             }
            },
            "type": "scattercarpet"
           }
          ],
          "scattergeo": [
           {
            "marker": {
             "colorbar": {
              "outlinewidth": 0,
              "ticks": ""
             }
            },
            "type": "scattergeo"
           }
          ],
          "scattergl": [
           {
            "marker": {
             "colorbar": {
              "outlinewidth": 0,
              "ticks": ""
             }
            },
            "type": "scattergl"
           }
          ],
          "scattermapbox": [
           {
            "marker": {
             "colorbar": {
              "outlinewidth": 0,
              "ticks": ""
             }
            },
            "type": "scattermapbox"
           }
          ],
          "scatterpolar": [
           {
            "marker": {
             "colorbar": {
              "outlinewidth": 0,
              "ticks": ""
             }
            },
            "type": "scatterpolar"
           }
          ],
          "scatterpolargl": [
           {
            "marker": {
             "colorbar": {
              "outlinewidth": 0,
              "ticks": ""
             }
            },
            "type": "scatterpolargl"
           }
          ],
          "scatterternary": [
           {
            "marker": {
             "colorbar": {
              "outlinewidth": 0,
              "ticks": ""
             }
            },
            "type": "scatterternary"
           }
          ],
          "surface": [
           {
            "colorbar": {
             "outlinewidth": 0,
             "ticks": ""
            },
            "colorscale": [
             [
              0,
              "#0d0887"
             ],
             [
              0.1111111111111111,
              "#46039f"
             ],
             [
              0.2222222222222222,
              "#7201a8"
             ],
             [
              0.3333333333333333,
              "#9c179e"
             ],
             [
              0.4444444444444444,
              "#bd3786"
             ],
             [
              0.5555555555555556,
              "#d8576b"
             ],
             [
              0.6666666666666666,
              "#ed7953"
             ],
             [
              0.7777777777777778,
              "#fb9f3a"
             ],
             [
              0.8888888888888888,
              "#fdca26"
             ],
             [
              1,
              "#f0f921"
             ]
            ],
            "type": "surface"
           }
          ],
          "table": [
           {
            "cells": {
             "fill": {
              "color": "#EBF0F8"
             },
             "line": {
              "color": "white"
             }
            },
            "header": {
             "fill": {
              "color": "#C8D4E3"
             },
             "line": {
              "color": "white"
             }
            },
            "type": "table"
           }
          ]
         },
         "layout": {
          "annotationdefaults": {
           "arrowcolor": "#2a3f5f",
           "arrowhead": 0,
           "arrowwidth": 1
          },
          "autotypenumbers": "strict",
          "coloraxis": {
           "colorbar": {
            "outlinewidth": 0,
            "ticks": ""
           }
          },
          "colorscale": {
           "diverging": [
            [
             0,
             "#8e0152"
            ],
            [
             0.1,
             "#c51b7d"
            ],
            [
             0.2,
             "#de77ae"
            ],
            [
             0.3,
             "#f1b6da"
            ],
            [
             0.4,
             "#fde0ef"
            ],
            [
             0.5,
             "#f7f7f7"
            ],
            [
             0.6,
             "#e6f5d0"
            ],
            [
             0.7,
             "#b8e186"
            ],
            [
             0.8,
             "#7fbc41"
            ],
            [
             0.9,
             "#4d9221"
            ],
            [
             1,
             "#276419"
            ]
           ],
           "sequential": [
            [
             0,
             "#0d0887"
            ],
            [
             0.1111111111111111,
             "#46039f"
            ],
            [
             0.2222222222222222,
             "#7201a8"
            ],
            [
             0.3333333333333333,
             "#9c179e"
            ],
            [
             0.4444444444444444,
             "#bd3786"
            ],
            [
             0.5555555555555556,
             "#d8576b"
            ],
            [
             0.6666666666666666,
             "#ed7953"
            ],
            [
             0.7777777777777778,
             "#fb9f3a"
            ],
            [
             0.8888888888888888,
             "#fdca26"
            ],
            [
             1,
             "#f0f921"
            ]
           ],
           "sequentialminus": [
            [
             0,
             "#0d0887"
            ],
            [
             0.1111111111111111,
             "#46039f"
            ],
            [
             0.2222222222222222,
             "#7201a8"
            ],
            [
             0.3333333333333333,
             "#9c179e"
            ],
            [
             0.4444444444444444,
             "#bd3786"
            ],
            [
             0.5555555555555556,
             "#d8576b"
            ],
            [
             0.6666666666666666,
             "#ed7953"
            ],
            [
             0.7777777777777778,
             "#fb9f3a"
            ],
            [
             0.8888888888888888,
             "#fdca26"
            ],
            [
             1,
             "#f0f921"
            ]
           ]
          },
          "colorway": [
           "#636efa",
           "#EF553B",
           "#00cc96",
           "#ab63fa",
           "#FFA15A",
           "#19d3f3",
           "#FF6692",
           "#B6E880",
           "#FF97FF",
           "#FECB52"
          ],
          "font": {
           "color": "#2a3f5f"
          },
          "geo": {
           "bgcolor": "white",
           "lakecolor": "white",
           "landcolor": "#E5ECF6",
           "showlakes": true,
           "showland": true,
           "subunitcolor": "white"
          },
          "hoverlabel": {
           "align": "left"
          },
          "hovermode": "closest",
          "mapbox": {
           "style": "light"
          },
          "paper_bgcolor": "white",
          "plot_bgcolor": "#E5ECF6",
          "polar": {
           "angularaxis": {
            "gridcolor": "white",
            "linecolor": "white",
            "ticks": ""
           },
           "bgcolor": "#E5ECF6",
           "radialaxis": {
            "gridcolor": "white",
            "linecolor": "white",
            "ticks": ""
           }
          },
          "scene": {
           "xaxis": {
            "backgroundcolor": "#E5ECF6",
            "gridcolor": "white",
            "gridwidth": 2,
            "linecolor": "white",
            "showbackground": true,
            "ticks": "",
            "zerolinecolor": "white"
           },
           "yaxis": {
            "backgroundcolor": "#E5ECF6",
            "gridcolor": "white",
            "gridwidth": 2,
            "linecolor": "white",
            "showbackground": true,
            "ticks": "",
            "zerolinecolor": "white"
           },
           "zaxis": {
            "backgroundcolor": "#E5ECF6",
            "gridcolor": "white",
            "gridwidth": 2,
            "linecolor": "white",
            "showbackground": true,
            "ticks": "",
            "zerolinecolor": "white"
           }
          },
          "shapedefaults": {
           "line": {
            "color": "#2a3f5f"
           }
          },
          "ternary": {
           "aaxis": {
            "gridcolor": "white",
            "linecolor": "white",
            "ticks": ""
           },
           "baxis": {
            "gridcolor": "white",
            "linecolor": "white",
            "ticks": ""
           },
           "bgcolor": "#E5ECF6",
           "caxis": {
            "gridcolor": "white",
            "linecolor": "white",
            "ticks": ""
           }
          },
          "title": {
           "x": 0.05
          },
          "xaxis": {
           "automargin": true,
           "gridcolor": "white",
           "linecolor": "white",
           "ticks": "",
           "title": {
            "standoff": 15
           },
           "zerolinecolor": "white",
           "zerolinewidth": 2
          },
          "yaxis": {
           "automargin": true,
           "gridcolor": "white",
           "linecolor": "white",
           "ticks": "",
           "title": {
            "standoff": 15
           },
           "zerolinecolor": "white",
           "zerolinewidth": 2
          }
         }
        },
        "title": {
         "text": "Vega of a Call and Put"
        },
        "xaxis": {
         "anchor": "y",
         "domain": [
          0,
          1
         ],
         "title": {
          "text": "Spot Price"
         }
        },
        "yaxis": {
         "anchor": "x",
         "domain": [
          0,
          1
         ],
         "title": {
          "text": "value"
         }
        }
       }
      }
     },
     "metadata": {},
     "output_type": "display_data"
    }
   ],
   "source": [
    "df=pd.DataFrame({\"Vega Call\":list_vega_call, \"Vega Put\":list_vega_put, \"Spot Price\":spot})\n",
    "df.set_index(\"Spot Price\", inplace = True)\n",
    "px.line(df, title='Vega of a Call and Put')"
   ]
  },
  {
   "cell_type": "code",
   "execution_count": 7,
   "metadata": {},
   "outputs": [
    {
     "data": {
      "application/vnd.plotly.v1+json": {
       "config": {
        "plotlyServerURL": "https://plot.ly"
       },
       "data": [
        {
         "hovertemplate": "variable=Theta Call<br>Spot Price=%{x}<br>value=%{y}<extra></extra>",
         "legendgroup": "Theta Call",
         "line": {
          "color": "#636efa",
          "dash": "solid"
         },
         "marker": {
          "symbol": "circle"
         },
         "mode": "lines",
         "name": "Theta Call",
         "orientation": "v",
         "showlegend": true,
         "type": "scatter",
         "x": [
          50,
          51,
          52,
          53,
          54,
          55,
          56,
          57,
          58,
          59,
          60,
          61,
          62,
          63,
          64,
          65,
          66,
          67,
          68,
          69,
          70,
          71,
          72,
          73,
          74,
          75,
          76,
          77,
          78,
          79,
          80,
          81,
          82,
          83,
          84,
          85,
          86,
          87,
          88,
          89,
          90,
          91,
          92,
          93,
          94,
          95,
          96,
          97,
          98,
          99,
          100,
          101,
          102,
          103,
          104,
          105,
          106,
          107,
          108,
          109,
          110,
          111,
          112,
          113,
          114,
          115,
          116,
          117,
          118,
          119,
          120,
          121,
          122,
          123,
          124,
          125,
          126,
          127,
          128,
          129,
          130,
          131,
          132,
          133,
          134,
          135,
          136,
          137,
          138,
          139,
          140,
          141,
          142,
          143,
          144,
          145,
          146,
          147,
          148,
          149,
          150,
          151,
          152,
          153,
          154,
          155,
          156,
          157,
          158,
          159,
          160,
          161,
          162,
          163,
          164,
          165,
          166,
          167,
          168,
          169,
          170,
          171,
          172,
          173,
          174,
          175,
          176,
          177,
          178,
          179,
          180,
          181,
          182,
          183,
          184,
          185,
          186,
          187,
          188,
          189,
          190,
          191,
          192,
          193,
          194,
          195,
          196,
          197,
          198,
          199
         ],
         "xaxis": "x",
         "y": [
          -9.954065293922183e-20,
          -9.247183478538106e-19,
          -7.728393365513274e-18,
          -5.841192584725709e-17,
          -4.012013596602889e-16,
          -2.5156705606347104e-15,
          -1.4462191693267052e-14,
          -7.653287871597228e-14,
          -3.7422692877984745e-13,
          -1.6968259214899778e-12,
          -7.158252011736891e-12,
          -2.8184660008900895e-11,
          -1.0388334389520164e-10,
          -3.5943924875450244e-10,
          -1.1705869157660778e-9,
          -3.597245930068898e-9,
          -1.0455778779871241e-8,
          -2.8809756758936435e-8,
          -7.541298527131991e-8,
          -1.8791217136542384e-7,
          -4.465811334467297e-7,
          -0.0000010140872120906115,
          -0.000002204110885627959,
          -0.000004592951151195671,
          -0.00000919037162506591,
          -0.000017685094954644426,
          -0.00003277438388354505,
          -0.000058574088297369875,
          -0.0001010844613531567,
          -0.00016865904157181884,
          -0.00027239282005507234,
          -0.00042631852198643673,
          -0.0006472849579602509,
          -0.0009543980667537388,
          -0.0013679400676616077,
          -0.0019077465117414243,
          -0.0025911093481067004,
          -0.003430373420945191,
          -0.004430485498007993,
          -0.005586818471117493,
          -0.006883611061375098,
          -0.008293324983379499,
          -0.00977712754930596,
          -0.011286570103510188,
          -0.012766373007891315,
          -0.014158072970331528,
          -0.015404164887869552,
          -0.016452298924499672,
          -0.01725908536772501,
          -0.017793114474894286,
          -0.018036904787798506,
          -0.017987632086687123,
          -0.01765663934762291,
          -0.01706786354138002,
          -0.01625542012889919,
          -0.015260649832117503,
          -0.014128951562818098,
          -0.01290670415971931,
          -0.011638526911321782,
          -0.0103650566824615,
          -0.009121340256338777,
          -0.007935865217727472,
          -0.0068301895314641405,
          -0.005819083767105487,
          -0.004911072281448972,
          -0.004109249489095377,
          -0.0034122516371568176,
          -0.0028152792595508747,
          -0.0023110865090408424,
          -0.001890877025991119,
          -0.0015450688383806242,
          -0.001263910860598016,
          -0.0010379496489267132,
          -0.0008583567500695776,
          -0.0007171344171095637,
          -0.000607221231040772,
          -0.0005225200266253623,
          -0.0004578693023515687,
          -0.0004089767631690174,
          -0.0003723304478027996,
          -0.00034509952642847993,
          -0.00032503366492259584,
          -0.00031036704970920955,
          -0.0002997308543048943,
          -0.000292076126367344,
          -0.0002866077500246293,
          -0.0002827292291731712,
          -0.00027999746650373677,
          -0.00027808640234772174,
          -0.00027675825576748916,
          -0.00027584111711971424,
          -0.00027521172825035735,
          -0.0002747824170325639,
          -0.0002744913011261881,
          -0.0002742950242779763,
          -0.00027416342660025356,
          -0.00027407567243762276,
          -0.0002740174634823835,
          -0.00027397905079654496,
          -0.0002739538287317845,
          -0.0002739373484677435,
          -0.0002739266313008482,
          -0.0002739196941491962,
          -0.00027391522402876555,
          -0.0002739123562605472,
          -0.00027391052435049535,
          -0.00027390935902673566,
          -0.000273908620753456,
          -0.00027390815488829507,
          -0.0002739078620559482,
          -0.00027390767868286283,
          -0.00027390756427635973,
          -0.00027390749315433035,
          -0.00027390744909533996,
          -0.00027390742189467365,
          -0.0002739074051577444,
          -0.0002739073948927452,
          -0.00027390738861702305,
          -0.0002739073847920888,
          -0.00027390738246789307,
          -0.0002739073810597655,
          -0.00027390738020909136,
          -0.0002739073796966232,
          -0.0002739073793887423,
          -0.0002739073792042663,
          -0.00027390737909401935,
          -0.00027390737902830044,
          -0.00027390737898922194,
          -0.00027390737896604067,
          -0.00027390737895232204,
          -0.00027390737894422197,
          -0.0002739073789394502,
          -0.0002739073789366451,
          -0.00027390737893499974,
          -0.00027390737893403665,
          -0.000273907378933474,
          -0.000273907378933146,
          -0.0002739073789329551,
          -0.00027390737893284424,
          -0.00027390737893278,
          -0.0002739073789327428,
          -0.0002739073789327213,
          -0.00027390737893270893,
          -0.00027390737893270183,
          -0.0002739073789326977,
          -0.0002739073789326954,
          -0.00027390737893269397,
          -0.0002739073789326932,
          -0.0002739073789326928,
          -0.00027390737893269256
         ],
         "yaxis": "y"
        },
        {
         "hovertemplate": "variable=Theta Put<br>Spot Price=%{x}<br>value=%{y}<extra></extra>",
         "legendgroup": "Theta Put",
         "line": {
          "color": "#EF553B",
          "dash": "solid"
         },
         "marker": {
          "symbol": "circle"
         },
         "mode": "lines",
         "name": "Theta Put",
         "orientation": "v",
         "showlegend": true,
         "type": "scatter",
         "x": [
          50,
          51,
          52,
          53,
          54,
          55,
          56,
          57,
          58,
          59,
          60,
          61,
          62,
          63,
          64,
          65,
          66,
          67,
          68,
          69,
          70,
          71,
          72,
          73,
          74,
          75,
          76,
          77,
          78,
          79,
          80,
          81,
          82,
          83,
          84,
          85,
          86,
          87,
          88,
          89,
          90,
          91,
          92,
          93,
          94,
          95,
          96,
          97,
          98,
          99,
          100,
          101,
          102,
          103,
          104,
          105,
          106,
          107,
          108,
          109,
          110,
          111,
          112,
          113,
          114,
          115,
          116,
          117,
          118,
          119,
          120,
          121,
          122,
          123,
          124,
          125,
          126,
          127,
          128,
          129,
          130,
          131,
          132,
          133,
          134,
          135,
          136,
          137,
          138,
          139,
          140,
          141,
          142,
          143,
          144,
          145,
          146,
          147,
          148,
          149,
          150,
          151,
          152,
          153,
          154,
          155,
          156,
          157,
          158,
          159,
          160,
          161,
          162,
          163,
          164,
          165,
          166,
          167,
          168,
          169,
          170,
          171,
          172,
          173,
          174,
          175,
          176,
          177,
          178,
          179,
          180,
          181,
          182,
          183,
          184,
          185,
          186,
          187,
          188,
          189,
          190,
          191,
          192,
          193,
          194,
          195,
          196,
          197,
          198,
          199
         ],
         "xaxis": "x",
         "y": [
          0.0002739073789326921,
          0.0002739073789326913,
          0.0002739073789326845,
          0.0002739073789326338,
          0.00027390737893229103,
          0.00027390737893017656,
          0.00027390737891823,
          0.0002739073788561594,
          0.00027390737855846533,
          0.0002739073772358663,
          0.0002739073717744402,
          0.0002739073507480322,
          0.0002739072750493483,
          0.00027390701949344347,
          0.0002739062083457765,
          0.0002739037816867621,
          0.00027389692315391234,
          0.00027387856917593324,
          0.0002738319659474209,
          0.00027371946676132676,
          0.0002734607977992455,
          0.0002728932917206016,
          0.0002717032680470643,
          0.0002693144277814966,
          0.0002647170073076263,
          0.0002562222839780478,
          0.00024113299504914713,
          0.00021533329063532237,
          0.0001728229175795355,
          0.00010524833736087339,
          0.0000015145588776198923,
          -0.00015241114305374455,
          -0.0003733775790275587,
          -0.0006804906878210465,
          -0.0010940326887289155,
          -0.0016338391328087323,
          -0.0023172019691740085,
          -0.003156466042012499,
          -0.004156578119075301,
          -0.005312911092184801,
          -0.006609703682442406,
          -0.008019417604446806,
          -0.009503220170373267,
          -0.011012662724577495,
          -0.012492465628958624,
          -0.013884165591398837,
          -0.01513025750893686,
          -0.01617839154556698,
          -0.01698517798879232,
          -0.017519207095961595,
          -0.017762997408865815,
          -0.01771372470775443,
          -0.01738273196869022,
          -0.01679395616244733,
          -0.0159815127499665,
          -0.014986742453184812,
          -0.013855044183885404,
          -0.012632796780786616,
          -0.01136461953238909,
          -0.010091149303528807,
          -0.008847432877406086,
          -0.00766195783879478,
          -0.006556282152531448,
          -0.005545176388172796,
          -0.00463716490251628,
          -0.003835342110162685,
          -0.0031383442582241256,
          -0.0025413718806181827,
          -0.0020371791301081505,
          -0.001616969647058427,
          -0.0012711614594479318,
          -0.0009900034816653239,
          -0.000764042269994021,
          -0.0005844493711368855,
          -0.00044322703817687147,
          -0.00033331385210807985,
          -0.00024861264769267006,
          -0.00018396192341887648,
          -0.00013506938423632522,
          -0.00009842306887010739,
          -0.00007119214749578774,
          -0.000051126285989903625,
          -0.00003645967077651731,
          -0.00002582347537220209,
          -0.000018168747434651792,
          -0.00001270037109193708,
          -0.000008821850240478992,
          -0.000006090087571044588,
          -0.000004179023415029525,
          -0.0000028508768347969425,
          -0.0000019337381870220075,
          -0.0000013043493176651096,
          -8.750380998716966e-7,
          -5.83922193495855e-7,
          -3.8764534528410296e-7,
          -2.5604766756131606e-7,
          -1.6829350493060324e-7,
          -1.1008454969122203e-7,
          -7.167186385274806e-8,
          -4.644979909228562e-8,
          -2.996953505129033e-8,
          -1.9252368156019923e-8,
          -1.2315216503959786e-8,
          -7.845096073337578e-9,
          -4.977327854976397e-9,
          -3.145417803128725e-9,
          -1.9800940434093007e-9,
          -1.2418207638197054e-9,
          -7.759556028125573e-10,
          -4.831232559717024e-10,
          -2.997501706373201e-10,
          -1.8534366748497597e-10,
          -1.1422163812121763e-10,
          -7.016264775970469e-11,
          -4.296198141195783e-11,
          -2.6225052173599364e-11,
          -1.5960052955983617e-11,
          -9.684330844942736e-12,
          -5.859396601112886e-12,
          -3.5352008741742732e-12,
          -2.1270732732404907e-12,
          -1.276399134144317e-12,
          -7.639309753315255e-13,
          -4.560500741022284e-13,
          -2.715740844535248e-13,
          -1.613271553529326e-13,
          -9.560824890343389e-14,
          -5.652971336677955e-14,
          -3.334847379463463e-14,
          -1.9629831906545677e-14,
          -1.1529800088778342e-14,
          -6.757937508825726e-15,
          -3.952900415711452e-15,
          -2.307536067380455e-15,
          -1.3444144678064167e-15,
          -7.817908351548376e-16,
          -4.537753449873579e-16,
          -2.6290805908901896e-16,
          -1.520543714349828e-16,
          -8.778995598608105e-17,
          -5.0601122561557276e-17,
          -2.911809499167344e-17,
          -1.6729037227773168e-17,
          -9.596247320969463e-18,
          -5.4963116970827034e-18,
          -3.1433829213951653e-18,
          -1.7951281711292787e-18,
          -1.023721327227207e-18,
          -5.83004216853259e-19,
          -3.3157403112024514e-19
         ],
         "yaxis": "y"
        }
       ],
       "layout": {
        "legend": {
         "title": {
          "text": "variable"
         },
         "tracegroupgap": 0
        },
        "template": {
         "data": {
          "bar": [
           {
            "error_x": {
             "color": "#2a3f5f"
            },
            "error_y": {
             "color": "#2a3f5f"
            },
            "marker": {
             "line": {
              "color": "#E5ECF6",
              "width": 0.5
             },
             "pattern": {
              "fillmode": "overlay",
              "size": 10,
              "solidity": 0.2
             }
            },
            "type": "bar"
           }
          ],
          "barpolar": [
           {
            "marker": {
             "line": {
              "color": "#E5ECF6",
              "width": 0.5
             },
             "pattern": {
              "fillmode": "overlay",
              "size": 10,
              "solidity": 0.2
             }
            },
            "type": "barpolar"
           }
          ],
          "carpet": [
           {
            "aaxis": {
             "endlinecolor": "#2a3f5f",
             "gridcolor": "white",
             "linecolor": "white",
             "minorgridcolor": "white",
             "startlinecolor": "#2a3f5f"
            },
            "baxis": {
             "endlinecolor": "#2a3f5f",
             "gridcolor": "white",
             "linecolor": "white",
             "minorgridcolor": "white",
             "startlinecolor": "#2a3f5f"
            },
            "type": "carpet"
           }
          ],
          "choropleth": [
           {
            "colorbar": {
             "outlinewidth": 0,
             "ticks": ""
            },
            "type": "choropleth"
           }
          ],
          "contour": [
           {
            "colorbar": {
             "outlinewidth": 0,
             "ticks": ""
            },
            "colorscale": [
             [
              0,
              "#0d0887"
             ],
             [
              0.1111111111111111,
              "#46039f"
             ],
             [
              0.2222222222222222,
              "#7201a8"
             ],
             [
              0.3333333333333333,
              "#9c179e"
             ],
             [
              0.4444444444444444,
              "#bd3786"
             ],
             [
              0.5555555555555556,
              "#d8576b"
             ],
             [
              0.6666666666666666,
              "#ed7953"
             ],
             [
              0.7777777777777778,
              "#fb9f3a"
             ],
             [
              0.8888888888888888,
              "#fdca26"
             ],
             [
              1,
              "#f0f921"
             ]
            ],
            "type": "contour"
           }
          ],
          "contourcarpet": [
           {
            "colorbar": {
             "outlinewidth": 0,
             "ticks": ""
            },
            "type": "contourcarpet"
           }
          ],
          "heatmap": [
           {
            "colorbar": {
             "outlinewidth": 0,
             "ticks": ""
            },
            "colorscale": [
             [
              0,
              "#0d0887"
             ],
             [
              0.1111111111111111,
              "#46039f"
             ],
             [
              0.2222222222222222,
              "#7201a8"
             ],
             [
              0.3333333333333333,
              "#9c179e"
             ],
             [
              0.4444444444444444,
              "#bd3786"
             ],
             [
              0.5555555555555556,
              "#d8576b"
             ],
             [
              0.6666666666666666,
              "#ed7953"
             ],
             [
              0.7777777777777778,
              "#fb9f3a"
             ],
             [
              0.8888888888888888,
              "#fdca26"
             ],
             [
              1,
              "#f0f921"
             ]
            ],
            "type": "heatmap"
           }
          ],
          "heatmapgl": [
           {
            "colorbar": {
             "outlinewidth": 0,
             "ticks": ""
            },
            "colorscale": [
             [
              0,
              "#0d0887"
             ],
             [
              0.1111111111111111,
              "#46039f"
             ],
             [
              0.2222222222222222,
              "#7201a8"
             ],
             [
              0.3333333333333333,
              "#9c179e"
             ],
             [
              0.4444444444444444,
              "#bd3786"
             ],
             [
              0.5555555555555556,
              "#d8576b"
             ],
             [
              0.6666666666666666,
              "#ed7953"
             ],
             [
              0.7777777777777778,
              "#fb9f3a"
             ],
             [
              0.8888888888888888,
              "#fdca26"
             ],
             [
              1,
              "#f0f921"
             ]
            ],
            "type": "heatmapgl"
           }
          ],
          "histogram": [
           {
            "marker": {
             "pattern": {
              "fillmode": "overlay",
              "size": 10,
              "solidity": 0.2
             }
            },
            "type": "histogram"
           }
          ],
          "histogram2d": [
           {
            "colorbar": {
             "outlinewidth": 0,
             "ticks": ""
            },
            "colorscale": [
             [
              0,
              "#0d0887"
             ],
             [
              0.1111111111111111,
              "#46039f"
             ],
             [
              0.2222222222222222,
              "#7201a8"
             ],
             [
              0.3333333333333333,
              "#9c179e"
             ],
             [
              0.4444444444444444,
              "#bd3786"
             ],
             [
              0.5555555555555556,
              "#d8576b"
             ],
             [
              0.6666666666666666,
              "#ed7953"
             ],
             [
              0.7777777777777778,
              "#fb9f3a"
             ],
             [
              0.8888888888888888,
              "#fdca26"
             ],
             [
              1,
              "#f0f921"
             ]
            ],
            "type": "histogram2d"
           }
          ],
          "histogram2dcontour": [
           {
            "colorbar": {
             "outlinewidth": 0,
             "ticks": ""
            },
            "colorscale": [
             [
              0,
              "#0d0887"
             ],
             [
              0.1111111111111111,
              "#46039f"
             ],
             [
              0.2222222222222222,
              "#7201a8"
             ],
             [
              0.3333333333333333,
              "#9c179e"
             ],
             [
              0.4444444444444444,
              "#bd3786"
             ],
             [
              0.5555555555555556,
              "#d8576b"
             ],
             [
              0.6666666666666666,
              "#ed7953"
             ],
             [
              0.7777777777777778,
              "#fb9f3a"
             ],
             [
              0.8888888888888888,
              "#fdca26"
             ],
             [
              1,
              "#f0f921"
             ]
            ],
            "type": "histogram2dcontour"
           }
          ],
          "mesh3d": [
           {
            "colorbar": {
             "outlinewidth": 0,
             "ticks": ""
            },
            "type": "mesh3d"
           }
          ],
          "parcoords": [
           {
            "line": {
             "colorbar": {
              "outlinewidth": 0,
              "ticks": ""
             }
            },
            "type": "parcoords"
           }
          ],
          "pie": [
           {
            "automargin": true,
            "type": "pie"
           }
          ],
          "scatter": [
           {
            "fillpattern": {
             "fillmode": "overlay",
             "size": 10,
             "solidity": 0.2
            },
            "type": "scatter"
           }
          ],
          "scatter3d": [
           {
            "line": {
             "colorbar": {
              "outlinewidth": 0,
              "ticks": ""
             }
            },
            "marker": {
             "colorbar": {
              "outlinewidth": 0,
              "ticks": ""
             }
            },
            "type": "scatter3d"
           }
          ],
          "scattercarpet": [
           {
            "marker": {
             "colorbar": {
              "outlinewidth": 0,
              "ticks": ""
             }
            },
            "type": "scattercarpet"
           }
          ],
          "scattergeo": [
           {
            "marker": {
             "colorbar": {
              "outlinewidth": 0,
              "ticks": ""
             }
            },
            "type": "scattergeo"
           }
          ],
          "scattergl": [
           {
            "marker": {
             "colorbar": {
              "outlinewidth": 0,
              "ticks": ""
             }
            },
            "type": "scattergl"
           }
          ],
          "scattermapbox": [
           {
            "marker": {
             "colorbar": {
              "outlinewidth": 0,
              "ticks": ""
             }
            },
            "type": "scattermapbox"
           }
          ],
          "scatterpolar": [
           {
            "marker": {
             "colorbar": {
              "outlinewidth": 0,
              "ticks": ""
             }
            },
            "type": "scatterpolar"
           }
          ],
          "scatterpolargl": [
           {
            "marker": {
             "colorbar": {
              "outlinewidth": 0,
              "ticks": ""
             }
            },
            "type": "scatterpolargl"
           }
          ],
          "scatterternary": [
           {
            "marker": {
             "colorbar": {
              "outlinewidth": 0,
              "ticks": ""
             }
            },
            "type": "scatterternary"
           }
          ],
          "surface": [
           {
            "colorbar": {
             "outlinewidth": 0,
             "ticks": ""
            },
            "colorscale": [
             [
              0,
              "#0d0887"
             ],
             [
              0.1111111111111111,
              "#46039f"
             ],
             [
              0.2222222222222222,
              "#7201a8"
             ],
             [
              0.3333333333333333,
              "#9c179e"
             ],
             [
              0.4444444444444444,
              "#bd3786"
             ],
             [
              0.5555555555555556,
              "#d8576b"
             ],
             [
              0.6666666666666666,
              "#ed7953"
             ],
             [
              0.7777777777777778,
              "#fb9f3a"
             ],
             [
              0.8888888888888888,
              "#fdca26"
             ],
             [
              1,
              "#f0f921"
             ]
            ],
            "type": "surface"
           }
          ],
          "table": [
           {
            "cells": {
             "fill": {
              "color": "#EBF0F8"
             },
             "line": {
              "color": "white"
             }
            },
            "header": {
             "fill": {
              "color": "#C8D4E3"
             },
             "line": {
              "color": "white"
             }
            },
            "type": "table"
           }
          ]
         },
         "layout": {
          "annotationdefaults": {
           "arrowcolor": "#2a3f5f",
           "arrowhead": 0,
           "arrowwidth": 1
          },
          "autotypenumbers": "strict",
          "coloraxis": {
           "colorbar": {
            "outlinewidth": 0,
            "ticks": ""
           }
          },
          "colorscale": {
           "diverging": [
            [
             0,
             "#8e0152"
            ],
            [
             0.1,
             "#c51b7d"
            ],
            [
             0.2,
             "#de77ae"
            ],
            [
             0.3,
             "#f1b6da"
            ],
            [
             0.4,
             "#fde0ef"
            ],
            [
             0.5,
             "#f7f7f7"
            ],
            [
             0.6,
             "#e6f5d0"
            ],
            [
             0.7,
             "#b8e186"
            ],
            [
             0.8,
             "#7fbc41"
            ],
            [
             0.9,
             "#4d9221"
            ],
            [
             1,
             "#276419"
            ]
           ],
           "sequential": [
            [
             0,
             "#0d0887"
            ],
            [
             0.1111111111111111,
             "#46039f"
            ],
            [
             0.2222222222222222,
             "#7201a8"
            ],
            [
             0.3333333333333333,
             "#9c179e"
            ],
            [
             0.4444444444444444,
             "#bd3786"
            ],
            [
             0.5555555555555556,
             "#d8576b"
            ],
            [
             0.6666666666666666,
             "#ed7953"
            ],
            [
             0.7777777777777778,
             "#fb9f3a"
            ],
            [
             0.8888888888888888,
             "#fdca26"
            ],
            [
             1,
             "#f0f921"
            ]
           ],
           "sequentialminus": [
            [
             0,
             "#0d0887"
            ],
            [
             0.1111111111111111,
             "#46039f"
            ],
            [
             0.2222222222222222,
             "#7201a8"
            ],
            [
             0.3333333333333333,
             "#9c179e"
            ],
            [
             0.4444444444444444,
             "#bd3786"
            ],
            [
             0.5555555555555556,
             "#d8576b"
            ],
            [
             0.6666666666666666,
             "#ed7953"
            ],
            [
             0.7777777777777778,
             "#fb9f3a"
            ],
            [
             0.8888888888888888,
             "#fdca26"
            ],
            [
             1,
             "#f0f921"
            ]
           ]
          },
          "colorway": [
           "#636efa",
           "#EF553B",
           "#00cc96",
           "#ab63fa",
           "#FFA15A",
           "#19d3f3",
           "#FF6692",
           "#B6E880",
           "#FF97FF",
           "#FECB52"
          ],
          "font": {
           "color": "#2a3f5f"
          },
          "geo": {
           "bgcolor": "white",
           "lakecolor": "white",
           "landcolor": "#E5ECF6",
           "showlakes": true,
           "showland": true,
           "subunitcolor": "white"
          },
          "hoverlabel": {
           "align": "left"
          },
          "hovermode": "closest",
          "mapbox": {
           "style": "light"
          },
          "paper_bgcolor": "white",
          "plot_bgcolor": "#E5ECF6",
          "polar": {
           "angularaxis": {
            "gridcolor": "white",
            "linecolor": "white",
            "ticks": ""
           },
           "bgcolor": "#E5ECF6",
           "radialaxis": {
            "gridcolor": "white",
            "linecolor": "white",
            "ticks": ""
           }
          },
          "scene": {
           "xaxis": {
            "backgroundcolor": "#E5ECF6",
            "gridcolor": "white",
            "gridwidth": 2,
            "linecolor": "white",
            "showbackground": true,
            "ticks": "",
            "zerolinecolor": "white"
           },
           "yaxis": {
            "backgroundcolor": "#E5ECF6",
            "gridcolor": "white",
            "gridwidth": 2,
            "linecolor": "white",
            "showbackground": true,
            "ticks": "",
            "zerolinecolor": "white"
           },
           "zaxis": {
            "backgroundcolor": "#E5ECF6",
            "gridcolor": "white",
            "gridwidth": 2,
            "linecolor": "white",
            "showbackground": true,
            "ticks": "",
            "zerolinecolor": "white"
           }
          },
          "shapedefaults": {
           "line": {
            "color": "#2a3f5f"
           }
          },
          "ternary": {
           "aaxis": {
            "gridcolor": "white",
            "linecolor": "white",
            "ticks": ""
           },
           "baxis": {
            "gridcolor": "white",
            "linecolor": "white",
            "ticks": ""
           },
           "bgcolor": "#E5ECF6",
           "caxis": {
            "gridcolor": "white",
            "linecolor": "white",
            "ticks": ""
           }
          },
          "title": {
           "x": 0.05
          },
          "xaxis": {
           "automargin": true,
           "gridcolor": "white",
           "linecolor": "white",
           "ticks": "",
           "title": {
            "standoff": 15
           },
           "zerolinecolor": "white",
           "zerolinewidth": 2
          },
          "yaxis": {
           "automargin": true,
           "gridcolor": "white",
           "linecolor": "white",
           "ticks": "",
           "title": {
            "standoff": 15
           },
           "zerolinecolor": "white",
           "zerolinewidth": 2
          }
         }
        },
        "title": {
         "text": "Theta of a Call and Put"
        },
        "xaxis": {
         "anchor": "y",
         "domain": [
          0,
          1
         ],
         "title": {
          "text": "Spot Price"
         }
        },
        "yaxis": {
         "anchor": "x",
         "domain": [
          0,
          1
         ],
         "title": {
          "text": "value"
         }
        }
       }
      }
     },
     "metadata": {},
     "output_type": "display_data"
    }
   ],
   "source": [
    "df=pd.DataFrame({\"Theta Call\":list_theta_call, \"Theta Put\":list_theta_put, \"Spot Price\":spot})\n",
    "df.set_index(\"Spot Price\", inplace = True)\n",
    "px.line(df, title='Theta of a Call and Put')"
   ]
  },
  {
   "cell_type": "code",
   "execution_count": 8,
   "metadata": {},
   "outputs": [
    {
     "name": "stdout",
     "output_type": "stream",
     "text": [
      "0.5167848063625212\n",
      "3.125378735756833\n",
      "-48.55310190049529\n"
     ]
    },
    {
     "data": {
      "application/vnd.plotly.v1+json": {
       "config": {
        "plotlyServerURL": "https://plot.ly"
       },
       "data": [
        {
         "hovertemplate": "variable=PnL<br>Spot Price=%{x}<br>value=%{y}<extra></extra>",
         "legendgroup": "PnL",
         "line": {
          "color": "#636efa",
          "dash": "solid"
         },
         "marker": {
          "symbol": "circle"
         },
         "mode": "lines",
         "name": "PnL",
         "orientation": "v",
         "showlegend": true,
         "type": "scatter",
         "x": [
          90,
          91,
          92,
          93,
          94,
          95,
          96,
          97,
          98,
          99,
          100,
          101,
          102,
          103,
          104,
          105,
          106,
          107,
          108,
          109,
          110,
          111,
          112,
          113,
          114,
          115,
          116,
          117,
          118,
          119
         ],
         "xaxis": "x",
         "y": [
          2.3375597281054166,
          1.9270412176172398,
          1.544873733291083,
          1.195472079689842,
          0.8831483015577755,
          0.6119332394884713,
          0.3854021492341002,
          0.20651761352710674,
          0.07750158769418314,
          -0.0002542302992071255,
          -0.026234059347459038,
          -0.000798045051288665,
          0.07486116473592452,
          0.198799682534625,
          0.36843334887517143,
          0.5806687636209071,
          0.8320442945852617,
          1.1188714961293913,
          1.437368656195921,
          1.7837799895101591,
          2.154476041200974,
          2.546032915448901,
          2.9552898026311407,
          3.379385811771357,
          3.81577825226387,
          4.262245235972674,
          4.716875818649887,
          5.17805092892994,
          5.644418120264385,
          6.114862805601826
         ],
         "yaxis": "y"
        }
       ],
       "layout": {
        "legend": {
         "title": {
          "text": "variable"
         },
         "tracegroupgap": 0
        },
        "template": {
         "data": {
          "bar": [
           {
            "error_x": {
             "color": "#2a3f5f"
            },
            "error_y": {
             "color": "#2a3f5f"
            },
            "marker": {
             "line": {
              "color": "#E5ECF6",
              "width": 0.5
             },
             "pattern": {
              "fillmode": "overlay",
              "size": 10,
              "solidity": 0.2
             }
            },
            "type": "bar"
           }
          ],
          "barpolar": [
           {
            "marker": {
             "line": {
              "color": "#E5ECF6",
              "width": 0.5
             },
             "pattern": {
              "fillmode": "overlay",
              "size": 10,
              "solidity": 0.2
             }
            },
            "type": "barpolar"
           }
          ],
          "carpet": [
           {
            "aaxis": {
             "endlinecolor": "#2a3f5f",
             "gridcolor": "white",
             "linecolor": "white",
             "minorgridcolor": "white",
             "startlinecolor": "#2a3f5f"
            },
            "baxis": {
             "endlinecolor": "#2a3f5f",
             "gridcolor": "white",
             "linecolor": "white",
             "minorgridcolor": "white",
             "startlinecolor": "#2a3f5f"
            },
            "type": "carpet"
           }
          ],
          "choropleth": [
           {
            "colorbar": {
             "outlinewidth": 0,
             "ticks": ""
            },
            "type": "choropleth"
           }
          ],
          "contour": [
           {
            "colorbar": {
             "outlinewidth": 0,
             "ticks": ""
            },
            "colorscale": [
             [
              0,
              "#0d0887"
             ],
             [
              0.1111111111111111,
              "#46039f"
             ],
             [
              0.2222222222222222,
              "#7201a8"
             ],
             [
              0.3333333333333333,
              "#9c179e"
             ],
             [
              0.4444444444444444,
              "#bd3786"
             ],
             [
              0.5555555555555556,
              "#d8576b"
             ],
             [
              0.6666666666666666,
              "#ed7953"
             ],
             [
              0.7777777777777778,
              "#fb9f3a"
             ],
             [
              0.8888888888888888,
              "#fdca26"
             ],
             [
              1,
              "#f0f921"
             ]
            ],
            "type": "contour"
           }
          ],
          "contourcarpet": [
           {
            "colorbar": {
             "outlinewidth": 0,
             "ticks": ""
            },
            "type": "contourcarpet"
           }
          ],
          "heatmap": [
           {
            "colorbar": {
             "outlinewidth": 0,
             "ticks": ""
            },
            "colorscale": [
             [
              0,
              "#0d0887"
             ],
             [
              0.1111111111111111,
              "#46039f"
             ],
             [
              0.2222222222222222,
              "#7201a8"
             ],
             [
              0.3333333333333333,
              "#9c179e"
             ],
             [
              0.4444444444444444,
              "#bd3786"
             ],
             [
              0.5555555555555556,
              "#d8576b"
             ],
             [
              0.6666666666666666,
              "#ed7953"
             ],
             [
              0.7777777777777778,
              "#fb9f3a"
             ],
             [
              0.8888888888888888,
              "#fdca26"
             ],
             [
              1,
              "#f0f921"
             ]
            ],
            "type": "heatmap"
           }
          ],
          "heatmapgl": [
           {
            "colorbar": {
             "outlinewidth": 0,
             "ticks": ""
            },
            "colorscale": [
             [
              0,
              "#0d0887"
             ],
             [
              0.1111111111111111,
              "#46039f"
             ],
             [
              0.2222222222222222,
              "#7201a8"
             ],
             [
              0.3333333333333333,
              "#9c179e"
             ],
             [
              0.4444444444444444,
              "#bd3786"
             ],
             [
              0.5555555555555556,
              "#d8576b"
             ],
             [
              0.6666666666666666,
              "#ed7953"
             ],
             [
              0.7777777777777778,
              "#fb9f3a"
             ],
             [
              0.8888888888888888,
              "#fdca26"
             ],
             [
              1,
              "#f0f921"
             ]
            ],
            "type": "heatmapgl"
           }
          ],
          "histogram": [
           {
            "marker": {
             "pattern": {
              "fillmode": "overlay",
              "size": 10,
              "solidity": 0.2
             }
            },
            "type": "histogram"
           }
          ],
          "histogram2d": [
           {
            "colorbar": {
             "outlinewidth": 0,
             "ticks": ""
            },
            "colorscale": [
             [
              0,
              "#0d0887"
             ],
             [
              0.1111111111111111,
              "#46039f"
             ],
             [
              0.2222222222222222,
              "#7201a8"
             ],
             [
              0.3333333333333333,
              "#9c179e"
             ],
             [
              0.4444444444444444,
              "#bd3786"
             ],
             [
              0.5555555555555556,
              "#d8576b"
             ],
             [
              0.6666666666666666,
              "#ed7953"
             ],
             [
              0.7777777777777778,
              "#fb9f3a"
             ],
             [
              0.8888888888888888,
              "#fdca26"
             ],
             [
              1,
              "#f0f921"
             ]
            ],
            "type": "histogram2d"
           }
          ],
          "histogram2dcontour": [
           {
            "colorbar": {
             "outlinewidth": 0,
             "ticks": ""
            },
            "colorscale": [
             [
              0,
              "#0d0887"
             ],
             [
              0.1111111111111111,
              "#46039f"
             ],
             [
              0.2222222222222222,
              "#7201a8"
             ],
             [
              0.3333333333333333,
              "#9c179e"
             ],
             [
              0.4444444444444444,
              "#bd3786"
             ],
             [
              0.5555555555555556,
              "#d8576b"
             ],
             [
              0.6666666666666666,
              "#ed7953"
             ],
             [
              0.7777777777777778,
              "#fb9f3a"
             ],
             [
              0.8888888888888888,
              "#fdca26"
             ],
             [
              1,
              "#f0f921"
             ]
            ],
            "type": "histogram2dcontour"
           }
          ],
          "mesh3d": [
           {
            "colorbar": {
             "outlinewidth": 0,
             "ticks": ""
            },
            "type": "mesh3d"
           }
          ],
          "parcoords": [
           {
            "line": {
             "colorbar": {
              "outlinewidth": 0,
              "ticks": ""
             }
            },
            "type": "parcoords"
           }
          ],
          "pie": [
           {
            "automargin": true,
            "type": "pie"
           }
          ],
          "scatter": [
           {
            "fillpattern": {
             "fillmode": "overlay",
             "size": 10,
             "solidity": 0.2
            },
            "type": "scatter"
           }
          ],
          "scatter3d": [
           {
            "line": {
             "colorbar": {
              "outlinewidth": 0,
              "ticks": ""
             }
            },
            "marker": {
             "colorbar": {
              "outlinewidth": 0,
              "ticks": ""
             }
            },
            "type": "scatter3d"
           }
          ],
          "scattercarpet": [
           {
            "marker": {
             "colorbar": {
              "outlinewidth": 0,
              "ticks": ""
             }
            },
            "type": "scattercarpet"
           }
          ],
          "scattergeo": [
           {
            "marker": {
             "colorbar": {
              "outlinewidth": 0,
              "ticks": ""
             }
            },
            "type": "scattergeo"
           }
          ],
          "scattergl": [
           {
            "marker": {
             "colorbar": {
              "outlinewidth": 0,
              "ticks": ""
             }
            },
            "type": "scattergl"
           }
          ],
          "scattermapbox": [
           {
            "marker": {
             "colorbar": {
              "outlinewidth": 0,
              "ticks": ""
             }
            },
            "type": "scattermapbox"
           }
          ],
          "scatterpolar": [
           {
            "marker": {
             "colorbar": {
              "outlinewidth": 0,
              "ticks": ""
             }
            },
            "type": "scatterpolar"
           }
          ],
          "scatterpolargl": [
           {
            "marker": {
             "colorbar": {
              "outlinewidth": 0,
              "ticks": ""
             }
            },
            "type": "scatterpolargl"
           }
          ],
          "scatterternary": [
           {
            "marker": {
             "colorbar": {
              "outlinewidth": 0,
              "ticks": ""
             }
            },
            "type": "scatterternary"
           }
          ],
          "surface": [
           {
            "colorbar": {
             "outlinewidth": 0,
             "ticks": ""
            },
            "colorscale": [
             [
              0,
              "#0d0887"
             ],
             [
              0.1111111111111111,
              "#46039f"
             ],
             [
              0.2222222222222222,
              "#7201a8"
             ],
             [
              0.3333333333333333,
              "#9c179e"
             ],
             [
              0.4444444444444444,
              "#bd3786"
             ],
             [
              0.5555555555555556,
              "#d8576b"
             ],
             [
              0.6666666666666666,
              "#ed7953"
             ],
             [
              0.7777777777777778,
              "#fb9f3a"
             ],
             [
              0.8888888888888888,
              "#fdca26"
             ],
             [
              1,
              "#f0f921"
             ]
            ],
            "type": "surface"
           }
          ],
          "table": [
           {
            "cells": {
             "fill": {
              "color": "#EBF0F8"
             },
             "line": {
              "color": "white"
             }
            },
            "header": {
             "fill": {
              "color": "#C8D4E3"
             },
             "line": {
              "color": "white"
             }
            },
            "type": "table"
           }
          ]
         },
         "layout": {
          "annotationdefaults": {
           "arrowcolor": "#2a3f5f",
           "arrowhead": 0,
           "arrowwidth": 1
          },
          "autotypenumbers": "strict",
          "coloraxis": {
           "colorbar": {
            "outlinewidth": 0,
            "ticks": ""
           }
          },
          "colorscale": {
           "diverging": [
            [
             0,
             "#8e0152"
            ],
            [
             0.1,
             "#c51b7d"
            ],
            [
             0.2,
             "#de77ae"
            ],
            [
             0.3,
             "#f1b6da"
            ],
            [
             0.4,
             "#fde0ef"
            ],
            [
             0.5,
             "#f7f7f7"
            ],
            [
             0.6,
             "#e6f5d0"
            ],
            [
             0.7,
             "#b8e186"
            ],
            [
             0.8,
             "#7fbc41"
            ],
            [
             0.9,
             "#4d9221"
            ],
            [
             1,
             "#276419"
            ]
           ],
           "sequential": [
            [
             0,
             "#0d0887"
            ],
            [
             0.1111111111111111,
             "#46039f"
            ],
            [
             0.2222222222222222,
             "#7201a8"
            ],
            [
             0.3333333333333333,
             "#9c179e"
            ],
            [
             0.4444444444444444,
             "#bd3786"
            ],
            [
             0.5555555555555556,
             "#d8576b"
            ],
            [
             0.6666666666666666,
             "#ed7953"
            ],
            [
             0.7777777777777778,
             "#fb9f3a"
            ],
            [
             0.8888888888888888,
             "#fdca26"
            ],
            [
             1,
             "#f0f921"
            ]
           ],
           "sequentialminus": [
            [
             0,
             "#0d0887"
            ],
            [
             0.1111111111111111,
             "#46039f"
            ],
            [
             0.2222222222222222,
             "#7201a8"
            ],
            [
             0.3333333333333333,
             "#9c179e"
            ],
            [
             0.4444444444444444,
             "#bd3786"
            ],
            [
             0.5555555555555556,
             "#d8576b"
            ],
            [
             0.6666666666666666,
             "#ed7953"
            ],
            [
             0.7777777777777778,
             "#fb9f3a"
            ],
            [
             0.8888888888888888,
             "#fdca26"
            ],
            [
             1,
             "#f0f921"
            ]
           ]
          },
          "colorway": [
           "#636efa",
           "#EF553B",
           "#00cc96",
           "#ab63fa",
           "#FFA15A",
           "#19d3f3",
           "#FF6692",
           "#B6E880",
           "#FF97FF",
           "#FECB52"
          ],
          "font": {
           "color": "#2a3f5f"
          },
          "geo": {
           "bgcolor": "white",
           "lakecolor": "white",
           "landcolor": "#E5ECF6",
           "showlakes": true,
           "showland": true,
           "subunitcolor": "white"
          },
          "hoverlabel": {
           "align": "left"
          },
          "hovermode": "closest",
          "mapbox": {
           "style": "light"
          },
          "paper_bgcolor": "white",
          "plot_bgcolor": "#E5ECF6",
          "polar": {
           "angularaxis": {
            "gridcolor": "white",
            "linecolor": "white",
            "ticks": ""
           },
           "bgcolor": "#E5ECF6",
           "radialaxis": {
            "gridcolor": "white",
            "linecolor": "white",
            "ticks": ""
           }
          },
          "scene": {
           "xaxis": {
            "backgroundcolor": "#E5ECF6",
            "gridcolor": "white",
            "gridwidth": 2,
            "linecolor": "white",
            "showbackground": true,
            "ticks": "",
            "zerolinecolor": "white"
           },
           "yaxis": {
            "backgroundcolor": "#E5ECF6",
            "gridcolor": "white",
            "gridwidth": 2,
            "linecolor": "white",
            "showbackground": true,
            "ticks": "",
            "zerolinecolor": "white"
           },
           "zaxis": {
            "backgroundcolor": "#E5ECF6",
            "gridcolor": "white",
            "gridwidth": 2,
            "linecolor": "white",
            "showbackground": true,
            "ticks": "",
            "zerolinecolor": "white"
           }
          },
          "shapedefaults": {
           "line": {
            "color": "#2a3f5f"
           }
          },
          "ternary": {
           "aaxis": {
            "gridcolor": "white",
            "linecolor": "white",
            "ticks": ""
           },
           "baxis": {
            "gridcolor": "white",
            "linecolor": "white",
            "ticks": ""
           },
           "bgcolor": "#E5ECF6",
           "caxis": {
            "gridcolor": "white",
            "linecolor": "white",
            "ticks": ""
           }
          },
          "title": {
           "x": 0.05
          },
          "xaxis": {
           "automargin": true,
           "gridcolor": "white",
           "linecolor": "white",
           "ticks": "",
           "title": {
            "standoff": 15
           },
           "zerolinecolor": "white",
           "zerolinewidth": 2
          },
          "yaxis": {
           "automargin": true,
           "gridcolor": "white",
           "linecolor": "white",
           "ticks": "",
           "title": {
            "standoff": 15
           },
           "zerolinecolor": "white",
           "zerolinewidth": 2
          }
         }
        },
        "title": {
         "text": "PnL between 60d and 59d"
        },
        "xaxis": {
         "anchor": "y",
         "domain": [
          0,
          1
         ],
         "title": {
          "text": "Spot Price"
         }
        },
        "yaxis": {
         "anchor": "x",
         "domain": [
          0,
          1
         ],
         "title": {
          "text": "value"
         }
        }
       }
      }
     },
     "metadata": {},
     "output_type": "display_data"
    }
   ],
   "source": [
    "\"\"\"II - Delta Hedge\"\"\"\n",
    "k=100\n",
    "s_0=100\n",
    "T=60/252\n",
    "T_59=59/252\n",
    "sigma=0.16\n",
    "r=0.1/100\n",
    "\n",
    "Call_Price_ATM=black_scholes(s_0, k, T, r, sigma, option_type='call')[0]\n",
    "Delta_Call_Price_ATM=black_scholes(s_0, k, T, r, sigma, option_type='call')[1]\n",
    "potfolio_60d =((Call_Price_ATM)-(Delta_Call_Price_ATM*100))\n",
    "print(Delta_Call_Price_ATM)\n",
    "print(Call_Price_ATM)\n",
    "print(potfolio_60d)\n",
    "\n",
    "Call_Price_59d =[]\n",
    "spot =[]\n",
    "PnL =[]\n",
    "\n",
    "for S in range(90, 120):\n",
    "    \n",
    "    spot.append(S)\n",
    "    Call_Price_59d.append(black_scholes(S, k, T_59, r, sigma, option_type='call')[0])\n",
    "    PnL.append(Call_Price_59d[-1]-(Call_Price_ATM)-(Delta_Call_Price_ATM*100)*(spot[-1]-100)/100)\n",
    "\n",
    "\n",
    "df=pd.DataFrame({\"PnL\":PnL, \"Spot Price\":spot})\n",
    "df.set_index(\"Spot Price\", inplace = True)\n",
    "px.line(df, title='PnL between 60d and 59d')\n"
   ]
  },
  {
   "cell_type": "code",
   "execution_count": 9,
   "metadata": {},
   "outputs": [
    {
     "name": "stdout",
     "output_type": "stream",
     "text": [
      "0.5167848063625212\n",
      "3.125378735756833\n",
      "-48.55310190049529\n"
     ]
    }
   ],
   "source": [
    "\"\"\"III - P&L over a period\"\"\"\n",
    "k=100\n",
    "s_0=100\n",
    "T=60/252\n",
    "sigma=0.16\n",
    "sigma_20=0.2\n",
    "sigma_10=0.1\n",
    "r=0.1/100\n",
    "\n",
    "dt= 1/252\n",
    "nb_simu = 1000\n",
    "nb_step = 60\n",
    "\n",
    "def simulate_stock_path(s_0, r, sigma, dt):\n",
    "    nb_step = 60  # Number of time steps\n",
    "    stock_prices = np.zeros(nb_step)\n",
    "    stock_prices[0] = s_0\n",
    "    for t in range(1, nb_step):\n",
    "        z = np.random.normal(0, 1)\n",
    "        stock_prices[t] = stock_prices[t-1] * np.exp((r - 0.5 * sigma**2) * dt + sigma * np.sqrt(dt) * z)\n",
    "    return stock_prices\n",
    "\n",
    "def simulate_delta_hedging(s_0, k, r, sigma, dt):\n",
    "    stock_path = simulate_stock_path(s_0, r, sigma, dt)\n",
    "    option_values = []\n",
    "    hedge_values = []\n",
    "    pnl = []\n",
    "    spot=[]\n",
    "    current_T = 60/252\n",
    "    Call_Value = black_scholes(s_0, k, T, r, sigma, option_type='call')[0]\n",
    "    Call_delta=black_scholes(s_0, k, T, r, sigma, option_type='call')[1]\n",
    "    option_values.append(Call_Value)\n",
    "    hedge_values.append(Call_delta * s_0)\n",
    "\n",
    "    for t in range(1, 60):\n",
    "        current_T = (60 - t) / 252\n",
    "        current_S = stock_path[t]\n",
    "        spot.append(current_S)\n",
    "        current_Call_Value = black_scholes(current_S, k, current_T, r, sigma, option_type='call')[0]\n",
    "        New_Delta=black_scholes(current_S, k, current_T, r, sigma, option_type='call')[1]\n",
    "\n",
    "        option_pnl = current_Call_Value - option_values[-1]\n",
    "        hedge_pnl = (New_Delta - Call_delta) * current_S\n",
    "        pnl.append(option_pnl-hedge_pnl)\n",
    "        option_values.append(current_Call_Value)\n",
    "        hedge_values.append(New_Delta * current_S)\n",
    "        Call_delta = New_Delta\n",
    "    total_pnl = np.sum(pnl)\n",
    "    return stock_path, pnl, total_pnl, spot\n",
    "\n",
    "\n",
    "\n",
    "Call_Price_ATM=black_scholes(s_0, k, T, r, sigma, option_type='call')[0]\n",
    "Delta_Call_Price_ATM=black_scholes(s_0, k, T, r, sigma, option_type='call')[1]\n",
    "potfolio_60d =((Call_Price_ATM)-(Delta_Call_Price_ATM*100))\n",
    "print(Delta_Call_Price_ATM)\n",
    "print(Call_Price_ATM)\n",
    "print(potfolio_60d)\n",
    "\n",
    "Call_Price_59d =[]\n",
    "spot =[]\n",
    "PnL =[]\n",
    "\n"
   ]
  },
  {
   "cell_type": "code",
   "execution_count": 10,
   "metadata": {},
   "outputs": [
    {
     "data": {
      "text/plain": [
       "<matplotlib.legend.Legend at 0x1ec702635f0>"
      ]
     },
     "execution_count": 10,
     "metadata": {},
     "output_type": "execute_result"
    },
    {
     "data": {
      "image/png": "[encoded data removed]",
      "text/plain": [
       "<Figure size 640x480 with 1 Axes>"
      ]
     },
     "metadata": {},
     "output_type": "display_data"
    }
   ],
   "source": [
    "import matplotlib.pyplot as plt\n",
    "\n",
    "s_0=100\n",
    "sigma=0.16\n",
    "sigma_20=0.2\n",
    "sigma_10=0.1\n",
    "dt= 1/252\n",
    "\n",
    "stock_path_base, pnl_16, total_pnl_16, spot_16 = simulate_delta_hedging(s_0, K, r, sigma, dt)\n",
    "stock_path_base, pnl_20, total_pnl_20, spot_20 = simulate_delta_hedging(s_0, K, r, sigma_20, dt)\n",
    "stock_path_base, pnl_10, total_pnl_10, spot_10 = simulate_delta_hedging(s_0, K, r, sigma_10, dt)\n",
    "\n",
    "plt.subplot(1, 2, 2)\n",
    "plt.plot(np.cumsum(pnl_16), label=\"Base Volatility (16%)\")\n",
    "plt.plot(np.cumsum(pnl_20), label=\"High Volatility (20%)\")\n",
    "plt.plot(np.cumsum(pnl_10), label=\"Low Volatility (10%)\")\n",
    "plt.title(\"Delta-Hedging P&L\")\n",
    "plt.xlabel(\"Days\")\n",
    "plt.ylabel(\"Cumulative P&L\")\n",
    "plt.legend()"
   ]
  },
  {
   "cell_type": "code",
   "execution_count": 11,
   "metadata": {},
   "outputs": [
    {
     "data": {
      "application/vnd.plotly.v1+json": {
       "config": {
        "plotlyServerURL": "https://plot.ly"
       },
       "data": [
        {
         "hovertemplate": "variable=Spread Payoff<br>Spot Price=%{x}<br>value=%{y}<extra></extra>",
         "legendgroup": "Spread Payoff",
         "line": {
          "color": "#636efa",
          "dash": "solid"
         },
         "marker": {
          "symbol": "circle"
         },
         "mode": "lines",
         "name": "Spread Payoff",
         "orientation": "v",
         "showlegend": true,
         "type": "scatter",
         "x": [
          50,
          51,
          52,
          53,
          54,
          55,
          56,
          57,
          58,
          59,
          60,
          61,
          62,
          63,
          64,
          65,
          66,
          67,
          68,
          69,
          70,
          71,
          72,
          73,
          74,
          75,
          76,
          77,
          78,
          79,
          80,
          81,
          82,
          83,
          84,
          85,
          86,
          87,
          88,
          89,
          90,
          91,
          92,
          93,
          94,
          95,
          96,
          97,
          98,
          99,
          100,
          101,
          102,
          103,
          104,
          105,
          106,
          107,
          108,
          109,
          110,
          111,
          112,
          113,
          114,
          115,
          116,
          117,
          118,
          119,
          120,
          121,
          122,
          123,
          124,
          125,
          126,
          127,
          128,
          129,
          130,
          131,
          132,
          133,
          134,
          135,
          136,
          137,
          138,
          139,
          140,
          141,
          142,
          143,
          144,
          145,
          146,
          147,
          148,
          149,
          150,
          151,
          152,
          153,
          154,
          155,
          156,
          157,
          158,
          159,
          160,
          161,
          162,
          163,
          164,
          165,
          166,
          167,
          168,
          169,
          170,
          171,
          172,
          173,
          174,
          175,
          176,
          177,
          178,
          179,
          180,
          181,
          182,
          183,
          184,
          185,
          186,
          187,
          188,
          189,
          190,
          191,
          192,
          193,
          194,
          195,
          196,
          197,
          198,
          199
         ],
         "xaxis": "x",
         "y": [
          6.924830305238867e-10,
          3.374812148961062e-9,
          1.5028071699812626e-8,
          6.143872313532275e-8,
          2.3163712160229708e-7,
          8.087674938440754e-7,
          0.0000026254390293552654,
          0.0000079534547267299,
          0.000022563486139462416,
          0.000060143609053889235,
          0.00015109998999648388,
          0.0003588545879359608,
          0.0008079297652457923,
          0.0017289859288898348,
          0.0035259686033646143,
          0.006868946371133561,
          0.012812545362378436,
          0.02293402906247918,
          0.039477681570220115,
          0.06548469025545141,
          0.10488225523673698,
          0.16250432731425452,
          0.24402072830762012,
          0.3557617206070211,
          0.5044400707924629,
          0.696789576227877,
          0.939154377861545,
          1.2370737715796687,
          1.5949102915735154,
          2.015563859000743,
          2.5003028439045782,
          3.048726492637598,
          3.658855581477633,
          4.327332551044263,
          5.0497011721733625,
          5.820730237900547,
          6.634745876792721,
          7.485941836260055,
          8.368644874839049,
          9.277521444010713,
          10.20772054988511,
          11.154954920815825,
          12.115527755583798,
          13.08631526662529,
          14.064716215244639,
          15.048579134057174,
          16.03611649694163,
          17.02581324467911,
          18.01633521562542,
          19.006441438696744,
          19.99490305736764,
          20.980430888932002,
          21.961613218761833,
          22.936865269584757,
          23.904391736349638,
          24.862163710238626,
          25.807911129144372,
          26.739131523249977,
          27.653115253842312,
          28.546986694570542,
          29.417759936732594,
          30.262406699077044,
          31.07793328546861,
          31.861462756016046,
          32.610318039223955,
          33.322101569205536,
          33.99476720574671,
          34.626680674796745,
          35.21666550999666,
          35.764032414134334,
          36.2685910086353,
          36.73064400899611,
          37.15096486805065,
          37.53076079332958,
          37.871623714622345,
          38.17547222064201,
          38.444487689876695,
          38.6810478218045,
          38.887660559366424,
          39.06690102277523,
          39.22135359584075,
          39.353560767806556,
          39.46597978184525,
          39.5609476149218,
          39.6406543430581,
          39.7071245518604,
          39.76220614575128,
          39.8075656934416,
          39.84468931755835,
          39.87488808363706,
          39.89930685519214,
          39.91893564301131,
          39.93462257373062,
          39.94708772165026,
          39.95693717688391,
          39.96467685267642,
          39.97072565777033,
          39.975427770966135,
          39.97906385144529,
          39.981861098623966,
          39.98400213924505,
          39.98563276802497,
          39.98686860302712,
          39.987800739977814,
          39.988500503042644,
          39.98902339518618,
          39.9894123510214,
          39.989700390688085,
          39.98991276617264,
          39.99006868273473,
          39.990182668618715,
          39.990265656651474,
          39.99032583212475,
          39.99036929282531,
          39.99040055938178,
          39.99042296732054,
          39.99043896636846,
          39.990450347567986,
          39.99045841461064,
          39.990464112359206,
          39.99046812272964,
          39.99047093584211,
          39.99047290254923,
          39.99047427302189,
          39.99047522495549,
          39.99047588409239,
          39.99047633908441,
          39.99047665220904,
          39.99047686706207,
          39.99047701405678,
          39.99047711433866,
          39.99047718256118,
          39.990477228846274,
          39.99047726016376,
          39.99047728129803,
          39.99047729552339,
          39.99047730507414,
          39.990477311470514,
          39.99047731574392,
          39.990477318592085,
          39.990477320485965,
          39.99047732174239,
          39.99047732257404,
          39.99047732312333,
          39.99047732348531,
          39.99047732372337,
          39.99047732387962,
          39.99047732398191,
          39.99047732404881,
          39.99047732409241
         ],
         "yaxis": "y"
        },
        {
         "hovertemplate": "variable=Long Call K=80<br>Spot Price=%{x}<br>value=%{y}<extra></extra>",
         "legendgroup": "Long Call K=80",
         "line": {
          "color": "#EF553B",
          "dash": "solid"
         },
         "marker": {
          "symbol": "circle"
         },
         "mode": "lines",
         "name": "Long Call K=80",
         "orientation": "v",
         "showlegend": true,
         "type": "scatter",
         "x": [
          50,
          51,
          52,
          53,
          54,
          55,
          56,
          57,
          58,
          59,
          60,
          61,
          62,
          63,
          64,
          65,
          66,
          67,
          68,
          69,
          70,
          71,
          72,
          73,
          74,
          75,
          76,
          77,
          78,
          79,
          80,
          81,
          82,
          83,
          84,
          85,
          86,
          87,
          88,
          89,
          90,
          91,
          92,
          93,
          94,
          95,
          96,
          97,
          98,
          99,
          100,
          101,
          102,
          103,
          104,
          105,
          106,
          107,
          108,
          109,
          110,
          111,
          112,
          113,
          114,
          115,
          116,
          117,
          118,
          119,
          120,
          121,
          122,
          123,
          124,
          125,
          126,
          127,
          128,
          129,
          130,
          131,
          132,
          133,
          134,
          135,
          136,
          137,
          138,
          139,
          140,
          141,
          142,
          143,
          144,
          145,
          146,
          147,
          148,
          149,
          150,
          151,
          152,
          153,
          154,
          155,
          156,
          157,
          158,
          159,
          160,
          161,
          162,
          163,
          164,
          165,
          166,
          167,
          168,
          169,
          170,
          171,
          172,
          173,
          174,
          175,
          176,
          177,
          178,
          179,
          180,
          181,
          182,
          183,
          184,
          185,
          186,
          187,
          188,
          189,
          190,
          191,
          192,
          193,
          194,
          195,
          196,
          197,
          198,
          199
         ],
         "xaxis": "x",
         "y": [
          6.924830305238867e-10,
          3.374812148961062e-9,
          1.5028071699812626e-8,
          6.143872313532275e-8,
          2.3163712160229708e-7,
          8.087674938440754e-7,
          0.0000026254390293552654,
          0.0000079534547267299,
          0.00002256348613946242,
          0.00006014360905388927,
          0.00015109998999648412,
          0.00035885458793596253,
          0.0008079297652458031,
          0.0017289859288898979,
          0.0035259686033649595,
          0.006868946371135332,
          0.012812545362386962,
          0.022934029062517847,
          0.03947768157038567,
          0.06548469025612214,
          0.1048822552393136,
          0.16250432732365905,
          0.2440207283402973,
          0.3557617207153072,
          0.5044400711352957,
          0.6967895772666015,
          0.9391543808781684,
          1.2370737799898954,
          1.594910314115623,
          2.015563917169338,
          2.500302988605462,
          3.0487268400932805,
          3.6588563877977194,
          4.327334361583688,
          5.049705110331907,
          5.820738544746028,
          6.634762886296855,
          7.485975681489265,
          8.368710379927663,
          9.277644876803421,
          10.207947199870105,
          11.155360829605428,
          12.116237356064744,
          13.087527161273158,
          14.06673980576187,
          15.051885246088304,
          16.04140544984668,
          17.034103908930945,
          18.029078387125196,
          19.025660256740323,
          20.0233621416059,
          21.02183435019677,
          22.02082974111741,
          23.020176158576973,
          24.019755333755,
          25.019487093097595,
          26.019317779279447,
          27.01921192114162,
          28.019146346352755,
          29.019106089082186,
          30.01908158955557,
          31.019066805779985,
          32.01905795802884,
          33.01905270508081,
          34.0190496105412,
          35.01904780124747,
          36.019046751132265,
          37.01904614597018,
          38.01904579962991,
          39.01904560274252,
          40.019045491543494,
          41.01904542913631,
          42.01904539432675,
          43.01904537502614,
          44.0190453643865,
          45.019045358554195,
          46.019045355374544,
          47.01904535365021,
          48.019045352719914,
          49.0190453522205,
          50.019045351953665,
          51.01904535181181,
          52.019045351736736,
          53.01904535169717,
          54.0190453516764,
          55.019045351665554,
          56.01904535165991,
          57.019045351656985,
          58.019045351655464,
          59.01904535165468,
          60.019045351654285,
          61.019045351654086,
          62.019045351654,
          63.01904535165393,
          64.01904535165392,
          65.01904535165389,
          66.0190453516539,
          67.01904535165389,
          68.01904535165389,
          69.01904535165389,
          70.01904535165387,
          71.01904535165387,
          72.01904535165387,
          73.0190453516539,
          74.01904535165389,
          75.01904535165389,
          76.01904535165389,
          77.01904535165389,
          78.01904535165389,
          79.01904535165389,
          80.01904535165389,
          81.01904535165389,
          82.01904535165389,
          83.01904535165389,
          84.01904535165389,
          85.01904535165389,
          86.01904535165389,
          87.01904535165389,
          88.01904535165389,
          89.01904535165389,
          90.01904535165389,
          91.01904535165389,
          92.01904535165389,
          93.01904535165389,
          94.01904535165389,
          95.01904535165389,
          96.01904535165389,
          97.01904535165389,
          98.01904535165389,
          99.01904535165389,
          100.01904535165389,
          101.01904535165389,
          102.01904535165389,
          103.01904535165389,
          104.01904535165389,
          105.01904535165389,
          106.01904535165389,
          107.01904535165389,
          108.01904535165389,
          109.01904535165389,
          110.01904535165389,
          111.01904535165389,
          112.01904535165389,
          113.01904535165389,
          114.01904535165389,
          115.01904535165389,
          116.01904535165389,
          117.01904535165389,
          118.01904535165389,
          119.01904535165389
         ],
         "yaxis": "y"
        },
        {
         "hovertemplate": "variable=Short Call K=120<br>Spot Price=%{x}<br>value=%{y}<extra></extra>",
         "legendgroup": "Short Call K=120",
         "line": {
          "color": "#00cc96",
          "dash": "solid"
         },
         "marker": {
          "symbol": "circle"
         },
         "mode": "lines",
         "name": "Short Call K=120",
         "orientation": "v",
         "showlegend": true,
         "type": "scatter",
         "x": [
          50,
          51,
          52,
          53,
          54,
          55,
          56,
          57,
          58,
          59,
          60,
          61,
          62,
          63,
          64,
          65,
          66,
          67,
          68,
          69,
          70,
          71,
          72,
          73,
          74,
          75,
          76,
          77,
          78,
          79,
          80,
          81,
          82,
          83,
          84,
          85,
          86,
          87,
          88,
          89,
          90,
          91,
          92,
          93,
          94,
          95,
          96,
          97,
          98,
          99,
          100,
          101,
          102,
          103,
          104,
          105,
          106,
          107,
          108,
          109,
          110,
          111,
          112,
          113,
          114,
          115,
          116,
          117,
          118,
          119,
          120,
          121,
          122,
          123,
          124,
          125,
          126,
          127,
          128,
          129,
          130,
          131,
          132,
          133,
          134,
          135,
          136,
          137,
          138,
          139,
          140,
          141,
          142,
          143,
          144,
          145,
          146,
          147,
          148,
          149,
          150,
          151,
          152,
          153,
          154,
          155,
          156,
          157,
          158,
          159,
          160,
          161,
          162,
          163,
          164,
          165,
          166,
          167,
          168,
          169,
          170,
          171,
          172,
          173,
          174,
          175,
          176,
          177,
          178,
          179,
          180,
          181,
          182,
          183,
          184,
          185,
          186,
          187,
          188,
          189,
          190,
          191,
          192,
          193,
          194,
          195,
          196,
          197,
          198,
          199
         ],
         "xaxis": "x",
         "y": [
          9.603602812069765e-30,
          1.6869518695103143e-28,
          2.6356647633805995e-27,
          3.683467326713246e-26,
          4.62920384637971e-25,
          5.257730059053281e-24,
          5.422003198002449e-23,
          5.099121759579746e-22,
          4.3913361381448565e-21,
          3.476567212764289e-20,
          2.539494674761504e-19,
          1.7174612197802867e-18,
          1.078912761416423e-17,
          6.315165354163674e-17,
          3.4542137390292616e-16,
          1.7704334959937754e-15,
          8.525367439440278e-15,
          3.8665915277592464e-14,
          1.655576013700007e-13,
          6.707310332352233e-13,
          2.5766240591044025e-12,
          9.404532142225842e-12,
          3.267720276564102e-11,
          1.0828609910946588e-10,
          3.4283273791233753e-10,
          1.03872454578583e-9,
          3.016623448672997e-9,
          8.41022672852153e-9,
          2.2542107549719044e-8,
          5.816859484276383e-8,
          1.4470088378296294e-7,
          3.474556824034473e-7,
          8.06320086093324e-7,
          0.000001810539424802594,
          0.000003938158544032871,
          0.000008306845480537386,
          0.000017009504133717965,
          0.00003384522920919309,
          0.00006550508861430512,
          0.00012343279270841685,
          0.00022664998499472358,
          0.0004059087896028518,
          0.000709600480945316,
          0.0012118946478686873,
          0.002023590517231763,
          0.0033061120311292935,
          0.0052889529050474116,
          0.008290664251835167,
          0.01274317149977533,
          0.019218818043580388,
          0.028459084238261267,
          0.041403461264768016,
          0.05921652235557806,
          0.08331088899221628,
          0.1153635974053624,
          0.15732338285897018,
          0.21140665013507487,
          0.2800803978916404,
          0.3660310925104433,
          0.4721193945116422,
          0.6013216528229748,
          0.7566601067029417,
          0.9411246725602282,
          1.1575899490647643,
          1.4087315713172508,
          1.696946232041931,
          2.0242795453855535,
          2.3923654711734343,
          2.8023802896332484,
          3.2550131886081886,
          3.7504544829081965,
          4.288401420140204,
          4.868080526276103,
          5.488284581696561,
          6.147421649764155,
          6.843573137912188,
          7.574557665497849,
          8.337997531845716,
          9.13138479335349,
          9.952144329445275,
          10.797691756112911,
          11.665484584005256,
          12.553065569891487,
          13.458097736775372,
          14.378391008618294,
          15.31192079980515,
          16.256839205908634,
          17.21147965821538,
          18.174356034097116,
          19.144157268017622,
          20.119738496462148,
          21.100109708642776,
          22.08442277792338,
          23.071957630003666,
          24.062108174770003,
          25.054368498977468,
          26.04831969388357,
          27.04361758068775,
          28.039981500208597,
          29.03718425302992,
          30.035043212408823,
          31.033412583628902,
          32.03217674862675,
          33.03124461167609,
          34.03054484861124,
          35.030021956467706,
          36.02963300063249,
          37.0293449609658,
          38.02913258548125,
          39.02897666891916,
          40.02886268303517,
          41.02877969500241,
          42.02871951952913,
          43.02867605882858,
          44.028644792272104,
          45.028622384333346,
          46.02860638528543,
          47.0285950040859,
          48.028586937043244,
          49.02858123929468,
          50.02857722892425,
          51.028574415811775,
          52.02857244910466,
          53.028571078632,
          54.0285701266984,
          55.028569467561496,
          56.02856901256948,
          57.02856869944485,
          58.028568484591815,
          59.02856833759711,
          60.02856823731523,
          61.02856816909271,
          62.02856812280761,
          63.02856809149013,
          64.02856807035586,
          65.0285680561305,
          66.02856804657975,
          67.02856804018337,
          68.02856803590997,
          69.0285680330618,
          70.02856803116792,
          71.0285680299115,
          72.02856802907985,
          73.02856802853056,
          74.02856802816858,
          75.02856802793052,
          76.02856802777427,
          77.02856802767198,
          78.02856802760508,
          79.02856802756148
         ],
         "yaxis": "y"
        }
       ],
       "layout": {
        "legend": {
         "title": {
          "text": "variable"
         },
         "tracegroupgap": 0
        },
        "template": {
         "data": {
          "bar": [
           {
            "error_x": {
             "color": "#2a3f5f"
            },
            "error_y": {
             "color": "#2a3f5f"
            },
            "marker": {
             "line": {
              "color": "#E5ECF6",
              "width": 0.5
             },
             "pattern": {
              "fillmode": "overlay",
              "size": 10,
              "solidity": 0.2
             }
            },
            "type": "bar"
           }
          ],
          "barpolar": [
           {
            "marker": {
             "line": {
              "color": "#E5ECF6",
              "width": 0.5
             },
             "pattern": {
              "fillmode": "overlay",
              "size": 10,
              "solidity": 0.2
             }
            },
            "type": "barpolar"
           }
          ],
          "carpet": [
           {
            "aaxis": {
             "endlinecolor": "#2a3f5f",
             "gridcolor": "white",
             "linecolor": "white",
             "minorgridcolor": "white",
             "startlinecolor": "#2a3f5f"
            },
            "baxis": {
             "endlinecolor": "#2a3f5f",
             "gridcolor": "white",
             "linecolor": "white",
             "minorgridcolor": "white",
             "startlinecolor": "#2a3f5f"
            },
            "type": "carpet"
           }
          ],
          "choropleth": [
           {
            "colorbar": {
             "outlinewidth": 0,
             "ticks": ""
            },
            "type": "choropleth"
           }
          ],
          "contour": [
           {
            "colorbar": {
             "outlinewidth": 0,
             "ticks": ""
            },
            "colorscale": [
             [
              0,
              "#0d0887"
             ],
             [
              0.1111111111111111,
              "#46039f"
             ],
             [
              0.2222222222222222,
              "#7201a8"
             ],
             [
              0.3333333333333333,
              "#9c179e"
             ],
             [
              0.4444444444444444,
              "#bd3786"
             ],
             [
              0.5555555555555556,
              "#d8576b"
             ],
             [
              0.6666666666666666,
              "#ed7953"
             ],
             [
              0.7777777777777778,
              "#fb9f3a"
             ],
             [
              0.8888888888888888,
              "#fdca26"
             ],
             [
              1,
              "#f0f921"
             ]
            ],
            "type": "contour"
           }
          ],
          "contourcarpet": [
           {
            "colorbar": {
             "outlinewidth": 0,
             "ticks": ""
            },
            "type": "contourcarpet"
           }
          ],
          "heatmap": [
           {
            "colorbar": {
             "outlinewidth": 0,
             "ticks": ""
            },
            "colorscale": [
             [
              0,
              "#0d0887"
             ],
             [
              0.1111111111111111,
              "#46039f"
             ],
             [
              0.2222222222222222,
              "#7201a8"
             ],
             [
              0.3333333333333333,
              "#9c179e"
             ],
             [
              0.4444444444444444,
              "#bd3786"
             ],
             [
              0.5555555555555556,
              "#d8576b"
             ],
             [
              0.6666666666666666,
              "#ed7953"
             ],
             [
              0.7777777777777778,
              "#fb9f3a"
             ],
             [
              0.8888888888888888,
              "#fdca26"
             ],
             [
              1,
              "#f0f921"
             ]
            ],
            "type": "heatmap"
           }
          ],
          "heatmapgl": [
           {
            "colorbar": {
             "outlinewidth": 0,
             "ticks": ""
            },
            "colorscale": [
             [
              0,
              "#0d0887"
             ],
             [
              0.1111111111111111,
              "#46039f"
             ],
             [
              0.2222222222222222,
              "#7201a8"
             ],
             [
              0.3333333333333333,
              "#9c179e"
             ],
             [
              0.4444444444444444,
              "#bd3786"
             ],
             [
              0.5555555555555556,
              "#d8576b"
             ],
             [
              0.6666666666666666,
              "#ed7953"
             ],
             [
              0.7777777777777778,
              "#fb9f3a"
             ],
             [
              0.8888888888888888,
              "#fdca26"
             ],
             [
              1,
              "#f0f921"
             ]
            ],
            "type": "heatmapgl"
           }
          ],
          "histogram": [
           {
            "marker": {
             "pattern": {
              "fillmode": "overlay",
              "size": 10,
              "solidity": 0.2
             }
            },
            "type": "histogram"
           }
          ],
          "histogram2d": [
           {
            "colorbar": {
             "outlinewidth": 0,
             "ticks": ""
            },
            "colorscale": [
             [
              0,
              "#0d0887"
             ],
             [
              0.1111111111111111,
              "#46039f"
             ],
             [
              0.2222222222222222,
              "#7201a8"
             ],
             [
              0.3333333333333333,
              "#9c179e"
             ],
             [
              0.4444444444444444,
              "#bd3786"
             ],
             [
              0.5555555555555556,
              "#d8576b"
             ],
             [
              0.6666666666666666,
              "#ed7953"
             ],
             [
              0.7777777777777778,
              "#fb9f3a"
             ],
             [
              0.8888888888888888,
              "#fdca26"
             ],
             [
              1,
              "#f0f921"
             ]
            ],
            "type": "histogram2d"
           }
          ],
          "histogram2dcontour": [
           {
            "colorbar": {
             "outlinewidth": 0,
             "ticks": ""
            },
            "colorscale": [
             [
              0,
              "#0d0887"
             ],
             [
              0.1111111111111111,
              "#46039f"
             ],
             [
              0.2222222222222222,
              "#7201a8"
             ],
             [
              0.3333333333333333,
              "#9c179e"
             ],
             [
              0.4444444444444444,
              "#bd3786"
             ],
             [
              0.5555555555555556,
              "#d8576b"
             ],
             [
              0.6666666666666666,
              "#ed7953"
             ],
             [
              0.7777777777777778,
              "#fb9f3a"
             ],
             [
              0.8888888888888888,
              "#fdca26"
             ],
             [
              1,
              "#f0f921"
             ]
            ],
            "type": "histogram2dcontour"
           }
          ],
          "mesh3d": [
           {
            "colorbar": {
             "outlinewidth": 0,
             "ticks": ""
            },
            "type": "mesh3d"
           }
          ],
          "parcoords": [
           {
            "line": {
             "colorbar": {
              "outlinewidth": 0,
              "ticks": ""
             }
            },
            "type": "parcoords"
           }
          ],
          "pie": [
           {
            "automargin": true,
            "type": "pie"
           }
          ],
          "scatter": [
           {
            "fillpattern": {
             "fillmode": "overlay",
             "size": 10,
             "solidity": 0.2
            },
            "type": "scatter"
           }
          ],
          "scatter3d": [
           {
            "line": {
             "colorbar": {
              "outlinewidth": 0,
              "ticks": ""
             }
            },
            "marker": {
             "colorbar": {
              "outlinewidth": 0,
              "ticks": ""
             }
            },
            "type": "scatter3d"
           }
          ],
          "scattercarpet": [
           {
            "marker": {
             "colorbar": {
              "outlinewidth": 0,
              "ticks": ""
             }
            },
            "type": "scattercarpet"
           }
          ],
          "scattergeo": [
           {
            "marker": {
             "colorbar": {
              "outlinewidth": 0,
              "ticks": ""
             }
            },
            "type": "scattergeo"
           }
          ],
          "scattergl": [
           {
            "marker": {
             "colorbar": {
              "outlinewidth": 0,
              "ticks": ""
             }
            },
            "type": "scattergl"
           }
          ],
          "scattermapbox": [
           {
            "marker": {
             "colorbar": {
              "outlinewidth": 0,
              "ticks": ""
             }
            },
            "type": "scattermapbox"
           }
          ],
          "scatterpolar": [
           {
            "marker": {
             "colorbar": {
              "outlinewidth": 0,
              "ticks": ""
             }
            },
            "type": "scatterpolar"
           }
          ],
          "scatterpolargl": [
           {
            "marker": {
             "colorbar": {
              "outlinewidth": 0,
              "ticks": ""
             }
            },
            "type": "scatterpolargl"
           }
          ],
          "scatterternary": [
           {
            "marker": {
             "colorbar": {
              "outlinewidth": 0,
              "ticks": ""
             }
            },
            "type": "scatterternary"
           }
          ],
          "surface": [
           {
            "colorbar": {
             "outlinewidth": 0,
             "ticks": ""
            },
            "colorscale": [
             [
              0,
              "#0d0887"
             ],
             [
              0.1111111111111111,
              "#46039f"
             ],
             [
              0.2222222222222222,
              "#7201a8"
             ],
             [
              0.3333333333333333,
              "#9c179e"
             ],
             [
              0.4444444444444444,
              "#bd3786"
             ],
             [
              0.5555555555555556,
              "#d8576b"
             ],
             [
              0.6666666666666666,
              "#ed7953"
             ],
             [
              0.7777777777777778,
              "#fb9f3a"
             ],
             [
              0.8888888888888888,
              "#fdca26"
             ],
             [
              1,
              "#f0f921"
             ]
            ],
            "type": "surface"
           }
          ],
          "table": [
           {
            "cells": {
             "fill": {
              "color": "#EBF0F8"
             },
             "line": {
              "color": "white"
             }
            },
            "header": {
             "fill": {
              "color": "#C8D4E3"
             },
             "line": {
              "color": "white"
             }
            },
            "type": "table"
           }
          ]
         },
         "layout": {
          "annotationdefaults": {
           "arrowcolor": "#2a3f5f",
           "arrowhead": 0,
           "arrowwidth": 1
          },
          "autotypenumbers": "strict",
          "coloraxis": {
           "colorbar": {
            "outlinewidth": 0,
            "ticks": ""
           }
          },
          "colorscale": {
           "diverging": [
            [
             0,
             "#8e0152"
            ],
            [
             0.1,
             "#c51b7d"
            ],
            [
             0.2,
             "#de77ae"
            ],
            [
             0.3,
             "#f1b6da"
            ],
            [
             0.4,
             "#fde0ef"
            ],
            [
             0.5,
             "#f7f7f7"
            ],
            [
             0.6,
             "#e6f5d0"
            ],
            [
             0.7,
             "#b8e186"
            ],
            [
             0.8,
             "#7fbc41"
            ],
            [
             0.9,
             "#4d9221"
            ],
            [
             1,
             "#276419"
            ]
           ],
           "sequential": [
            [
             0,
             "#0d0887"
            ],
            [
             0.1111111111111111,
             "#46039f"
            ],
            [
             0.2222222222222222,
             "#7201a8"
            ],
            [
             0.3333333333333333,
             "#9c179e"
            ],
            [
             0.4444444444444444,
             "#bd3786"
            ],
            [
             0.5555555555555556,
             "#d8576b"
            ],
            [
             0.6666666666666666,
             "#ed7953"
            ],
            [
             0.7777777777777778,
             "#fb9f3a"
            ],
            [
             0.8888888888888888,
             "#fdca26"
            ],
            [
             1,
             "#f0f921"
            ]
           ],
           "sequentialminus": [
            [
             0,
             "#0d0887"
            ],
            [
             0.1111111111111111,
             "#46039f"
            ],
            [
             0.2222222222222222,
             "#7201a8"
            ],
            [
             0.3333333333333333,
             "#9c179e"
            ],
            [
             0.4444444444444444,
             "#bd3786"
            ],
            [
             0.5555555555555556,
             "#d8576b"
            ],
            [
             0.6666666666666666,
             "#ed7953"
            ],
            [
             0.7777777777777778,
             "#fb9f3a"
            ],
            [
             0.8888888888888888,
             "#fdca26"
            ],
            [
             1,
             "#f0f921"
            ]
           ]
          },
          "colorway": [
           "#636efa",
           "#EF553B",
           "#00cc96",
           "#ab63fa",
           "#FFA15A",
           "#19d3f3",
           "#FF6692",
           "#B6E880",
           "#FF97FF",
           "#FECB52"
          ],
          "font": {
           "color": "#2a3f5f"
          },
          "geo": {
           "bgcolor": "white",
           "lakecolor": "white",
           "landcolor": "#E5ECF6",
           "showlakes": true,
           "showland": true,
           "subunitcolor": "white"
          },
          "hoverlabel": {
           "align": "left"
          },
          "hovermode": "closest",
          "mapbox": {
           "style": "light"
          },
          "paper_bgcolor": "white",
          "plot_bgcolor": "#E5ECF6",
          "polar": {
           "angularaxis": {
            "gridcolor": "white",
            "linecolor": "white",
            "ticks": ""
           },
           "bgcolor": "#E5ECF6",
           "radialaxis": {
            "gridcolor": "white",
            "linecolor": "white",
            "ticks": ""
           }
          },
          "scene": {
           "xaxis": {
            "backgroundcolor": "#E5ECF6",
            "gridcolor": "white",
            "gridwidth": 2,
            "linecolor": "white",
            "showbackground": true,
            "ticks": "",
            "zerolinecolor": "white"
           },
           "yaxis": {
            "backgroundcolor": "#E5ECF6",
            "gridcolor": "white",
            "gridwidth": 2,
            "linecolor": "white",
            "showbackground": true,
            "ticks": "",
            "zerolinecolor": "white"
           },
           "zaxis": {
            "backgroundcolor": "#E5ECF6",
            "gridcolor": "white",
            "gridwidth": 2,
            "linecolor": "white",
            "showbackground": true,
            "ticks": "",
            "zerolinecolor": "white"
           }
          },
          "shapedefaults": {
           "line": {
            "color": "#2a3f5f"
           }
          },
          "ternary": {
           "aaxis": {
            "gridcolor": "white",
            "linecolor": "white",
            "ticks": ""
           },
           "baxis": {
            "gridcolor": "white",
            "linecolor": "white",
            "ticks": ""
           },
           "bgcolor": "#E5ECF6",
           "caxis": {
            "gridcolor": "white",
            "linecolor": "white",
            "ticks": ""
           }
          },
          "title": {
           "x": 0.05
          },
          "xaxis": {
           "automargin": true,
           "gridcolor": "white",
           "linecolor": "white",
           "ticks": "",
           "title": {
            "standoff": 15
           },
           "zerolinecolor": "white",
           "zerolinewidth": 2
          },
          "yaxis": {
           "automargin": true,
           "gridcolor": "white",
           "linecolor": "white",
           "ticks": "",
           "title": {
            "standoff": 15
           },
           "zerolinecolor": "white",
           "zerolinewidth": 2
          }
         }
        },
        "title": {
         "text": "Call Spread"
        },
        "xaxis": {
         "anchor": "y",
         "domain": [
          0,
          1
         ],
         "title": {
          "text": "Spot Price"
         }
        },
        "yaxis": {
         "anchor": "x",
         "domain": [
          0,
          1
         ],
         "title": {
          "text": "value"
         }
        }
       }
      }
     },
     "metadata": {},
     "output_type": "display_data"
    }
   ],
   "source": [
    "\"\"\"IV - Call Spread\"\"\"\n",
    "K_1 = 80\n",
    "K_2= 120\n",
    "T=60/252\n",
    "sigma=0.16\n",
    "r=0.1/100\n",
    "\n",
    "list_long_call =[]\n",
    "list_short_call = []\n",
    "payoff_long_call=[]\n",
    "payoff_short_call=[]\n",
    "spot = []\n",
    "list_delta_long_call =[]\n",
    "list_delta_short_call =[]\n",
    "list_gamma_long_call =[]\n",
    "list_gamma_short_call =[]\n",
    "list_vega_long_call=[]\n",
    "list_vega_short_call =[]\n",
    "list_theta_long_call =[]\n",
    "list_theta_short_call=[]\n",
    "Spread_Payoff=[]\n",
    "Spread_Delta=[]\n",
    "Spread_Gamma=[]\n",
    "Spread_Vega=[]\n",
    "Spread_Theta=[]\n",
    "\n",
    "for S in range(50,200):\n",
    "    spot.append(S)\n",
    "    list_long_call.append(black_scholes(S, K_1, T, r, sigma, option_type='call')[0])\n",
    "    list_short_call.append(black_scholes(S, K_2, T, r, sigma, option_type='call')[0])\n",
    "    Spread_Payoff.append((black_scholes(S, K_1, T, r, sigma, option_type='call')[0])-(black_scholes(S, K_2, T, r, sigma, option_type='call')[0]))\n",
    "    list_delta_long_call.append(black_scholes(S, K_1, T, r, sigma, option_type='call')[1])\n",
    "    list_delta_short_call.append(black_scholes(S, K_2, T, r, sigma, option_type='call')[1])\n",
    "    Spread_Delta.append((black_scholes(S, K_1, T, r, sigma, option_type='call')[1])-(black_scholes(S, K_2, T, r, sigma, option_type='call')[1]))\n",
    "    list_gamma_long_call.append(black_scholes(S, K_1, T, r, sigma, option_type='call')[2])\n",
    "    list_gamma_short_call.append(black_scholes(S, K_2, T, r, sigma, option_type='call')[2])\n",
    "    Spread_Gamma.append((black_scholes(S, K_1, T, r, sigma, option_type='call')[2])-(black_scholes(S, K_2, T, r, sigma, option_type='call')[2]))\n",
    "    list_vega_long_call.append(black_scholes(S, K_1, T, r, sigma, option_type='call')[3])\n",
    "    list_vega_short_call.append(black_scholes(S, K_2, T, r, sigma, option_type='call')[3])\n",
    "    Spread_Vega.append((black_scholes(S, K_1, T, r, sigma, option_type='call')[3])-(black_scholes(S, K_2, T, r, sigma, option_type='call')[3]))\n",
    "    list_theta_long_call.append(black_scholes(S, K_1, T, r, sigma, option_type='call')[4])\n",
    "    list_theta_short_call.append(black_scholes(S, K_2, T, r, sigma, option_type='call')[4])\n",
    "    Spread_Theta.append((black_scholes(S, K_1, T, r, sigma, option_type='call')[4])-(black_scholes(S, K_2, T, r, sigma, option_type='call')[4]))\n",
    "\n",
    "df=pd.DataFrame({\"Spread Payoff\":Spread_Payoff, \"Long Call K=80\":list_long_call, \"Short Call K=120\":list_short_call, \"Spot Price\":spot})\n",
    "df.set_index(\"Spot Price\", inplace = True)\n",
    "px.line(df, title='Call Spread')"
   ]
  },
  {
   "cell_type": "code",
   "execution_count": null,
   "metadata": {},
   "outputs": [],
   "source": []
  },
  {
   "cell_type": "code",
   "execution_count": 12,
   "metadata": {},
   "outputs": [
    {
     "data": {
      "application/vnd.plotly.v1+json": {
       "config": {
        "plotlyServerURL": "https://plot.ly"
       },
       "data": [
        {
         "hovertemplate": "variable=Spread Delta<br>Spot Price=%{x}<br>value=%{y}<extra></extra>",
         "legendgroup": "Spread Delta",
         "line": {
          "color": "#636efa",
          "dash": "solid"
         },
         "marker": {
          "symbol": "circle"
         },
         "mode": "lines",
         "name": "Spread Delta",
         "orientation": "v",
         "showlegend": true,
         "type": "scatter",
         "x": [
          50,
          51,
          52,
          53,
          54,
          55,
          56,
          57,
          58,
          59,
          60,
          61,
          62,
          63,
          64,
          65,
          66,
          67,
          68,
          69,
          70,
          71,
          72,
          73,
          74,
          75,
          76,
          77,
          78,
          79,
          80,
          81,
          82,
          83,
          84,
          85,
          86,
          87,
          88,
          89,
          90,
          91,
          92,
          93,
          94,
          95,
          96,
          97,
          98,
          99,
          100,
          101,
          102,
          103,
          104,
          105,
          106,
          107,
          108,
          109,
          110,
          111,
          112,
          113,
          114,
          115,
          116,
          117,
          118,
          119,
          120,
          121,
          122,
          123,
          124,
          125,
          126,
          127,
          128,
          129,
          130,
          131,
          132,
          133,
          134,
          135,
          136,
          137,
          138,
          139,
          140,
          141,
          142,
          143,
          144,
          145,
          146,
          147,
          148,
          149,
          150,
          151,
          152,
          153,
          154,
          155,
          156,
          157,
          158,
          159,
          160,
          161,
          162,
          163,
          164,
          165,
          166,
          167,
          168,
          169,
          170,
          171,
          172,
          173,
          174,
          175,
          176,
          177,
          178,
          179,
          180,
          181,
          182,
          183,
          184,
          185,
          186,
          187,
          188,
          189,
          190,
          191,
          192,
          193,
          194,
          195,
          196,
          197,
          198,
          199
         ],
         "xaxis": "x",
         "y": [
          1.129161159163828e-9,
          5.190036456605388e-9,
          2.1791921520358573e-8,
          8.398087101266727e-8,
          2.9836202033560573e-7,
          9.812599245809354e-7,
          0.0000029991030180839324,
          0.000008549769048104666,
          0.000022812328957720294,
          0.00005715429914880523,
          0.00013487335569143478,
          0.0003006518472876221,
          0.0006348321847502615,
          0.0012730577937649673,
          0.0024305982463581626,
          0.004428795290992333,
          0.007718823235700863,
          0.012895962560606506,
          0.020696653799917256,
          0.03197149345738927,
          0.04763044354516528,
          0.06856159878860925,
          0.09553092499854579,
          0.1290759623582768,
          0.169409991851962,
          0.21635341272807407,
          0.2693057098924241,
          0.32726500603319825,
          0.38889420465957864,
          0.45262494308977574,
          0.5167846770814746,
          0.5797293405479013,
          0.6399644959474218,
          0.6962412572706915,
          0.7476185044088398,
          0.7934887555073014,
          0.833570357569609,
          0.8678725648831994,
          0.8966422124204316,
          0.9203010923720515,
          0.9393821534120548,
          0.9544707731125197,
          0.9661551320746922,
          0.9749875853905745,
          0.9814571820823511,
          0.985972272191926,
          0.9888514791160851,
          0.9903211242861043,
          0.9905173449848,
          0.9894915027930218,
          0.9872179109121986,
          0.9836033119437263,
          0.9784978457909702,
          0.9717074257297239,
          0.9630074840691198,
          0.9521579748098412,
          0.9389193627895347,
          0.9230691292521904,
          0.904418126904386,
          0.8828259636914475,
          0.8582145152364415,
          0.83057868028608,
          0.7999936066700339,
          0.7666178183311039,
          0.730691946038035,
          0.6925330759469195,
          0.652525047435365,
          0.6111053211158635,
          0.5687492707077172,
          0.5259529074188454,
          0.48321511139565376,
          0.4410204207343381,
          0.3998233231204297,
          0.36003482456060976,
          0.32201185500881635,
          0.2860498351083186,
          0.25237849418076386,
          0.22116081638952978,
          0.19249481448593364,
          0.16641769809470286,
          0.1429119199952068,
          0.1219125482317025,
          0.10331541907345598,
          0.08698556799863022,
          0.07276550363308387,
          0.06048297322456064,
          0.04995795866868524,
          0.041008731519858066,
          0.033456877723824,
          0.027131273772642128,
          0.021871053188507017,
          0.017527644866181746,
          0.013965993305750435,
          0.011065086544616354,
          0.008717922637537678,
          0.006831042105509444,
          0.005323744178165057,
          0.004127091032500418,
          0.0031827884451616217,
          0.0024420148422479304,
          0.001864254800802878,
          0.0014161784328796667,
          0.0010705952607149571,
          0.0008055004088763917,
          0.0006032222364241724,
          0.0004496738064491135,
          0.000333705645720328,
          0.0002465538358711328,
          0.00018137533258633098,
          0.00013286126827982692,
          0.00009691861499305787,
          0.00007041075579783396,
          0.000050948057153221704,
          0.00003672030827750472,
          0.00002636378599707445,
          0.000018856632858499367,
          0.000013437145107042525,
          0.000009540417842845983,
          0.000006749565190866669,
          0.000004758413165495412,
          0.0000033431499272262855,
          0.000002340915725707049,
          0.0000016337299325597243,
          0.0000011364939661584472,
          7.880861406794892e-7,
          5.447869966257457e-7,
          3.7545039333064523e-7,
          2.5797462588350584e-7,
          1.767361301752146e-7,
          1.2073201904883035e-7,
          8.224182501681554e-8,
          5.5867609649595806e-8,
          3.7848440159748975e-8,
          2.5572868933565474e-8,
          1.7233642624070455e-8,
          1.158411966351025e-8,
          7.767102849776109e-9,
          5.195010976954961e-9,
          3.4663005799018265e-9,
          2.3073782884353022e-9,
          1.5323726731963916e-9,
          1.0153663465573004e-9,
          6.71294686505064e-10,
          4.428482025531366e-10,
          2.9151869807009234e-10,
          1.9149881680391445e-10,
          1.2553702521955756e-10,
          8.212985846967058e-11,
          5.362554844623446e-11,
          3.4946157079218665e-11
         ],
         "yaxis": "y"
        },
        {
         "hovertemplate": "variable=Long Call K=80<br>Spot Price=%{x}<br>value=%{y}<extra></extra>",
         "legendgroup": "Long Call K=80",
         "line": {
          "color": "#EF553B",
          "dash": "solid"
         },
         "marker": {
          "symbol": "circle"
         },
         "mode": "lines",
         "name": "Long Call K=80",
         "orientation": "v",
         "showlegend": true,
         "type": "scatter",
         "x": [
          50,
          51,
          52,
          53,
          54,
          55,
          56,
          57,
          58,
          59,
          60,
          61,
          62,
          63,
          64,
          65,
          66,
          67,
          68,
          69,
          70,
          71,
          72,
          73,
          74,
          75,
          76,
          77,
          78,
          79,
          80,
          81,
          82,
          83,
          84,
          85,
          86,
          87,
          88,
          89,
          90,
          91,
          92,
          93,
          94,
          95,
          96,
          97,
          98,
          99,
          100,
          101,
          102,
          103,
          104,
          105,
          106,
          107,
          108,
          109,
          110,
          111,
          112,
          113,
          114,
          115,
          116,
          117,
          118,
          119,
          120,
          121,
          122,
          123,
          124,
          125,
          126,
          127,
          128,
          129,
          130,
          131,
          132,
          133,
          134,
          135,
          136,
          137,
          138,
          139,
          140,
          141,
          142,
          143,
          144,
          145,
          146,
          147,
          148,
          149,
          150,
          151,
          152,
          153,
          154,
          155,
          156,
          157,
          158,
          159,
          160,
          161,
          162,
          163,
          164,
          165,
          166,
          167,
          168,
          169,
          170,
          171,
          172,
          173,
          174,
          175,
          176,
          177,
          178,
          179,
          180,
          181,
          182,
          183,
          184,
          185,
          186,
          187,
          188,
          189,
          190,
          191,
          192,
          193,
          194,
          195,
          196,
          197,
          198,
          199
         ],
         "xaxis": "x",
         "y": [
          1.129161159163828e-9,
          5.190036456605388e-9,
          2.1791921520358573e-8,
          8.398087101266727e-8,
          2.9836202033560573e-7,
          9.812599245809354e-7,
          0.0000029991030180839324,
          0.000008549769048104667,
          0.000022812328957720304,
          0.0000571542991488053,
          0.00013487335569143527,
          0.0003006518472876253,
          0.0006348321847502809,
          0.0012730577937650769,
          0.002430598246358738,
          0.00442879529099517,
          0.007718823235714004,
          0.012895962560663839,
          0.020696653800153397,
          0.03197149345830959,
          0.047630443548566326,
          0.06856159880055099,
          0.09553092503846078,
          0.12907596248551267,
          0.1694099922394362,
          0.21635341385723522,
          0.2693057130462393,
          0.3272650144887171,
          0.3888942264515002,
          0.45262499715303717,
          0.5167848063625212,
          0.5797296389099216,
          0.6399651613056323,
          0.6962426926821493,
          0.7476215035118579,
          0.7934948307878242,
          0.8335823015458991,
          0.8678953772121571,
          0.8966845808729185,
          0.9203776814216135,
          0.9395170267677462,
          0.9547023480953702,
          0.9665431222751113,
          0.9756224175753248,
          0.9824723551336756,
          0.9875600408536835,
          0.9912820773624438,
          0.9939654830828906,
          0.9958729089674973,
          0.9972103260287358,
          0.9981357451991968,
          0.9987679384564316,
          0.9991944995911236,
          0.9994788844225682,
          0.9996662943542797,
          0.9997884183584075,
          0.9998671387317202,
          0.9999173499537075,
          0.9999490519428468,
          0.9999688710350614,
          0.9999811433671415,
          0.9999886725255162,
          0.9999932504348091,
          0.9999960098082609,
          0.9999976590842743,
          0.999998636836547,
          0.9999992119138593,
          0.9999995475673636,
          0.9999997420253741,
          0.999999853873571,
          0.999999917758175,
          0.9999999540008273,
          0.9999999744271311,
          0.9999999858662421,
          0.9999999922328972,
          0.9999999957552119,
          0.9999999976926217,
          0.999999998752284,
          0.9999999993287053,
          0.9999999996406019,
          0.9999999998085012,
          0.9999999998984348,
          0.9999999999463745,
          0.9999999999718094,
          0.999999999985243,
          0.9999999999923068,
          0.9999999999960053,
          0.9999999999979338,
          0.9999999999989353,
          0.9999999999994533,
          0.9999999999997203,
          0.9999999999998573,
          0.9999999999999275,
          0.9999999999999633,
          0.9999999999999815,
          0.9999999999999907,
          0.9999999999999953,
          0.9999999999999977,
          0.9999999999999988,
          0.9999999999999994,
          0.9999999999999997,
          0.9999999999999999,
          0.9999999999999999,
          1,
          1,
          1,
          1,
          1,
          1,
          1,
          1,
          1,
          1,
          1,
          1,
          1,
          1,
          1,
          1,
          1,
          1,
          1,
          1,
          1,
          1,
          1,
          1,
          1,
          1,
          1,
          1,
          1,
          1,
          1,
          1,
          1,
          1,
          1,
          1,
          1,
          1,
          1,
          1,
          1,
          1,
          1,
          1,
          1,
          1,
          1
         ],
         "yaxis": "y"
        },
        {
         "hovertemplate": "variable=Short Call K=120<br>Spot Price=%{x}<br>value=%{y}<extra></extra>",
         "legendgroup": "Short Call K=120",
         "line": {
          "color": "#00cc96",
          "dash": "solid"
         },
         "marker": {
          "symbol": "circle"
         },
         "mode": "lines",
         "name": "Short Call K=120",
         "orientation": "v",
         "showlegend": true,
         "type": "scatter",
         "x": [
          50,
          51,
          52,
          53,
          54,
          55,
          56,
          57,
          58,
          59,
          60,
          61,
          62,
          63,
          64,
          65,
          66,
          67,
          68,
          69,
          70,
          71,
          72,
          73,
          74,
          75,
          76,
          77,
          78,
          79,
          80,
          81,
          82,
          83,
          84,
          85,
          86,
          87,
          88,
          89,
          90,
          91,
          92,
          93,
          94,
          95,
          96,
          97,
          98,
          99,
          100,
          101,
          102,
          103,
          104,
          105,
          106,
          107,
          108,
          109,
          110,
          111,
          112,
          113,
          114,
          115,
          116,
          117,
          118,
          119,
          120,
          121,
          122,
          123,
          124,
          125,
          126,
          127,
          128,
          129,
          130,
          131,
          132,
          133,
          134,
          135,
          136,
          137,
          138,
          139,
          140,
          141,
          142,
          143,
          144,
          145,
          146,
          147,
          148,
          149,
          150,
          151,
          152,
          153,
          154,
          155,
          156,
          157,
          158,
          159,
          160,
          161,
          162,
          163,
          164,
          165,
          166,
          167,
          168,
          169,
          170,
          171,
          172,
          173,
          174,
          175,
          176,
          177,
          178,
          179,
          180,
          181,
          182,
          183,
          184,
          185,
          186,
          187,
          188,
          189,
          190,
          191,
          192,
          193,
          194,
          195,
          196,
          197,
          198,
          199
         ],
         "xaxis": "x",
         "y": [
          2.8105123680640054e-29,
          4.734262534462345e-28,
          7.095572285648533e-27,
          9.515701187201024e-26,
          1.147905995707639e-24,
          1.2517980465412024e-23,
          1.2397741111839438e-22,
          1.120023291024397e-21,
          9.267675057966483e-21,
          7.051029067381187e-20,
          4.95055881009244e-19,
          3.2186099959770213e-18,
          1.9440348825203164e-17,
          1.0941908508162125e-16,
          5.755660479088579e-16,
          2.837284892214624e-15,
          1.3141545790668657e-14,
          5.733202698623495e-14,
          2.36141589733498e-13,
          9.203180580375086e-13,
          3.401040472543111e-12,
          1.1941733465380792e-11,
          3.9914985566111234e-11,
          1.2723585022714283e-10,
          3.8747420304707835e-10,
          1.129161159163828e-9,
          3.153815201809383e-9,
          8.455518864876384e-9,
          2.1791921520358573e-8,
          5.406326140419637e-8,
          1.2928104659566365e-7,
          2.9836202033560573e-7,
          6.653582105094853e-7,
          0.0000014354114578378492,
          0.0000029991030180839324,
          0.000006075280522908809,
          0.000011943976290111267,
          0.000022812328957720304,
          0.00004236845248688471,
          0.0000765890495619616,
          0.00013487335569143527,
          0.0002315749828505111,
          0.000387990200419144,
          0.0006348321847502809,
          0.0010151730513245335,
          0.0015877686617575284,
          0.002430598246358738,
          0.0036443587967863104,
          0.0053555639826971665,
          0.007718823235714004,
          0.010917834286998173,
          0.015164626512705327,
          0.020696653800153397,
          0.027771458692844277,
          0.03665881028515985,
          0.047630443548566326,
          0.060947775942185464,
          0.07684822070151714,
          0.09553092503846078,
          0.11714290734361388,
          0.1417666281307,
          0.1694099922394362,
          0.19999964376477514,
          0.23337819147715705,
          0.2693057130462393,
          0.3074655608896275,
          0.34747416447849433,
          0.3888942264515002,
          0.4312504713176569,
          0.47404694645472567,
          0.5167848063625212,
          0.5589795332664892,
          0.6001766513067014,
          0.6399651613056323,
          0.6779881372240808,
          0.7139501606468933,
          0.7476215035118579,
          0.7788391823627542,
          0.8075051848427717,
          0.8335823015458991,
          0.8570880798132944,
          0.8780874516667323,
          0.8966845808729185,
          0.9130144319731792,
          0.9272344963521592,
          0.9395170267677462,
          0.9500420413273201,
          0.9589912684780757,
          0.9665431222751113,
          0.9728687262268112,
          0.9781289468112133,
          0.9824723551336756,
          0.9860340066941771,
          0.9889349134553469,
          0.9912820773624438,
          0.9931689578944812,
          0.9946762558218303,
          0.9958729089674973,
          0.9968172115548372,
          0.9975579851577515,
          0.9981357451991968,
          0.9985838215671202,
          0.9989294047392849,
          0.9991944995911236,
          0.9993967777635758,
          0.9995503261935509,
          0.9996662943542797,
          0.9997534461641289,
          0.9998186246674137,
          0.9998671387317202,
          0.9999030813850069,
          0.9999295892442022,
          0.9999490519428468,
          0.9999632796917225,
          0.9999736362140029,
          0.9999811433671415,
          0.999986562854893,
          0.9999904595821572,
          0.9999932504348091,
          0.9999952415868345,
          0.9999966568500728,
          0.9999976590842743,
          0.9999983662700674,
          0.9999988635060338,
          0.9999992119138593,
          0.9999994552130034,
          0.9999996245496067,
          0.9999997420253741,
          0.9999998232638698,
          0.999999879267981,
          0.999999917758175,
          0.9999999441323904,
          0.9999999621515598,
          0.9999999744271311,
          0.9999999827663574,
          0.9999999884158803,
          0.9999999922328972,
          0.999999994804989,
          0.9999999965336994,
          0.9999999976926217,
          0.9999999984676273,
          0.9999999989846337,
          0.9999999993287053,
          0.9999999995571518,
          0.9999999997084813,
          0.9999999998085012,
          0.999999999874463,
          0.9999999999178701,
          0.9999999999463745,
          0.9999999999650538
         ],
         "yaxis": "y"
        }
       ],
       "layout": {
        "legend": {
         "title": {
          "text": "variable"
         },
         "tracegroupgap": 0
        },
        "template": {
         "data": {
          "bar": [
           {
            "error_x": {
             "color": "#2a3f5f"
            },
            "error_y": {
             "color": "#2a3f5f"
            },
            "marker": {
             "line": {
              "color": "#E5ECF6",
              "width": 0.5
             },
             "pattern": {
              "fillmode": "overlay",
              "size": 10,
              "solidity": 0.2
             }
            },
            "type": "bar"
           }
          ],
          "barpolar": [
           {
            "marker": {
             "line": {
              "color": "#E5ECF6",
              "width": 0.5
             },
             "pattern": {
              "fillmode": "overlay",
              "size": 10,
              "solidity": 0.2
             }
            },
            "type": "barpolar"
           }
          ],
          "carpet": [
           {
            "aaxis": {
             "endlinecolor": "#2a3f5f",
             "gridcolor": "white",
             "linecolor": "white",
             "minorgridcolor": "white",
             "startlinecolor": "#2a3f5f"
            },
            "baxis": {
             "endlinecolor": "#2a3f5f",
             "gridcolor": "white",
             "linecolor": "white",
             "minorgridcolor": "white",
             "startlinecolor": "#2a3f5f"
            },
            "type": "carpet"
           }
          ],
          "choropleth": [
           {
            "colorbar": {
             "outlinewidth": 0,
             "ticks": ""
            },
            "type": "choropleth"
           }
          ],
          "contour": [
           {
            "colorbar": {
             "outlinewidth": 0,
             "ticks": ""
            },
            "colorscale": [
             [
              0,
              "#0d0887"
             ],
             [
              0.1111111111111111,
              "#46039f"
             ],
             [
              0.2222222222222222,
              "#7201a8"
             ],
             [
              0.3333333333333333,
              "#9c179e"
             ],
             [
              0.4444444444444444,
              "#bd3786"
             ],
             [
              0.5555555555555556,
              "#d8576b"
             ],
             [
              0.6666666666666666,
              "#ed7953"
             ],
             [
              0.7777777777777778,
              "#fb9f3a"
             ],
             [
              0.8888888888888888,
              "#fdca26"
             ],
             [
              1,
              "#f0f921"
             ]
            ],
            "type": "contour"
           }
          ],
          "contourcarpet": [
           {
            "colorbar": {
             "outlinewidth": 0,
             "ticks": ""
            },
            "type": "contourcarpet"
           }
          ],
          "heatmap": [
           {
            "colorbar": {
             "outlinewidth": 0,
             "ticks": ""
            },
            "colorscale": [
             [
              0,
              "#0d0887"
             ],
             [
              0.1111111111111111,
              "#46039f"
             ],
             [
              0.2222222222222222,
              "#7201a8"
             ],
             [
              0.3333333333333333,
              "#9c179e"
             ],
             [
              0.4444444444444444,
              "#bd3786"
             ],
             [
              0.5555555555555556,
              "#d8576b"
             ],
             [
              0.6666666666666666,
              "#ed7953"
             ],
             [
              0.7777777777777778,
              "#fb9f3a"
             ],
             [
              0.8888888888888888,
              "#fdca26"
             ],
             [
              1,
              "#f0f921"
             ]
            ],
            "type": "heatmap"
           }
          ],
          "heatmapgl": [
           {
            "colorbar": {
             "outlinewidth": 0,
             "ticks": ""
            },
            "colorscale": [
             [
              0,
              "#0d0887"
             ],
             [
              0.1111111111111111,
              "#46039f"
             ],
             [
              0.2222222222222222,
              "#7201a8"
             ],
             [
              0.3333333333333333,
              "#9c179e"
             ],
             [
              0.4444444444444444,
              "#bd3786"
             ],
             [
              0.5555555555555556,
              "#d8576b"
             ],
             [
              0.6666666666666666,
              "#ed7953"
             ],
             [
              0.7777777777777778,
              "#fb9f3a"
             ],
             [
              0.8888888888888888,
              "#fdca26"
             ],
             [
              1,
              "#f0f921"
             ]
            ],
            "type": "heatmapgl"
           }
          ],
          "histogram": [
           {
            "marker": {
             "pattern": {
              "fillmode": "overlay",
              "size": 10,
              "solidity": 0.2
             }
            },
            "type": "histogram"
           }
          ],
          "histogram2d": [
           {
            "colorbar": {
             "outlinewidth": 0,
             "ticks": ""
            },
            "colorscale": [
             [
              0,
              "#0d0887"
             ],
             [
              0.1111111111111111,
              "#46039f"
             ],
             [
              0.2222222222222222,
              "#7201a8"
             ],
             [
              0.3333333333333333,
              "#9c179e"
             ],
             [
              0.4444444444444444,
              "#bd3786"
             ],
             [
              0.5555555555555556,
              "#d8576b"
             ],
             [
              0.6666666666666666,
              "#ed7953"
             ],
             [
              0.7777777777777778,
              "#fb9f3a"
             ],
             [
              0.8888888888888888,
              "#fdca26"
             ],
             [
              1,
              "#f0f921"
             ]
            ],
            "type": "histogram2d"
           }
          ],
          "histogram2dcontour": [
           {
            "colorbar": {
             "outlinewidth": 0,
             "ticks": ""
            },
            "colorscale": [
             [
              0,
              "#0d0887"
             ],
             [
              0.1111111111111111,
              "#46039f"
             ],
             [
              0.2222222222222222,
              "#7201a8"
             ],
             [
              0.3333333333333333,
              "#9c179e"
             ],
             [
              0.4444444444444444,
              "#bd3786"
             ],
             [
              0.5555555555555556,
              "#d8576b"
             ],
             [
              0.6666666666666666,
              "#ed7953"
             ],
             [
              0.7777777777777778,
              "#fb9f3a"
             ],
             [
              0.8888888888888888,
              "#fdca26"
             ],
             [
              1,
              "#f0f921"
             ]
            ],
            "type": "histogram2dcontour"
           }
          ],
          "mesh3d": [
           {
            "colorbar": {
             "outlinewidth": 0,
             "ticks": ""
            },
            "type": "mesh3d"
           }
          ],
          "parcoords": [
           {
            "line": {
             "colorbar": {
              "outlinewidth": 0,
              "ticks": ""
             }
            },
            "type": "parcoords"
           }
          ],
          "pie": [
           {
            "automargin": true,
            "type": "pie"
           }
          ],
          "scatter": [
           {
            "fillpattern": {
             "fillmode": "overlay",
             "size": 10,
             "solidity": 0.2
            },
            "type": "scatter"
           }
          ],
          "scatter3d": [
           {
            "line": {
             "colorbar": {
              "outlinewidth": 0,
              "ticks": ""
             }
            },
            "marker": {
             "colorbar": {
              "outlinewidth": 0,
              "ticks": ""
             }
            },
            "type": "scatter3d"
           }
          ],
          "scattercarpet": [
           {
            "marker": {
             "colorbar": {
              "outlinewidth": 0,
              "ticks": ""
             }
            },
            "type": "scattercarpet"
           }
          ],
          "scattergeo": [
           {
            "marker": {
             "colorbar": {
              "outlinewidth": 0,
              "ticks": ""
             }
            },
            "type": "scattergeo"
           }
          ],
          "scattergl": [
           {
            "marker": {
             "colorbar": {
              "outlinewidth": 0,
              "ticks": ""
             }
            },
            "type": "scattergl"
           }
          ],
          "scattermapbox": [
           {
            "marker": {
             "colorbar": {
              "outlinewidth": 0,
              "ticks": ""
             }
            },
            "type": "scattermapbox"
           }
          ],
          "scatterpolar": [
           {
            "marker": {
             "colorbar": {
              "outlinewidth": 0,
              "ticks": ""
             }
            },
            "type": "scatterpolar"
           }
          ],
          "scatterpolargl": [
           {
            "marker": {
             "colorbar": {
              "outlinewidth": 0,
              "ticks": ""
             }
            },
            "type": "scatterpolargl"
           }
          ],
          "scatterternary": [
           {
            "marker": {
             "colorbar": {
              "outlinewidth": 0,
              "ticks": ""
             }
            },
            "type": "scatterternary"
           }
          ],
          "surface": [
           {
            "colorbar": {
             "outlinewidth": 0,
             "ticks": ""
            },
            "colorscale": [
             [
              0,
              "#0d0887"
             ],
             [
              0.1111111111111111,
              "#46039f"
             ],
             [
              0.2222222222222222,
              "#7201a8"
             ],
             [
              0.3333333333333333,
              "#9c179e"
             ],
             [
              0.4444444444444444,
              "#bd3786"
             ],
             [
              0.5555555555555556,
              "#d8576b"
             ],
             [
              0.6666666666666666,
              "#ed7953"
             ],
             [
              0.7777777777777778,
              "#fb9f3a"
             ],
             [
              0.8888888888888888,
              "#fdca26"
             ],
             [
              1,
              "#f0f921"
             ]
            ],
            "type": "surface"
           }
          ],
          "table": [
           {
            "cells": {
             "fill": {
              "color": "#EBF0F8"
             },
             "line": {
              "color": "white"
             }
            },
            "header": {
             "fill": {
              "color": "#C8D4E3"
             },
             "line": {
              "color": "white"
             }
            },
            "type": "table"
           }
          ]
         },
         "layout": {
          "annotationdefaults": {
           "arrowcolor": "#2a3f5f",
           "arrowhead": 0,
           "arrowwidth": 1
          },
          "autotypenumbers": "strict",
          "coloraxis": {
           "colorbar": {
            "outlinewidth": 0,
            "ticks": ""
           }
          },
          "colorscale": {
           "diverging": [
            [
             0,
             "#8e0152"
            ],
            [
             0.1,
             "#c51b7d"
            ],
            [
             0.2,
             "#de77ae"
            ],
            [
             0.3,
             "#f1b6da"
            ],
            [
             0.4,
             "#fde0ef"
            ],
            [
             0.5,
             "#f7f7f7"
            ],
            [
             0.6,
             "#e6f5d0"
            ],
            [
             0.7,
             "#b8e186"
            ],
            [
             0.8,
             "#7fbc41"
            ],
            [
             0.9,
             "#4d9221"
            ],
            [
             1,
             "#276419"
            ]
           ],
           "sequential": [
            [
             0,
             "#0d0887"
            ],
            [
             0.1111111111111111,
             "#46039f"
            ],
            [
             0.2222222222222222,
             "#7201a8"
            ],
            [
             0.3333333333333333,
             "#9c179e"
            ],
            [
             0.4444444444444444,
             "#bd3786"
            ],
            [
             0.5555555555555556,
             "#d8576b"
            ],
            [
             0.6666666666666666,
             "#ed7953"
            ],
            [
             0.7777777777777778,
             "#fb9f3a"
            ],
            [
             0.8888888888888888,
             "#fdca26"
            ],
            [
             1,
             "#f0f921"
            ]
           ],
           "sequentialminus": [
            [
             0,
             "#0d0887"
            ],
            [
             0.1111111111111111,
             "#46039f"
            ],
            [
             0.2222222222222222,
             "#7201a8"
            ],
            [
             0.3333333333333333,
             "#9c179e"
            ],
            [
             0.4444444444444444,
             "#bd3786"
            ],
            [
             0.5555555555555556,
             "#d8576b"
            ],
            [
             0.6666666666666666,
             "#ed7953"
            ],
            [
             0.7777777777777778,
             "#fb9f3a"
            ],
            [
             0.8888888888888888,
             "#fdca26"
            ],
            [
             1,
             "#f0f921"
            ]
           ]
          },
          "colorway": [
           "#636efa",
           "#EF553B",
           "#00cc96",
           "#ab63fa",
           "#FFA15A",
           "#19d3f3",
           "#FF6692",
           "#B6E880",
           "#FF97FF",
           "#FECB52"
          ],
          "font": {
           "color": "#2a3f5f"
          },
          "geo": {
           "bgcolor": "white",
           "lakecolor": "white",
           "landcolor": "#E5ECF6",
           "showlakes": true,
           "showland": true,
           "subunitcolor": "white"
          },
          "hoverlabel": {
           "align": "left"
          },
          "hovermode": "closest",
          "mapbox": {
           "style": "light"
          },
          "paper_bgcolor": "white",
          "plot_bgcolor": "#E5ECF6",
          "polar": {
           "angularaxis": {
            "gridcolor": "white",
            "linecolor": "white",
            "ticks": ""
           },
           "bgcolor": "#E5ECF6",
           "radialaxis": {
            "gridcolor": "white",
            "linecolor": "white",
            "ticks": ""
           }
          },
          "scene": {
           "xaxis": {
            "backgroundcolor": "#E5ECF6",
            "gridcolor": "white",
            "gridwidth": 2,
            "linecolor": "white",
            "showbackground": true,
            "ticks": "",
            "zerolinecolor": "white"
           },
           "yaxis": {
            "backgroundcolor": "#E5ECF6",
            "gridcolor": "white",
            "gridwidth": 2,
            "linecolor": "white",
            "showbackground": true,
            "ticks": "",
            "zerolinecolor": "white"
           },
           "zaxis": {
            "backgroundcolor": "#E5ECF6",
            "gridcolor": "white",
            "gridwidth": 2,
            "linecolor": "white",
            "showbackground": true,
            "ticks": "",
            "zerolinecolor": "white"
           }
          },
          "shapedefaults": {
           "line": {
            "color": "#2a3f5f"
           }
          },
          "ternary": {
           "aaxis": {
            "gridcolor": "white",
            "linecolor": "white",
            "ticks": ""
           },
           "baxis": {
            "gridcolor": "white",
            "linecolor": "white",
            "ticks": ""
           },
           "bgcolor": "#E5ECF6",
           "caxis": {
            "gridcolor": "white",
            "linecolor": "white",
            "ticks": ""
           }
          },
          "title": {
           "x": 0.05
          },
          "xaxis": {
           "automargin": true,
           "gridcolor": "white",
           "linecolor": "white",
           "ticks": "",
           "title": {
            "standoff": 15
           },
           "zerolinecolor": "white",
           "zerolinewidth": 2
          },
          "yaxis": {
           "automargin": true,
           "gridcolor": "white",
           "linecolor": "white",
           "ticks": "",
           "title": {
            "standoff": 15
           },
           "zerolinecolor": "white",
           "zerolinewidth": 2
          }
         }
        },
        "title": {
         "text": "Delta Spread"
        },
        "xaxis": {
         "anchor": "y",
         "domain": [
          0,
          1
         ],
         "title": {
          "text": "Spot Price"
         }
        },
        "yaxis": {
         "anchor": "x",
         "domain": [
          0,
          1
         ],
         "title": {
          "text": "value"
         }
        }
       }
      }
     },
     "metadata": {},
     "output_type": "display_data"
    }
   ],
   "source": [
    "df=pd.DataFrame({\"Spread Delta\":Spread_Delta, \"Long Call K=80\":list_delta_long_call, \"Short Call K=120\":list_delta_short_call, \"Spot Price\":spot})\n",
    "df.set_index(\"Spot Price\", inplace = True)\n",
    "px.line(df, title='Delta Spread')"
   ]
  },
  {
   "cell_type": "code",
   "execution_count": 13,
   "metadata": {},
   "outputs": [
    {
     "data": {
      "application/vnd.plotly.v1+json": {
       "config": {
        "plotlyServerURL": "https://plot.ly"
       },
       "data": [
        {
         "hovertemplate": "variable=Spread Gamma<br>Spot Price=%{x}<br>value=%{y}<extra></extra>",
         "legendgroup": "Spread Gamma",
         "line": {
          "color": "#636efa",
          "dash": "solid"
         },
         "marker": {
          "symbol": "circle"
         },
         "mode": "lines",
         "name": "Spread Gamma",
         "orientation": "v",
         "showlegend": true,
         "type": "scatter",
         "x": [
          50,
          51,
          52,
          53,
          54,
          55,
          56,
          57,
          58,
          59,
          60,
          61,
          62,
          63,
          64,
          65,
          66,
          67,
          68,
          69,
          70,
          71,
          72,
          73,
          74,
          75,
          76,
          77,
          78,
          79,
          80,
          81,
          82,
          83,
          84,
          85,
          86,
          87,
          88,
          89,
          90,
          91,
          92,
          93,
          94,
          95,
          96,
          97,
          98,
          99,
          100,
          101,
          102,
          103,
          104,
          105,
          106,
          107,
          108,
          109,
          110,
          111,
          112,
          113,
          114,
          115,
          116,
          117,
          118,
          119,
          120,
          121,
          122,
          123,
          124,
          125,
          126,
          127,
          128,
          129,
          130,
          131,
          132,
          133,
          134,
          135,
          136,
          137,
          138,
          139,
          140,
          141,
          142,
          143,
          144,
          145,
          146,
          147,
          148,
          149,
          150,
          151,
          152,
          153,
          154,
          155,
          156,
          157,
          158,
          159,
          160,
          161,
          162,
          163,
          164,
          165,
          166,
          167,
          168,
          169,
          170,
          171,
          172,
          173,
          174,
          175,
          176,
          177,
          178,
          179,
          180,
          181,
          182,
          183,
          184,
          185,
          186,
          187,
          188,
          189,
          190,
          191,
          192,
          193,
          194,
          195,
          196,
          197,
          198,
          199
         ],
         "xaxis": "x",
         "y": [
          1.7752136439399181e-9,
          7.677202600496692e-9,
          3.0316130608957774e-8,
          1.0981939835919809e-7,
          3.6652447010624164e-7,
          0.0000011316400531532893,
          0.0000032444885661586635,
          0.000008668922339366569,
          0.000021657998247415616,
          0.00005075415003678742,
          0.00011189467069020484,
          0.00023272402493207414,
          0.0004578325339699307,
          0.0008540446529834067,
          0.0015141805865644155,
          0.0025571521626547872,
          0.00412214903243426,
          0.006355310063042685,
          0.009388754437315202,
          0.01331395692962902,
          0.0181536618527149,
          0.023838121850272315,
          0.030191759212761418,
          0.03693503915928612,
          0.04370357090062858,
          0.050082856678008006,
          0.05565363401436778,
          0.060040340094543725,
          0.06295450211000166,
          0.0642259645132174,
          0.06381743986127704,
          0.061821195003900944,
          0.05843992519684149,
          0.05395631980945363,
          0.048697074024364156,
          0.04299708947618142,
          0.037168568055362255,
          0.031478049140947685,
          0.026132622992496777,
          0.02127495002843759,
          0.01698556642596603,
          0.013290347021241579,
          0.010170885345354182,
          0.007575815047000309,
          0.005431582445998103,
          0.0036517403265160088,
          0.002144355096815474,
          0.0008175323492833403,
          -0.00041666079024710377,
          -0.0016394632556377938,
          -0.0029234463440361304,
          -0.004330934587644727,
          -0.005912574833740523,
          -0.007705943908945114,
          -0.00973421468513387,
          -0.01200500305899199,
          -0.014509582009928171,
          -0.017222668191148018,
          -0.020102962536483332,
          -0.023094565752142658,
          -0.026129303183239,
          -0.029129894920429864,
          -0.0320138104682491,
          -0.03469756609037488,
          -0.037101167598880186,
          -0.039152378423131975,
          -0.040790504258099644,
          -0.0419694289058398,
          -0.04265970469927999,
          -0.04284958606120185,
          -0.04254498596821836,
          -0.04176842221125192,
          -0.04055709467141563,
          -0.03896029002896948,
          -0.037036342908147515,
          -0.034849391842611994,
          -0.03246615659855076,
          -0.029952934245944474,
          -0.02737297006035296,
          -0.024784311438937102,
          -0.02223820384273543,
          -0.019778041864597418,
          -0.01743884927715621,
          -0.015247231480279918,
          -0.013221723048821117,
          -0.01137344191036854,
          -0.009706959059185595,
          -0.008221297084913145,
          -0.006910980333419285,
          -0.005767072353880413,
          -0.004778150698649755,
          -0.003931183679947134,
          -0.003212287236863827,
          -0.0026073518683145886,
          -0.002102539214115555,
          -0.0016846551715667068,
          -0.0013414114933290612,
          -0.0010615908531344648,
          -0.000835131710972884,
          -0.0006531493211231657,
          -0.0005079082660705868,
          -0.0003927602983420216,
          -0.000302059314097697,
          -0.0002310631942364567,
          -0.00017583020083611505,
          -0.00013311572586315485,
          -0.0001002735262864113,
          -0.0000751641789708247,
          -0.00005607235589421821,
          -0.00004163364153235397,
          -0.00003077096348009092,
          -0.00002264025174473218,
          -0.00001658464677514255,
          -0.000012096407314816868,
          -0.00000878559576166275,
          -0.000006354614195654726,
          -0.000004577706476022425,
          -0.0000032846131990871554,
          -0.0000023476533779710442,
          -0.0000016715995980299122,
          -0.0000011858052648517526,
          -8.381289461385279e-7,
          -5.902791127451769e-7,
          -4.1427156723482256e-7,
          -2.897512277616689e-7,
          -2.019800627687466e-7,
          -1.403345860944347e-7,
          -9.719036383975292e-8,
          -6.709846851217085e-8,
          -4.6180744219179436e-8,
          -3.1688053904756985e-8,
          -2.1679204292320474e-8,
          -1.478871593394949e-8,
          -1.0059644252022346e-8,
          -6.823778543133679e-9,
          -4.616171710982023e-9,
          -3.114424305339292e-9,
          -2.0957330101762438e-9,
          -1.4066289069332019e-9,
          -9.41740201673038e-10,
          -6.289451579696272e-10,
          -4.1903103513158547e-10,
          -2.7851753733565594e-10,
          -1.846939256706164e-10,
          -1.2219873934500373e-10,
          -8.067051115308747e-11,
          -5.3139367276148367e-11,
          -3.49293543117758e-11,
          -2.291163485711156e-11,
          -1.4997929309856445e-11
         ],
         "yaxis": "y"
        },
        {
         "hovertemplate": "variable=Long Call K=80<br>Spot Price=%{x}<br>value=%{y}<extra></extra>",
         "legendgroup": "Long Call K=80",
         "line": {
          "color": "#EF553B",
          "dash": "solid"
         },
         "marker": {
          "symbol": "circle"
         },
         "mode": "lines",
         "name": "Long Call K=80",
         "orientation": "v",
         "showlegend": true,
         "type": "scatter",
         "x": [
          50,
          51,
          52,
          53,
          54,
          55,
          56,
          57,
          58,
          59,
          60,
          61,
          62,
          63,
          64,
          65,
          66,
          67,
          68,
          69,
          70,
          71,
          72,
          73,
          74,
          75,
          76,
          77,
          78,
          79,
          80,
          81,
          82,
          83,
          84,
          85,
          86,
          87,
          88,
          89,
          90,
          91,
          92,
          93,
          94,
          95,
          96,
          97,
          98,
          99,
          100,
          101,
          102,
          103,
          104,
          105,
          106,
          107,
          108,
          109,
          110,
          111,
          112,
          113,
          114,
          115,
          116,
          117,
          118,
          119,
          120,
          121,
          122,
          123,
          124,
          125,
          126,
          127,
          128,
          129,
          130,
          131,
          132,
          133,
          134,
          135,
          136,
          137,
          138,
          139,
          140,
          141,
          142,
          143,
          144,
          145,
          146,
          147,
          148,
          149,
          150,
          151,
          152,
          153,
          154,
          155,
          156,
          157,
          158,
          159,
          160,
          161,
          162,
          163,
          164,
          165,
          166,
          167,
          168,
          169,
          170,
          171,
          172,
          173,
          174,
          175,
          176,
          177,
          178,
          179,
          180,
          181,
          182,
          183,
          184,
          185,
          186,
          187,
          188,
          189,
          190,
          191,
          192,
          193,
          194,
          195,
          196,
          197,
          198,
          199
         ],
         "xaxis": "x",
         "y": [
          1.7752136439399181e-9,
          7.677202600496692e-9,
          3.0316130608957774e-8,
          1.0981939835919809e-7,
          3.6652447010624164e-7,
          0.0000011316400531532893,
          0.000003244488566158664,
          0.00000866892233936657,
          0.000021657998247415637,
          0.00005075415003678756,
          0.00011189467069020579,
          0.00023272402493208004,
          0.00045783253396996495,
          0.000854044652983592,
          0.001514180586565352,
          0.002557152162659224,
          0.004122149032454006,
          0.0063553100631254696,
          0.009388754437642866,
          0.013313956930856134,
          0.01815366185707235,
          0.023838121864972875,
          0.03019175925996907,
          0.03693503930384715,
          0.04370357132348849,
          0.05008285786148377,
          0.0556536371884491,
          0.06004034826450077,
          0.0629545223207554,
          0.06422601263000645,
          0.06381755025044882,
          0.06182143935354768,
          0.05844044767575914,
          0.05395740022797844,
          0.048699237016741594,
          0.04300128621005347,
          0.03717646749652045,
          0.031492487806445965,
          0.026158273967285497,
          0.021319281402124402,
          0.017060162873092834,
          0.013412661933699246,
          0.010366470501190746,
          0.007881036736313619,
          0.0058967755200651515,
          0.004344675931633968,
          0.0031538088211923755,
          0.002256646222716019,
          0.0015923862797041363,
          0.001108636099331544,
          0.0007618623991061847,
          0.000517005448933409,
          0.00034659479135472213,
          0.00022962967483752933,
          0.00015041028942962137,
          0.00009743817905624219,
          0.00006245046229853149,
          0.000039613607274496865,
          0.000024876970162713884,
          0.000015471487118593107,
          0.000009531921293482095,
          0.0000058192952291247915,
          0.000003521480066956566,
          0.0000021128278279059273,
          0.000001257193419207792,
          7.42079467352104e-7,
          4.3462684164250334e-7,
          2.5264133046168184e-7,
          1.4578554575962941e-7,
          8.353027957838935e-8,
          4.7532080857135474e-8,
          2.6867924816649603e-8,
          1.5089466378033517e-8,
          8.421536617724458e-9,
          4.671636458008938e-9,
          2.5762434856162846e-9,
          1.4126103025095572e-9,
          7.702832240772724e-10,
          4.1777630600348393e-10,
          2.2540986416394412e-10,
          1.210057667296312e-10,
          6.464120912820381e-11,
          3.436745228566733e-11,
          1.818787441272669e-11,
          9.582387093342092e-12,
          5.026680093247282e-12,
          2.6257987442664413e-12,
          1.3660590914836776e-12,
          7.078789306305219e-13,
          3.654112937931622e-13,
          1.8792689882877212e-13,
          9.630060032892003e-14,
          4.9175611141260186e-14,
          2.502635259388604e-14,
          1.2694551347174004e-14,
          6.418785609215057e-15,
          3.2355385780036557e-15,
          1.626072054513711e-15,
          8.148405335354762e-16,
          4.071778333727006e-16,
          2.0291410956411962e-16,
          1.0085417765638731e-16,
          4.999941984365816e-17,
          2.4726371307480692e-17,
          1.2198716334885023e-17,
          6.004256832093126e-18,
          2.9486820182702815e-18,
          1.4449455507232166e-18,
          7.065783992465549e-19,
          3.4481347483229906e-19,
          1.6793916120853124e-19,
          8.163788173498561e-20,
          3.961237245647252e-20,
          1.9186511773086933e-20,
          9.277120779971619e-21,
          4.478243564125095e-21,
          2.158262015387616e-21,
          1.0385480411424798e-21,
          4.989975052556817e-22,
          2.3941001447059415e-22,
          1.1470454351917303e-22,
          5.488263429859389e-23,
          2.6225658338132819e-23,
          1.251628783107054e-23,
          5.9662635050789304e-24,
          2.840708137942283e-24,
          1.3510367392718214e-24,
          6.41863454525292e-25,
          3.0462897680447355e-25,
          1.444343610335899e-25,
          6.841602354756928e-26,
          3.2377994238576604e-26,
          1.53095796764432e-26,
          7.232922462927808e-27,
          3.414421878495733e-27,
          1.6106034068303816e-27,
          7.591768755718882e-28,
          3.5759773299388107e-28,
          1.6832868243335912e-28,
          7.918572271962574e-29,
          3.7228412696986386e-29,
          1.7492592771822672e-29,
          8.214832756653757e-30,
          3.85585485004653e-30,
          1.808973796487673e-30,
          8.482921940482306e-31,
          3.976233911511927e-31,
          1.863043635438624e-31,
          8.725893256190378e-32,
          4.0854828288278414e-32
         ],
         "yaxis": "y"
        },
        {
         "hovertemplate": "variable=Short Call K=120<br>Spot Price=%{x}<br>value=%{y}<extra></extra>",
         "legendgroup": "Short Call K=120",
         "line": {
          "color": "#00cc96",
          "dash": "solid"
         },
         "marker": {
          "symbol": "circle"
         },
         "mode": "lines",
         "name": "Short Call K=120",
         "orientation": "v",
         "showlegend": true,
         "type": "scatter",
         "x": [
          50,
          51,
          52,
          53,
          54,
          55,
          56,
          57,
          58,
          59,
          60,
          61,
          62,
          63,
          64,
          65,
          66,
          67,
          68,
          69,
          70,
          71,
          72,
          73,
          74,
          75,
          76,
          77,
          78,
          79,
          80,
          81,
          82,
          83,
          84,
          85,
          86,
          87,
          88,
          89,
          90,
          91,
          92,
          93,
          94,
          95,
          96,
          97,
          98,
          99,
          100,
          101,
          102,
          103,
          104,
          105,
          106,
          107,
          108,
          109,
          110,
          111,
          112,
          113,
          114,
          115,
          116,
          117,
          118,
          119,
          120,
          121,
          122,
          123,
          124,
          125,
          126,
          127,
          128,
          129,
          130,
          131,
          132,
          133,
          134,
          135,
          136,
          137,
          138,
          139,
          140,
          141,
          142,
          143,
          144,
          145,
          146,
          147,
          148,
          149,
          150,
          151,
          152,
          153,
          154,
          155,
          156,
          157,
          158,
          159,
          160,
          161,
          162,
          163,
          164,
          165,
          166,
          167,
          168,
          169,
          170,
          171,
          172,
          173,
          174,
          175,
          176,
          177,
          178,
          179,
          180,
          181,
          182,
          183,
          184,
          185,
          186,
          187,
          188,
          189,
          190,
          191,
          192,
          193,
          194,
          195,
          196,
          197,
          198,
          199
         ],
         "xaxis": "x",
         "y": [
          8.10672041913729e-29,
          1.3088652033334117e-27,
          1.880847785292551e-26,
          2.4191386697314e-25,
          2.7996251158811504e-24,
          2.9296202081655294e-23,
          2.784860101510219e-22,
          2.4152524848794627e-21,
          1.9189457750436135e-20,
          1.4020827689726834e-19,
          9.455155508677536e-19,
          5.905158604058795e-18,
          3.426596711778389e-17,
          1.8530465851848507e-16,
          9.36597573121534e-16,
          4.436571076520106e-15,
          1.9746558068312e-14,
          8.278436465816214e-14,
          3.2766267529560617e-13,
          1.2271143917203366e-12,
          4.35744955793126e-12,
          1.4700559789033567e-11,
          4.720765184013858e-11,
          1.4456103105457624e-10,
          4.228599058254752e-10,
          1.183475762626612e-9,
          3.1740813266338557e-9,
          8.169957046761638e-9,
          2.0210753739305185e-8,
          4.8116789058275624e-8,
          1.1038917177926139e-7,
          2.4434964673749446e-7,
          5.224789176483131e-7,
          0.0000010804185248089153,
          0.0000021629923774391096,
          0.0000041967338720423364,
          0.000007899441158194602,
          0.00001443866549827709,
          0.000025650974788719094,
          0.000044331373686811996,
          0.00007459644712680386,
          0.00012231491245766644,
          0.00019558515583656343,
          0.00030522168931330993,
          0.00046519307406704886,
          0.0006929356051179592,
          0.0010094537243769013,
          0.0014391138734326787,
          0.00200904706995124,
          0.0027480993549693377,
          0.003685308743142315,
          0.004847940036578136,
          0.006259169625095245,
          0.007935573583782643,
          0.00988462497456349,
          0.012102441238048232,
          0.014572032472226703,
          0.017262281798422513,
          0.020127839506646046,
          0.02311003723926125,
          0.026138835104532483,
          0.02913571421565899,
          0.03201733194831606,
          0.03469967891820279,
          0.037102424792299395,
          0.03915312050259933,
          0.040790938884941286,
          0.04196968154717026,
          0.04265985048482575,
          0.042849669591481426,
          0.042545033500299215,
          0.041768449079176734,
          0.04055710976088201,
          0.0389602984505061,
          0.037036347579783975,
          0.03484939441885548,
          0.03246615801116106,
          0.029952935016227696,
          0.027372970478129265,
          0.024784311664346966,
          0.0222382039637412,
          0.019778041929238627,
          0.017438849311523664,
          0.015247231498467793,
          0.013221723058403504,
          0.011373441915395221,
          0.009706959061811394,
          0.008221297086279203,
          0.006910980334127164,
          0.005767072354245824,
          0.004778150698837682,
          0.003931183680043434,
          0.0032122872369130025,
          0.002607351868339615,
          0.00210253921412825,
          0.0016846551715731255,
          0.0013414114933322967,
          0.001061590853136091,
          0.0008351317109736989,
          0.0006531493211235729,
          0.0005079082660707898,
          0.0003927602983421224,
          0.000302059314097747,
          0.0002310631942364814,
          0.00017583020083612724,
          0.00013311572586316087,
          0.00010027352628641425,
          0.00007516417897082616,
          0.000056072355894218915,
          0.00004163364153235432,
          0.00003077096348009109,
          0.000022640251744732262,
          0.00001658464677514259,
          0.000012096407314816887,
          0.000008785595761662759,
          0.00000635461419565473,
          0.000004577706476022427,
          0.0000032846131990871563,
          0.0000023476533779710447,
          0.0000016715995980299124,
          0.0000011858052648517528,
          8.38128946138528e-7,
          5.902791127451769e-7,
          4.1427156723482256e-7,
          2.897512277616689e-7,
          2.019800627687466e-7,
          1.403345860944347e-7,
          9.719036383975292e-8,
          6.709846851217085e-8,
          4.6180744219179436e-8,
          3.1688053904756985e-8,
          2.1679204292320474e-8,
          1.478871593394949e-8,
          1.0059644252022346e-8,
          6.823778543133679e-9,
          4.616171710982023e-9,
          3.114424305339292e-9,
          2.0957330101762438e-9,
          1.4066289069332019e-9,
          9.41740201673038e-10,
          6.289451579696272e-10,
          4.1903103513158547e-10,
          2.7851753733565594e-10,
          1.846939256706164e-10,
          1.2219873934500373e-10,
          8.067051115308747e-11,
          5.3139367276148367e-11,
          3.49293543117758e-11,
          2.291163485711156e-11,
          1.4997929309856445e-11
         ],
         "yaxis": "y"
        }
       ],
       "layout": {
        "legend": {
         "title": {
          "text": "variable"
         },
         "tracegroupgap": 0
        },
        "template": {
         "data": {
          "bar": [
           {
            "error_x": {
             "color": "#2a3f5f"
            },
            "error_y": {
             "color": "#2a3f5f"
            },
            "marker": {
             "line": {
              "color": "#E5ECF6",
              "width": 0.5
             },
             "pattern": {
              "fillmode": "overlay",
              "size": 10,
              "solidity": 0.2
             }
            },
            "type": "bar"
           }
          ],
          "barpolar": [
           {
            "marker": {
             "line": {
              "color": "#E5ECF6",
              "width": 0.5
             },
             "pattern": {
              "fillmode": "overlay",
              "size": 10,
              "solidity": 0.2
             }
            },
            "type": "barpolar"
           }
          ],
          "carpet": [
           {
            "aaxis": {
             "endlinecolor": "#2a3f5f",
             "gridcolor": "white",
             "linecolor": "white",
             "minorgridcolor": "white",
             "startlinecolor": "#2a3f5f"
            },
            "baxis": {
             "endlinecolor": "#2a3f5f",
             "gridcolor": "white",
             "linecolor": "white",
             "minorgridcolor": "white",
             "startlinecolor": "#2a3f5f"
            },
            "type": "carpet"
           }
          ],
          "choropleth": [
           {
            "colorbar": {
             "outlinewidth": 0,
             "ticks": ""
            },
            "type": "choropleth"
           }
          ],
          "contour": [
           {
            "colorbar": {
             "outlinewidth": 0,
             "ticks": ""
            },
            "colorscale": [
             [
              0,
              "#0d0887"
             ],
             [
              0.1111111111111111,
              "#46039f"
             ],
             [
              0.2222222222222222,
              "#7201a8"
             ],
             [
              0.3333333333333333,
              "#9c179e"
             ],
             [
              0.4444444444444444,
              "#bd3786"
             ],
             [
              0.5555555555555556,
              "#d8576b"
             ],
             [
              0.6666666666666666,
              "#ed7953"
             ],
             [
              0.7777777777777778,
              "#fb9f3a"
             ],
             [
              0.8888888888888888,
              "#fdca26"
             ],
             [
              1,
              "#f0f921"
             ]
            ],
            "type": "contour"
           }
          ],
          "contourcarpet": [
           {
            "colorbar": {
             "outlinewidth": 0,
             "ticks": ""
            },
            "type": "contourcarpet"
           }
          ],
          "heatmap": [
           {
            "colorbar": {
             "outlinewidth": 0,
             "ticks": ""
            },
            "colorscale": [
             [
              0,
              "#0d0887"
             ],
             [
              0.1111111111111111,
              "#46039f"
             ],
             [
              0.2222222222222222,
              "#7201a8"
             ],
             [
              0.3333333333333333,
              "#9c179e"
             ],
             [
              0.4444444444444444,
              "#bd3786"
             ],
             [
              0.5555555555555556,
              "#d8576b"
             ],
             [
              0.6666666666666666,
              "#ed7953"
             ],
             [
              0.7777777777777778,
              "#fb9f3a"
             ],
             [
              0.8888888888888888,
              "#fdca26"
             ],
             [
              1,
              "#f0f921"
             ]
            ],
            "type": "heatmap"
           }
          ],
          "heatmapgl": [
           {
            "colorbar": {
             "outlinewidth": 0,
             "ticks": ""
            },
            "colorscale": [
             [
              0,
              "#0d0887"
             ],
             [
              0.1111111111111111,
              "#46039f"
             ],
             [
              0.2222222222222222,
              "#7201a8"
             ],
             [
              0.3333333333333333,
              "#9c179e"
             ],
             [
              0.4444444444444444,
              "#bd3786"
             ],
             [
              0.5555555555555556,
              "#d8576b"
             ],
             [
              0.6666666666666666,
              "#ed7953"
             ],
             [
              0.7777777777777778,
              "#fb9f3a"
             ],
             [
              0.8888888888888888,
              "#fdca26"
             ],
             [
              1,
              "#f0f921"
             ]
            ],
            "type": "heatmapgl"
           }
          ],
          "histogram": [
           {
            "marker": {
             "pattern": {
              "fillmode": "overlay",
              "size": 10,
              "solidity": 0.2
             }
            },
            "type": "histogram"
           }
          ],
          "histogram2d": [
           {
            "colorbar": {
             "outlinewidth": 0,
             "ticks": ""
            },
            "colorscale": [
             [
              0,
              "#0d0887"
             ],
             [
              0.1111111111111111,
              "#46039f"
             ],
             [
              0.2222222222222222,
              "#7201a8"
             ],
             [
              0.3333333333333333,
              "#9c179e"
             ],
             [
              0.4444444444444444,
              "#bd3786"
             ],
             [
              0.5555555555555556,
              "#d8576b"
             ],
             [
              0.6666666666666666,
              "#ed7953"
             ],
             [
              0.7777777777777778,
              "#fb9f3a"
             ],
             [
              0.8888888888888888,
              "#fdca26"
             ],
             [
              1,
              "#f0f921"
             ]
            ],
            "type": "histogram2d"
           }
          ],
          "histogram2dcontour": [
           {
            "colorbar": {
             "outlinewidth": 0,
             "ticks": ""
            },
            "colorscale": [
             [
              0,
              "#0d0887"
             ],
             [
              0.1111111111111111,
              "#46039f"
             ],
             [
              0.2222222222222222,
              "#7201a8"
             ],
             [
              0.3333333333333333,
              "#9c179e"
             ],
             [
              0.4444444444444444,
              "#bd3786"
             ],
             [
              0.5555555555555556,
              "#d8576b"
             ],
             [
              0.6666666666666666,
              "#ed7953"
             ],
             [
              0.7777777777777778,
              "#fb9f3a"
             ],
             [
              0.8888888888888888,
              "#fdca26"
             ],
             [
              1,
              "#f0f921"
             ]
            ],
            "type": "histogram2dcontour"
           }
          ],
          "mesh3d": [
           {
            "colorbar": {
             "outlinewidth": 0,
             "ticks": ""
            },
            "type": "mesh3d"
           }
          ],
          "parcoords": [
           {
            "line": {
             "colorbar": {
              "outlinewidth": 0,
              "ticks": ""
             }
            },
            "type": "parcoords"
           }
          ],
          "pie": [
           {
            "automargin": true,
            "type": "pie"
           }
          ],
          "scatter": [
           {
            "fillpattern": {
             "fillmode": "overlay",
             "size": 10,
             "solidity": 0.2
            },
            "type": "scatter"
           }
          ],
          "scatter3d": [
           {
            "line": {
             "colorbar": {
              "outlinewidth": 0,
              "ticks": ""
             }
            },
            "marker": {
             "colorbar": {
              "outlinewidth": 0,
              "ticks": ""
             }
            },
            "type": "scatter3d"
           }
          ],
          "scattercarpet": [
           {
            "marker": {
             "colorbar": {
              "outlinewidth": 0,
              "ticks": ""
             }
            },
            "type": "scattercarpet"
           }
          ],
          "scattergeo": [
           {
            "marker": {
             "colorbar": {
              "outlinewidth": 0,
              "ticks": ""
             }
            },
            "type": "scattergeo"
           }
          ],
          "scattergl": [
           {
            "marker": {
             "colorbar": {
              "outlinewidth": 0,
              "ticks": ""
             }
            },
            "type": "scattergl"
           }
          ],
          "scattermapbox": [
           {
            "marker": {
             "colorbar": {
              "outlinewidth": 0,
              "ticks": ""
             }
            },
            "type": "scattermapbox"
           }
          ],
          "scatterpolar": [
           {
            "marker": {
             "colorbar": {
              "outlinewidth": 0,
              "ticks": ""
             }
            },
            "type": "scatterpolar"
           }
          ],
          "scatterpolargl": [
           {
            "marker": {
             "colorbar": {
              "outlinewidth": 0,
              "ticks": ""
             }
            },
            "type": "scatterpolargl"
           }
          ],
          "scatterternary": [
           {
            "marker": {
             "colorbar": {
              "outlinewidth": 0,
              "ticks": ""
             }
            },
            "type": "scatterternary"
           }
          ],
          "surface": [
           {
            "colorbar": {
             "outlinewidth": 0,
             "ticks": ""
            },
            "colorscale": [
             [
              0,
              "#0d0887"
             ],
             [
              0.1111111111111111,
              "#46039f"
             ],
             [
              0.2222222222222222,
              "#7201a8"
             ],
             [
              0.3333333333333333,
              "#9c179e"
             ],
             [
              0.4444444444444444,
              "#bd3786"
             ],
             [
              0.5555555555555556,
              "#d8576b"
             ],
             [
              0.6666666666666666,
              "#ed7953"
             ],
             [
              0.7777777777777778,
              "#fb9f3a"
             ],
             [
              0.8888888888888888,
              "#fdca26"
             ],
             [
              1,
              "#f0f921"
             ]
            ],
            "type": "surface"
           }
          ],
          "table": [
           {
            "cells": {
             "fill": {
              "color": "#EBF0F8"
             },
             "line": {
              "color": "white"
             }
            },
            "header": {
             "fill": {
              "color": "#C8D4E3"
             },
             "line": {
              "color": "white"
             }
            },
            "type": "table"
           }
          ]
         },
         "layout": {
          "annotationdefaults": {
           "arrowcolor": "#2a3f5f",
           "arrowhead": 0,
           "arrowwidth": 1
          },
          "autotypenumbers": "strict",
          "coloraxis": {
           "colorbar": {
            "outlinewidth": 0,
            "ticks": ""
           }
          },
          "colorscale": {
           "diverging": [
            [
             0,
             "#8e0152"
            ],
            [
             0.1,
             "#c51b7d"
            ],
            [
             0.2,
             "#de77ae"
            ],
            [
             0.3,
             "#f1b6da"
            ],
            [
             0.4,
             "#fde0ef"
            ],
            [
             0.5,
             "#f7f7f7"
            ],
            [
             0.6,
             "#e6f5d0"
            ],
            [
             0.7,
             "#b8e186"
            ],
            [
             0.8,
             "#7fbc41"
            ],
            [
             0.9,
             "#4d9221"
            ],
            [
             1,
             "#276419"
            ]
           ],
           "sequential": [
            [
             0,
             "#0d0887"
            ],
            [
             0.1111111111111111,
             "#46039f"
            ],
            [
             0.2222222222222222,
             "#7201a8"
            ],
            [
             0.3333333333333333,
             "#9c179e"
            ],
            [
             0.4444444444444444,
             "#bd3786"
            ],
            [
             0.5555555555555556,
             "#d8576b"
            ],
            [
             0.6666666666666666,
             "#ed7953"
            ],
            [
             0.7777777777777778,
             "#fb9f3a"
            ],
            [
             0.8888888888888888,
             "#fdca26"
            ],
            [
             1,
             "#f0f921"
            ]
           ],
           "sequentialminus": [
            [
             0,
             "#0d0887"
            ],
            [
             0.1111111111111111,
             "#46039f"
            ],
            [
             0.2222222222222222,
             "#7201a8"
            ],
            [
             0.3333333333333333,
             "#9c179e"
            ],
            [
             0.4444444444444444,
             "#bd3786"
            ],
            [
             0.5555555555555556,
             "#d8576b"
            ],
            [
             0.6666666666666666,
             "#ed7953"
            ],
            [
             0.7777777777777778,
             "#fb9f3a"
            ],
            [
             0.8888888888888888,
             "#fdca26"
            ],
            [
             1,
             "#f0f921"
            ]
           ]
          },
          "colorway": [
           "#636efa",
           "#EF553B",
           "#00cc96",
           "#ab63fa",
           "#FFA15A",
           "#19d3f3",
           "#FF6692",
           "#B6E880",
           "#FF97FF",
           "#FECB52"
          ],
          "font": {
           "color": "#2a3f5f"
          },
          "geo": {
           "bgcolor": "white",
           "lakecolor": "white",
           "landcolor": "#E5ECF6",
           "showlakes": true,
           "showland": true,
           "subunitcolor": "white"
          },
          "hoverlabel": {
           "align": "left"
          },
          "hovermode": "closest",
          "mapbox": {
           "style": "light"
          },
          "paper_bgcolor": "white",
          "plot_bgcolor": "#E5ECF6",
          "polar": {
           "angularaxis": {
            "gridcolor": "white",
            "linecolor": "white",
            "ticks": ""
           },
           "bgcolor": "#E5ECF6",
           "radialaxis": {
            "gridcolor": "white",
            "linecolor": "white",
            "ticks": ""
           }
          },
          "scene": {
           "xaxis": {
            "backgroundcolor": "#E5ECF6",
            "gridcolor": "white",
            "gridwidth": 2,
            "linecolor": "white",
            "showbackground": true,
            "ticks": "",
            "zerolinecolor": "white"
           },
           "yaxis": {
            "backgroundcolor": "#E5ECF6",
            "gridcolor": "white",
            "gridwidth": 2,
            "linecolor": "white",
            "showbackground": true,
            "ticks": "",
            "zerolinecolor": "white"
           },
           "zaxis": {
            "backgroundcolor": "#E5ECF6",
            "gridcolor": "white",
            "gridwidth": 2,
            "linecolor": "white",
            "showbackground": true,
            "ticks": "",
            "zerolinecolor": "white"
           }
          },
          "shapedefaults": {
           "line": {
            "color": "#2a3f5f"
           }
          },
          "ternary": {
           "aaxis": {
            "gridcolor": "white",
            "linecolor": "white",
            "ticks": ""
           },
           "baxis": {
            "gridcolor": "white",
            "linecolor": "white",
            "ticks": ""
           },
           "bgcolor": "#E5ECF6",
           "caxis": {
            "gridcolor": "white",
            "linecolor": "white",
            "ticks": ""
           }
          },
          "title": {
           "x": 0.05
          },
          "xaxis": {
           "automargin": true,
           "gridcolor": "white",
           "linecolor": "white",
           "ticks": "",
           "title": {
            "standoff": 15
           },
           "zerolinecolor": "white",
           "zerolinewidth": 2
          },
          "yaxis": {
           "automargin": true,
           "gridcolor": "white",
           "linecolor": "white",
           "ticks": "",
           "title": {
            "standoff": 15
           },
           "zerolinecolor": "white",
           "zerolinewidth": 2
          }
         }
        },
        "title": {
         "text": "Gamma Spread"
        },
        "xaxis": {
         "anchor": "y",
         "domain": [
          0,
          1
         ],
         "title": {
          "text": "Spot Price"
         }
        },
        "yaxis": {
         "anchor": "x",
         "domain": [
          0,
          1
         ],
         "title": {
          "text": "value"
         }
        }
       }
      }
     },
     "metadata": {},
     "output_type": "display_data"
    }
   ],
   "source": [
    "df=pd.DataFrame({\"Spread Gamma\":Spread_Gamma, \"Long Call K=80\":list_gamma_long_call, \"Short Call K=120\":list_gamma_short_call, \"Spot Price\":spot})\n",
    "df.set_index(\"Spot Price\", inplace = True)\n",
    "px.line(df, title='Gamma Spread')"
   ]
  },
  {
   "cell_type": "code",
   "execution_count": 14,
   "metadata": {},
   "outputs": [
    {
     "data": {
      "application/vnd.plotly.v1+json": {
       "config": {
        "plotlyServerURL": "https://plot.ly"
       },
       "data": [
        {
         "hovertemplate": "variable=Spread Vega<br>Spot Price=%{x}<br>value=%{y}<extra></extra>",
         "legendgroup": "Spread Vega",
         "line": {
          "color": "#636efa",
          "dash": "solid"
         },
         "marker": {
          "symbol": "circle"
         },
         "mode": "lines",
         "name": "Spread Vega",
         "orientation": "v",
         "showlegend": true,
         "type": "scatter",
         "x": [
          50,
          51,
          52,
          53,
          54,
          55,
          56,
          57,
          58,
          59,
          60,
          61,
          62,
          63,
          64,
          65,
          66,
          67,
          68,
          69,
          70,
          71,
          72,
          73,
          74,
          75,
          76,
          77,
          78,
          79,
          80,
          81,
          82,
          83,
          84,
          85,
          86,
          87,
          88,
          89,
          90,
          91,
          92,
          93,
          94,
          95,
          96,
          97,
          98,
          99,
          100,
          101,
          102,
          103,
          104,
          105,
          106,
          107,
          108,
          109,
          110,
          111,
          112,
          113,
          114,
          115,
          116,
          117,
          118,
          119,
          120,
          121,
          122,
          123,
          124,
          125,
          126,
          127,
          128,
          129,
          130,
          131,
          132,
          133,
          134,
          135,
          136,
          137,
          138,
          139,
          140,
          141,
          142,
          143,
          144,
          145,
          146,
          147,
          148,
          149,
          150,
          151,
          152,
          153,
          154,
          155,
          156,
          157,
          158,
          159,
          160,
          161,
          162,
          163,
          164,
          165,
          166,
          167,
          168,
          169,
          170,
          171,
          172,
          173,
          174,
          175,
          176,
          177,
          178,
          179,
          180,
          181,
          182,
          183,
          184,
          185,
          186,
          187,
          188,
          189,
          190,
          191,
          192,
          193,
          194,
          195,
          196,
          197,
          198,
          199
         ],
         "xaxis": "x",
         "y": [
          1.6906796608951603e-9,
          7.60701103386358e-9,
          3.12285017777607e-8,
          1.1751721523466187e-7,
          4.071563256494479e-7,
          0.0000013040804422052193,
          0.000003876082340370884,
          0.000010729649021181706,
          0.00002775524042068805,
          0.00006730483667735505,
          0.00015345554837513806,
          0.00032989184638942785,
          0.0006704412421258719,
          0.0012913155153109113,
          0.0023626985457401314,
          0.004115797290368182,
          0.006840411880108052,
          0.010868185475428045,
          0.016538514483103055,
          0.02414771388265286,
          0.033886835458401154,
          0.045778275141799135,
          0.059624411336744836,
          0.0749816471161279,
          0.0911698111435589,
          0.10732040716716003,
          0.12245919621599553,
          0.13561111482687607,
          0.14591054889038096,
          0.15269875981980563,
          0.1555929962332088,
          0.15451766111260729,
          0.1496952598184999,
          0.14160193796850515,
          0.13089773497749083,
          0.11834437008206126,
          0.10472332546188924,
          0.09076470626584117,
          0.07709372664910288,
          0.06419766825723969,
          0.052412604971552326,
          0.04192661473634344,
          0.0327948089764106,
          0.02496122832057359,
          0.0182832238067959,
          0.012555031027355041,
          0.007528524408476728,
          0.002930347380726457,
          -0.00152442294458407,
          -0.0061212873784784825,
          -0.011136938453470973,
          -0.016830424277548134,
          -0.02343406802675672,
          -0.031143755782856657,
          -0.040108672775012545,
          -0.05042101284776636,
          -0.06210653846230588,
          -0.07511707737922045,
          -0.08932607810496825,
          -0.10452820407665027,
          -0.12044364514940646,
          -0.13672740392937768,
          -0.1529833289576064,
          -0.16878217958399888,
          -0.18368258061525602,
          -0.197253411293684,
          -0.20909600963694808,
          -0.21886457611125373,
          -0.22628332504105694,
          -0.2311592336048302,
          -0.23338963731136927,
          -0.23296436936950068,
          -0.22996258936737154,
          -0.2245448487041064,
          -0.2169412604021624,
          -0.20743685620602376,
          -0.19635531510803497,
          -0.18404223864870034,
          -0.17084904436907541,
          -0.15711837205918186,
          -0.14317167426370622,
          -0.12929941959556432,
          -0.11575409897339804,
          -0.10274601053511294,
          -0.09044162250081218,
          -0.07896418240627302,
          -0.06839615800331306,
          -0.05878305713780373,
          -0.050138175036052154,
          -0.04244784950450419,
          -0.03567685854991818,
          -0.029773661996582462,
          -0.024675260892998936,
          -0.020311519373396196,
          -0.016608858340533397,
          -0.013493285707500954,
          -0.010892772339734198,
          -0.008739015903002915,
          -0.006968657141771449,
          -0.005524025934573487,
          -0.004353499423462174,
          -0.003411553357141499,
          -0.00265858224491931,
          -0.002060555548145225,
          -0.001588567254487354,
          -0.0012183258338523033,
          -0.0009296215374118497,
          -0.0007057987990292795,
          -0.0005332534447783861,
          -0.0004009676539350251,
          -0.0003000901581296486,
          -0.0002235649392286487,
          -0.00016580855998736804,
          -0.00012243407464661692,
          -0.00009001805089740243,
          -0.00006590642722921903,
          -0.00004805458272505675,
          -0.000034896981908320636,
          -0.000025241969119944665,
          -0.000018187640426412315,
          -0.000013055151296844058,
          -0.000009336277529156838,
          -0.0000066525018176965,
          -0.0000047233271374365725,
          -0.000003341907874938014,
          -0.0000023564340656353766,
          -0.0000016560015767090323,
          -0.00000115995310808976,
          -8.098849052722368e-7,
          -5.636865621054204e-7,
          -3.9112112248157197e-7,
          -2.705647283126519e-7,
          -1.8661387679853066e-7,
          -1.283380671832291e-7,
          -8.800984623098434e-8,
          -6.018608640318467e-8,
          -4.104633267334025e-8,
          -2.7918357193467834e-8,
          -1.8939387461579844e-8,
          -1.2815200664366706e-8,
          -8.649493410553731e-9,
          -5.823493787670618e-9,
          -3.911341141463474e-9,
          -2.6208243951637295e-9,
          -1.752027334852785e-9,
          -1.168569975846153e-9,
          -7.776769269640059e-10,
          -5.164088805659837e-10,
          -3.4218199350026726e-10,
          -2.2626018994271433e-10
         ],
         "yaxis": "y"
        },
        {
         "hovertemplate": "variable=Long Call K=80<br>Spot Price=%{x}<br>value=%{y}<extra></extra>",
         "legendgroup": "Long Call K=80",
         "line": {
          "color": "#EF553B",
          "dash": "solid"
         },
         "marker": {
          "symbol": "circle"
         },
         "mode": "lines",
         "name": "Long Call K=80",
         "orientation": "v",
         "showlegend": true,
         "type": "scatter",
         "x": [
          50,
          51,
          52,
          53,
          54,
          55,
          56,
          57,
          58,
          59,
          60,
          61,
          62,
          63,
          64,
          65,
          66,
          67,
          68,
          69,
          70,
          71,
          72,
          73,
          74,
          75,
          76,
          77,
          78,
          79,
          80,
          81,
          82,
          83,
          84,
          85,
          86,
          87,
          88,
          89,
          90,
          91,
          92,
          93,
          94,
          95,
          96,
          97,
          98,
          99,
          100,
          101,
          102,
          103,
          104,
          105,
          106,
          107,
          108,
          109,
          110,
          111,
          112,
          113,
          114,
          115,
          116,
          117,
          118,
          119,
          120,
          121,
          122,
          123,
          124,
          125,
          126,
          127,
          128,
          129,
          130,
          131,
          132,
          133,
          134,
          135,
          136,
          137,
          138,
          139,
          140,
          141,
          142,
          143,
          144,
          145,
          146,
          147,
          148,
          149,
          150,
          151,
          152,
          153,
          154,
          155,
          156,
          157,
          158,
          159,
          160,
          161,
          162,
          163,
          164,
          165,
          166,
          167,
          168,
          169,
          170,
          171,
          172,
          173,
          174,
          175,
          176,
          177,
          178,
          179,
          180,
          181,
          182,
          183,
          184,
          185,
          186,
          187,
          188,
          189,
          190,
          191,
          192,
          193,
          194,
          195,
          196,
          197,
          198,
          199
         ],
         "xaxis": "x",
         "y": [
          1.6906796608951603e-9,
          7.60701103386358e-9,
          3.12285017777607e-8,
          1.1751721523466187e-7,
          4.071563256494479e-7,
          0.0000013040804422052193,
          0.000003876082340370884,
          0.00001072964902118171,
          0.000027755240420688072,
          0.00006730483667735524,
          0.00015345554837513937,
          0.0003298918463894362,
          0.0006704412421259221,
          0.0012913155153111914,
          0.002362698545741593,
          0.004115797290375323,
          0.00684041188014082,
          0.010868185475569614,
          0.01653851448368024,
          0.024147713884878498,
          0.03388683546653506,
          0.04577827517002981,
          0.059624411429973205,
          0.07498164740960056,
          0.09116981202568494,
          0.10732040970317952,
          0.12245920320018362,
          0.13561113328008573,
          0.14591059573313364,
          0.15269887421861725,
          0.15559326537252285,
          0.15451827184709577,
          0.14969659816068742,
          0.14160477339830227,
          0.13090354910100138,
          0.11835592109243288,
          0.10474558232543439,
          0.09080633912647221,
          0.07716939946767959,
          0.06433143923284854,
          0.052642788294115034,
          0.04231247751350989,
          0.033425450027458475,
          0.025966890183762473,
          0.01984910799820788,
          0.01493740963161774,
          0.011072572227089118,
          0.008088679736965724,
          0.005826010602010868,
          0.004139330441732748,
          0.0029023329489759418,
          0.0020091324131694117,
          0.00137370369876363,
          0.0009280537982290855,
          0.0006197476916079181,
          0.0004092403520362172,
          0.00026731176929001895,
          0.00017277569130884368,
          0.00011053903999157897,
          0.00007002542417371608,
          0.000043937618152812706,
          0.000027314109149732024,
          0.000016827979413296447,
          0.000010277599441726017,
          0.000006224185019437892,
          0.0000037386670307548867,
          0.0000022279385832920093,
          0.0000013174884467390336,
          7.733020720598399e-7,
          4.5061801489888443e-7,
          2.6074741498771463e-7,
          1.4985649037735878e-7,
          8.555871145548605e-8,
          4.8536924757925077e-8,
          2.736422178222683e-8,
          1.5334782652477885e-8,
          8.543467109577803e-9,
          4.732913569958983e-9,
          2.6075607609756497e-9,
          1.4289697331627411e-9,
          7.790466505641019e-10,
          4.225934437520403e-10,
          2.2812132900017817e-10,
          1.2256202304256092e-10,
          6.554717815163833e-11,
          3.48995217902597e-11,
          1.850162802817223e-11,
          9.76745260497415e-12,
          5.135560516162918e-12,
          2.6895663266200717e-12,
          1.4031875112548322e-12,
          7.293532324340036e-13,
          3.777436278294744e-13,
          1.9495767016852405e-13,
          1.002797016133334e-13,
          5.1411416165236796e-14,
          2.6273805839514643e-14,
          1.3385825152756871e-14,
          6.799339827261361e-15,
          3.443716220459934e-15,
          1.7392637962638825e-15,
          8.760289922831571e-16,
          4.4007108421633446e-16,
          2.2050271464259645e-16,
          1.1021133584690789e-16,
          5.495324586325233e-17,
          2.733680975109546e-17,
          1.356817633515298e-17,
          6.719627870015619e-18,
          3.3208493170420392e-18,
          1.6378066769289145e-18,
          8.06146869505738e-19,
          3.960331819991105e-19,
          1.941967357330083e-19,
          9.50542630469016e-20,
          4.644578325078314e-20,
          2.2656406893722345e-20,
          1.1033930026446711e-20,
          5.3652211765090884e-21,
          2.6048721612551006e-21,
          1.2628424029348956e-21,
          6.113611845810225e-22,
          2.9556566715250344e-22,
          1.4270475371280386e-22,
          6.881317862086465e-23,
          3.314159494265996e-23,
          1.5942748204070072e-23,
          7.660548634980142e-24,
          3.676900762313501e-24,
          1.7629795664294306e-24,
          8.44449204929998e-25,
          4.0408970257143165e-25,
          1.9318648274381127e-25,
          9.227555823275786e-26,
          4.403758747365774e-26,
          2.0999200609055168e-26,
          1.0005517404680019e-26,
          4.763746714309724e-27,
          2.266441505495103e-27,
          1.0775593147686674e-27,
          5.119793136614128e-28,
          2.431037245367097e-28,
          1.153644170442987e-28,
          5.471494754643169e-29,
          2.5936204877946693e-29,
          1.228811835378437e-29,
          5.819085788367321e-30,
          2.7543946837233357e-30,
          1.3031996922502384e-30,
          6.163398304929956e-31
         ],
         "yaxis": "y"
        },
        {
         "hovertemplate": "variable=Short Call K=120<br>Spot Price=%{x}<br>value=%{y}<extra></extra>",
         "legendgroup": "Short Call K=120",
         "line": {
          "color": "#00cc96",
          "dash": "solid"
         },
         "marker": {
          "symbol": "circle"
         },
         "mode": "lines",
         "name": "Short Call K=120",
         "orientation": "v",
         "showlegend": true,
         "type": "scatter",
         "x": [
          50,
          51,
          52,
          53,
          54,
          55,
          56,
          57,
          58,
          59,
          60,
          61,
          62,
          63,
          64,
          65,
          66,
          67,
          68,
          69,
          70,
          71,
          72,
          73,
          74,
          75,
          76,
          77,
          78,
          79,
          80,
          81,
          82,
          83,
          84,
          85,
          86,
          87,
          88,
          89,
          90,
          91,
          92,
          93,
          94,
          95,
          96,
          97,
          98,
          99,
          100,
          101,
          102,
          103,
          104,
          105,
          106,
          107,
          108,
          109,
          110,
          111,
          112,
          113,
          114,
          115,
          116,
          117,
          118,
          119,
          120,
          121,
          122,
          123,
          124,
          125,
          126,
          127,
          128,
          129,
          130,
          131,
          132,
          133,
          134,
          135,
          136,
          137,
          138,
          139,
          140,
          141,
          142,
          143,
          144,
          145,
          146,
          147,
          148,
          149,
          150,
          151,
          152,
          153,
          154,
          155,
          156,
          157,
          158,
          159,
          160,
          161,
          162,
          163,
          164,
          165,
          166,
          167,
          168,
          169,
          170,
          171,
          172,
          173,
          174,
          175,
          176,
          177,
          178,
          179,
          180,
          181,
          182,
          183,
          184,
          185,
          186,
          187,
          188,
          189,
          190,
          191,
          192,
          193,
          194,
          195,
          196,
          197,
          198,
          199
         ],
         "xaxis": "x",
         "y": [
          7.720686113464085e-29,
          1.2968984357600777e-27,
          1.9374523472118318e-26,
          2.5887087707716205e-25,
          3.1099835572988328e-24,
          3.376038525600277e-23,
          3.326979534604208e-22,
          2.989392504142238e-21,
          2.4591746999035108e-20,
          1.8592952833500612e-19,
          1.2967070411900621e-18,
          8.370702920267725e-18,
          5.017842956219478e-17,
          2.8018064367994943e-16,
          1.461449013145068e-15,
          7.14076678030379e-15,
          3.2768002645930324e-14,
          1.4156914779066282e-13,
          5.771856040254794e-13,
          2.2256349024687707e-12,
          8.133905841471687e-12,
          2.8230675008197413e-11,
          9.322836843401085e-11,
          2.93472660758033e-10,
          8.821260359239246e-10,
          2.53601949134274e-9,
          6.9841880924332e-9,
          1.8453209649618956e-8,
          4.684275266664105e-8,
          1.1439881162388504e-7,
          2.691393140522945e-7,
          6.107344884741719e-7,
          0.000001338342187530384,
          0.0000028354297971080454,
          0.000005814123510556326,
          0.000011551010371621288,
          0.000022256863545145627,
          0.000041632860631032115,
          0.0000756728185767012,
          0.0001337709756088525,
          0.00023018332256270906,
          0.00038586277716645185,
          0.0006306410510478755,
          0.0010056618631888831,
          0.001565884191411979,
          0.002382378604262698,
          0.0035440478186123895,
          0.005158332356239267,
          0.007350433546594938,
          0.01026061782021123,
          0.014039271402446915,
          0.018839556690717546,
          0.02480777172552035,
          0.03207180958108574,
          0.040728420466620466,
          0.050830253199802576,
          0.0623738502315959,
          0.0752898530705293,
          0.08943661714495982,
          0.10459822950082398,
          0.12048758276755928,
          0.13675471803852743,
          0.1530001569370197,
          0.1687924571834406,
          0.18368880480027547,
          0.19725714996071478,
          0.20909823757553136,
          0.21886589359970046,
          0.22628409834312901,
          0.2311596842228451,
          0.23338989805878427,
          0.23296451922599107,
          0.229962674926083,
          0.22454489724103116,
          0.2169412877663842,
          0.20743687154080642,
          0.19635532365150207,
          0.1840422433816139,
          0.17084904697663617,
          0.15711837348815158,
          0.14317167504275288,
          0.12929942001815775,
          0.11575409920151937,
          0.10274601065767497,
          0.09044162256635936,
          0.07896418244117255,
          0.06839615802181469,
          0.058783057147571184,
          0.05013817504118771,
          0.042447849507193755,
          0.03567685855132137,
          0.029773661997311816,
          0.02467526089337668,
          0.020311519373591155,
          0.016608858340633678,
          0.013493285707552366,
          0.010892772339760472,
          0.0087390159030163,
          0.0069686571417782485,
          0.005524025934576931,
          0.004353499423463913,
          0.003411553357142375,
          0.0026585822449197503,
          0.002060555548145445,
          0.0015885672544874642,
          0.0012183258338523582,
          0.000929621537411877,
          0.000705798799029293,
          0.0005332534447783929,
          0.0004009676539350284,
          0.00030009015812965025,
          0.00022356493922864952,
          0.00016580855998736844,
          0.0001224340746466171,
          0.00009001805089740252,
          0.00006590642722921907,
          0.00004805458272505677,
          0.00003489698190832065,
          0.00002524196911994467,
          0.000018187640426412318,
          0.00001305515129684406,
          0.000009336277529156838,
          0.0000066525018176965,
          0.0000047233271374365725,
          0.000003341907874938014,
          0.0000023564340656353766,
          0.0000016560015767090323,
          0.00000115995310808976,
          8.098849052722368e-7,
          5.636865621054204e-7,
          3.9112112248157197e-7,
          2.705647283126519e-7,
          1.8661387679853066e-7,
          1.283380671832291e-7,
          8.800984623098434e-8,
          6.018608640318467e-8,
          4.104633267334025e-8,
          2.7918357193467834e-8,
          1.8939387461579844e-8,
          1.2815200664366706e-8,
          8.649493410553731e-9,
          5.823493787670618e-9,
          3.911341141463474e-9,
          2.6208243951637295e-9,
          1.752027334852785e-9,
          1.168569975846153e-9,
          7.776769269640059e-10,
          5.164088805659837e-10,
          3.4218199350026726e-10,
          2.2626018994271433e-10
         ],
         "yaxis": "y"
        }
       ],
       "layout": {
        "legend": {
         "title": {
          "text": "variable"
         },
         "tracegroupgap": 0
        },
        "template": {
         "data": {
          "bar": [
           {
            "error_x": {
             "color": "#2a3f5f"
            },
            "error_y": {
             "color": "#2a3f5f"
            },
            "marker": {
             "line": {
              "color": "#E5ECF6",
              "width": 0.5
             },
             "pattern": {
              "fillmode": "overlay",
              "size": 10,
              "solidity": 0.2
             }
            },
            "type": "bar"
           }
          ],
          "barpolar": [
           {
            "marker": {
             "line": {
              "color": "#E5ECF6",
              "width": 0.5
             },
             "pattern": {
              "fillmode": "overlay",
              "size": 10,
              "solidity": 0.2
             }
            },
            "type": "barpolar"
           }
          ],
          "carpet": [
           {
            "aaxis": {
             "endlinecolor": "#2a3f5f",
             "gridcolor": "white",
             "linecolor": "white",
             "minorgridcolor": "white",
             "startlinecolor": "#2a3f5f"
            },
            "baxis": {
             "endlinecolor": "#2a3f5f",
             "gridcolor": "white",
             "linecolor": "white",
             "minorgridcolor": "white",
             "startlinecolor": "#2a3f5f"
            },
            "type": "carpet"
           }
          ],
          "choropleth": [
           {
            "colorbar": {
             "outlinewidth": 0,
             "ticks": ""
            },
            "type": "choropleth"
           }
          ],
          "contour": [
           {
            "colorbar": {
             "outlinewidth": 0,
             "ticks": ""
            },
            "colorscale": [
             [
              0,
              "#0d0887"
             ],
             [
              0.1111111111111111,
              "#46039f"
             ],
             [
              0.2222222222222222,
              "#7201a8"
             ],
             [
              0.3333333333333333,
              "#9c179e"
             ],
             [
              0.4444444444444444,
              "#bd3786"
             ],
             [
              0.5555555555555556,
              "#d8576b"
             ],
             [
              0.6666666666666666,
              "#ed7953"
             ],
             [
              0.7777777777777778,
              "#fb9f3a"
             ],
             [
              0.8888888888888888,
              "#fdca26"
             ],
             [
              1,
              "#f0f921"
             ]
            ],
            "type": "contour"
           }
          ],
          "contourcarpet": [
           {
            "colorbar": {
             "outlinewidth": 0,
             "ticks": ""
            },
            "type": "contourcarpet"
           }
          ],
          "heatmap": [
           {
            "colorbar": {
             "outlinewidth": 0,
             "ticks": ""
            },
            "colorscale": [
             [
              0,
              "#0d0887"
             ],
             [
              0.1111111111111111,
              "#46039f"
             ],
             [
              0.2222222222222222,
              "#7201a8"
             ],
             [
              0.3333333333333333,
              "#9c179e"
             ],
             [
              0.4444444444444444,
              "#bd3786"
             ],
             [
              0.5555555555555556,
              "#d8576b"
             ],
             [
              0.6666666666666666,
              "#ed7953"
             ],
             [
              0.7777777777777778,
              "#fb9f3a"
             ],
             [
              0.8888888888888888,
              "#fdca26"
             ],
             [
              1,
              "#f0f921"
             ]
            ],
            "type": "heatmap"
           }
          ],
          "heatmapgl": [
           {
            "colorbar": {
             "outlinewidth": 0,
             "ticks": ""
            },
            "colorscale": [
             [
              0,
              "#0d0887"
             ],
             [
              0.1111111111111111,
              "#46039f"
             ],
             [
              0.2222222222222222,
              "#7201a8"
             ],
             [
              0.3333333333333333,
              "#9c179e"
             ],
             [
              0.4444444444444444,
              "#bd3786"
             ],
             [
              0.5555555555555556,
              "#d8576b"
             ],
             [
              0.6666666666666666,
              "#ed7953"
             ],
             [
              0.7777777777777778,
              "#fb9f3a"
             ],
             [
              0.8888888888888888,
              "#fdca26"
             ],
             [
              1,
              "#f0f921"
             ]
            ],
            "type": "heatmapgl"
           }
          ],
          "histogram": [
           {
            "marker": {
             "pattern": {
              "fillmode": "overlay",
              "size": 10,
              "solidity": 0.2
             }
            },
            "type": "histogram"
           }
          ],
          "histogram2d": [
           {
            "colorbar": {
             "outlinewidth": 0,
             "ticks": ""
            },
            "colorscale": [
             [
              0,
              "#0d0887"
             ],
             [
              0.1111111111111111,
              "#46039f"
             ],
             [
              0.2222222222222222,
              "#7201a8"
             ],
             [
              0.3333333333333333,
              "#9c179e"
             ],
             [
              0.4444444444444444,
              "#bd3786"
             ],
             [
              0.5555555555555556,
              "#d8576b"
             ],
             [
              0.6666666666666666,
              "#ed7953"
             ],
             [
              0.7777777777777778,
              "#fb9f3a"
             ],
             [
              0.8888888888888888,
              "#fdca26"
             ],
             [
              1,
              "#f0f921"
             ]
            ],
            "type": "histogram2d"
           }
          ],
          "histogram2dcontour": [
           {
            "colorbar": {
             "outlinewidth": 0,
             "ticks": ""
            },
            "colorscale": [
             [
              0,
              "#0d0887"
             ],
             [
              0.1111111111111111,
              "#46039f"
             ],
             [
              0.2222222222222222,
              "#7201a8"
             ],
             [
              0.3333333333333333,
              "#9c179e"
             ],
             [
              0.4444444444444444,
              "#bd3786"
             ],
             [
              0.5555555555555556,
              "#d8576b"
             ],
             [
              0.6666666666666666,
              "#ed7953"
             ],
             [
              0.7777777777777778,
              "#fb9f3a"
             ],
             [
              0.8888888888888888,
              "#fdca26"
             ],
             [
              1,
              "#f0f921"
             ]
            ],
            "type": "histogram2dcontour"
           }
          ],
          "mesh3d": [
           {
            "colorbar": {
             "outlinewidth": 0,
             "ticks": ""
            },
            "type": "mesh3d"
           }
          ],
          "parcoords": [
           {
            "line": {
             "colorbar": {
              "outlinewidth": 0,
              "ticks": ""
             }
            },
            "type": "parcoords"
           }
          ],
          "pie": [
           {
            "automargin": true,
            "type": "pie"
           }
          ],
          "scatter": [
           {
            "fillpattern": {
             "fillmode": "overlay",
             "size": 10,
             "solidity": 0.2
            },
            "type": "scatter"
           }
          ],
          "scatter3d": [
           {
            "line": {
             "colorbar": {
              "outlinewidth": 0,
              "ticks": ""
             }
            },
            "marker": {
             "colorbar": {
              "outlinewidth": 0,
              "ticks": ""
             }
            },
            "type": "scatter3d"
           }
          ],
          "scattercarpet": [
           {
            "marker": {
             "colorbar": {
              "outlinewidth": 0,
              "ticks": ""
             }
            },
            "type": "scattercarpet"
           }
          ],
          "scattergeo": [
           {
            "marker": {
             "colorbar": {
              "outlinewidth": 0,
              "ticks": ""
             }
            },
            "type": "scattergeo"
           }
          ],
          "scattergl": [
           {
            "marker": {
             "colorbar": {
              "outlinewidth": 0,
              "ticks": ""
             }
            },
            "type": "scattergl"
           }
          ],
          "scattermapbox": [
           {
            "marker": {
             "colorbar": {
              "outlinewidth": 0,
              "ticks": ""
             }
            },
            "type": "scattermapbox"
           }
          ],
          "scatterpolar": [
           {
            "marker": {
             "colorbar": {
              "outlinewidth": 0,
              "ticks": ""
             }
            },
            "type": "scatterpolar"
           }
          ],
          "scatterpolargl": [
           {
            "marker": {
             "colorbar": {
              "outlinewidth": 0,
              "ticks": ""
             }
            },
            "type": "scatterpolargl"
           }
          ],
          "scatterternary": [
           {
            "marker": {
             "colorbar": {
              "outlinewidth": 0,
              "ticks": ""
             }
            },
            "type": "scatterternary"
           }
          ],
          "surface": [
           {
            "colorbar": {
             "outlinewidth": 0,
             "ticks": ""
            },
            "colorscale": [
             [
              0,
              "#0d0887"
             ],
             [
              0.1111111111111111,
              "#46039f"
             ],
             [
              0.2222222222222222,
              "#7201a8"
             ],
             [
              0.3333333333333333,
              "#9c179e"
             ],
             [
              0.4444444444444444,
              "#bd3786"
             ],
             [
              0.5555555555555556,
              "#d8576b"
             ],
             [
              0.6666666666666666,
              "#ed7953"
             ],
             [
              0.7777777777777778,
              "#fb9f3a"
             ],
             [
              0.8888888888888888,
              "#fdca26"
             ],
             [
              1,
              "#f0f921"
             ]
            ],
            "type": "surface"
           }
          ],
          "table": [
           {
            "cells": {
             "fill": {
              "color": "#EBF0F8"
             },
             "line": {
              "color": "white"
             }
            },
            "header": {
             "fill": {
              "color": "#C8D4E3"
             },
             "line": {
              "color": "white"
             }
            },
            "type": "table"
           }
          ]
         },
         "layout": {
          "annotationdefaults": {
           "arrowcolor": "#2a3f5f",
           "arrowhead": 0,
           "arrowwidth": 1
          },
          "autotypenumbers": "strict",
          "coloraxis": {
           "colorbar": {
            "outlinewidth": 0,
            "ticks": ""
           }
          },
          "colorscale": {
           "diverging": [
            [
             0,
             "#8e0152"
            ],
            [
             0.1,
             "#c51b7d"
            ],
            [
             0.2,
             "#de77ae"
            ],
            [
             0.3,
             "#f1b6da"
            ],
            [
             0.4,
             "#fde0ef"
            ],
            [
             0.5,
             "#f7f7f7"
            ],
            [
             0.6,
             "#e6f5d0"
            ],
            [
             0.7,
             "#b8e186"
            ],
            [
             0.8,
             "#7fbc41"
            ],
            [
             0.9,
             "#4d9221"
            ],
            [
             1,
             "#276419"
            ]
           ],
           "sequential": [
            [
             0,
             "#0d0887"
            ],
            [
             0.1111111111111111,
             "#46039f"
            ],
            [
             0.2222222222222222,
             "#7201a8"
            ],
            [
             0.3333333333333333,
             "#9c179e"
            ],
            [
             0.4444444444444444,
             "#bd3786"
            ],
            [
             0.5555555555555556,
             "#d8576b"
            ],
            [
             0.6666666666666666,
             "#ed7953"
            ],
            [
             0.7777777777777778,
             "#fb9f3a"
            ],
            [
             0.8888888888888888,
             "#fdca26"
            ],
            [
             1,
             "#f0f921"
            ]
           ],
           "sequentialminus": [
            [
             0,
             "#0d0887"
            ],
            [
             0.1111111111111111,
             "#46039f"
            ],
            [
             0.2222222222222222,
             "#7201a8"
            ],
            [
             0.3333333333333333,
             "#9c179e"
            ],
            [
             0.4444444444444444,
             "#bd3786"
            ],
            [
             0.5555555555555556,
             "#d8576b"
            ],
            [
             0.6666666666666666,
             "#ed7953"
            ],
            [
             0.7777777777777778,
             "#fb9f3a"
            ],
            [
             0.8888888888888888,
             "#fdca26"
            ],
            [
             1,
             "#f0f921"
            ]
           ]
          },
          "colorway": [
           "#636efa",
           "#EF553B",
           "#00cc96",
           "#ab63fa",
           "#FFA15A",
           "#19d3f3",
           "#FF6692",
           "#B6E880",
           "#FF97FF",
           "#FECB52"
          ],
          "font": {
           "color": "#2a3f5f"
          },
          "geo": {
           "bgcolor": "white",
           "lakecolor": "white",
           "landcolor": "#E5ECF6",
           "showlakes": true,
           "showland": true,
           "subunitcolor": "white"
          },
          "hoverlabel": {
           "align": "left"
          },
          "hovermode": "closest",
          "mapbox": {
           "style": "light"
          },
          "paper_bgcolor": "white",
          "plot_bgcolor": "#E5ECF6",
          "polar": {
           "angularaxis": {
            "gridcolor": "white",
            "linecolor": "white",
            "ticks": ""
           },
           "bgcolor": "#E5ECF6",
           "radialaxis": {
            "gridcolor": "white",
            "linecolor": "white",
            "ticks": ""
           }
          },
          "scene": {
           "xaxis": {
            "backgroundcolor": "#E5ECF6",
            "gridcolor": "white",
            "gridwidth": 2,
            "linecolor": "white",
            "showbackground": true,
            "ticks": "",
            "zerolinecolor": "white"
           },
           "yaxis": {
            "backgroundcolor": "#E5ECF6",
            "gridcolor": "white",
            "gridwidth": 2,
            "linecolor": "white",
            "showbackground": true,
            "ticks": "",
            "zerolinecolor": "white"
           },
           "zaxis": {
            "backgroundcolor": "#E5ECF6",
            "gridcolor": "white",
            "gridwidth": 2,
            "linecolor": "white",
            "showbackground": true,
            "ticks": "",
            "zerolinecolor": "white"
           }
          },
          "shapedefaults": {
           "line": {
            "color": "#2a3f5f"
           }
          },
          "ternary": {
           "aaxis": {
            "gridcolor": "white",
            "linecolor": "white",
            "ticks": ""
           },
           "baxis": {
            "gridcolor": "white",
            "linecolor": "white",
            "ticks": ""
           },
           "bgcolor": "#E5ECF6",
           "caxis": {
            "gridcolor": "white",
            "linecolor": "white",
            "ticks": ""
           }
          },
          "title": {
           "x": 0.05
          },
          "xaxis": {
           "automargin": true,
           "gridcolor": "white",
           "linecolor": "white",
           "ticks": "",
           "title": {
            "standoff": 15
           },
           "zerolinecolor": "white",
           "zerolinewidth": 2
          },
          "yaxis": {
           "automargin": true,
           "gridcolor": "white",
           "linecolor": "white",
           "ticks": "",
           "title": {
            "standoff": 15
           },
           "zerolinecolor": "white",
           "zerolinewidth": 2
          }
         }
        },
        "title": {
         "text": "Vega Spread"
        },
        "xaxis": {
         "anchor": "y",
         "domain": [
          0,
          1
         ],
         "title": {
          "text": "Spot Price"
         }
        },
        "yaxis": {
         "anchor": "x",
         "domain": [
          0,
          1
         ],
         "title": {
          "text": "value"
         }
        }
       }
      }
     },
     "metadata": {},
     "output_type": "display_data"
    }
   ],
   "source": [
    "df=pd.DataFrame({\"Spread Vega\":Spread_Vega, \"Long Call K=80\":list_vega_long_call, \"Short Call K=120\":list_vega_short_call, \"Spot Price\":spot})\n",
    "df.set_index(\"Spot Price\", inplace = True)\n",
    "px.line(df, title='Vega Spread')"
   ]
  },
  {
   "cell_type": "code",
   "execution_count": 15,
   "metadata": {},
   "outputs": [
    {
     "data": {
      "application/vnd.plotly.v1+json": {
       "config": {
        "plotlyServerURL": "https://plot.ly"
       },
       "data": [
        {
         "hovertemplate": "variable=Spread Theta<br>Spot Price=%{x}<br>value=%{y}<extra></extra>",
         "legendgroup": "Spread Theta",
         "line": {
          "color": "#636efa",
          "dash": "solid"
         },
         "marker": {
          "symbol": "circle"
         },
         "mode": "lines",
         "name": "Spread Theta",
         "orientation": "v",
         "showlegend": true,
         "type": "scatter",
         "x": [
          50,
          51,
          52,
          53,
          54,
          55,
          56,
          57,
          58,
          59,
          60,
          61,
          62,
          63,
          64,
          65,
          66,
          67,
          68,
          69,
          70,
          71,
          72,
          73,
          74,
          75,
          76,
          77,
          78,
          79,
          80,
          81,
          82,
          83,
          84,
          85,
          86,
          87,
          88,
          89,
          90,
          91,
          92,
          93,
          94,
          95,
          96,
          97,
          98,
          99,
          100,
          101,
          102,
          103,
          104,
          105,
          106,
          107,
          108,
          109,
          110,
          111,
          112,
          113,
          114,
          115,
          116,
          117,
          118,
          119,
          120,
          121,
          122,
          123,
          124,
          125,
          126,
          127,
          128,
          129,
          130,
          131,
          132,
          133,
          134,
          135,
          136,
          137,
          138,
          139,
          140,
          141,
          142,
          143,
          144,
          145,
          146,
          147,
          148,
          149,
          150,
          151,
          152,
          153,
          154,
          155,
          156,
          157,
          158,
          159,
          160,
          161,
          162,
          163,
          164,
          165,
          166,
          167,
          168,
          169,
          170,
          171,
          172,
          173,
          174,
          175,
          176,
          177,
          178,
          179,
          180,
          181,
          182,
          183,
          184,
          185,
          186,
          187,
          188,
          189,
          190,
          191,
          192,
          193,
          194,
          195,
          196,
          197,
          198,
          199
         ],
         "xaxis": "x",
         "y": [
          -1.5578795118083574e-10,
          -7.009777747532991e-10,
          -2.8777967440551182e-9,
          -1.0830049258425137e-8,
          -3.752419850355608e-8,
          -1.2019250242863966e-7,
          -3.572649067573837e-7,
          -9.890290150485497e-7,
          -0.0000025585661088452786,
          -0.000006204806773698233,
          -0.000014148075963715423,
          -0.00003041738889529146,
          -0.00006182295178388648,
          -0.00011908678073842442,
          -0.00021791425604392322,
          -0.00037964874439428575,
          -0.0006310533396159572,
          -0.0010027729518818642,
          -0.0015261972093399633,
          -0.002228777355658741,
          -0.0031282929320416535,
          -0.004227001134112679,
          -0.005506888840510176,
          -0.0069272606209135465,
          -0.008425582339040637,
          -0.009921905197794395,
          -0.0113264577326888,
          -0.012549303533906887,
          -0.013510502138051161,
          -0.01414909626463167,
          -0.014429499026735421,
          -0.014344391132809171,
          -0.013913914967089882,
          -0.013181604952175881,
          -0.012207983968333865,
          -0.011063004517088982,
          -0.00981850969970869,
          -0.0085416797310708,
          -0.007290096123912371,
          -0.006108687477316041,
          -0.005028493699455775,
          -0.00406694833033853,
          -0.0032292502082265306,
          -0.0025103693198519745,
          -0.001897283777558462,
          -0.001371144737652891,
          -0.0009091836866384124,
          -0.00048628769261227945,
          -0.00007625685932838419,
          0.0003471836673399029,
          0.0008095184767199246,
          0.0013346267181047478,
          0.0019439438867044072,
          0.002655564917050429,
          0.0034832959414618702,
          0.004435703035726451,
          0.005515238769882003,
          0.006717546670233076,
          0.008031047073630415,
          0.009436894831856578,
          0.01090937161720762,
          0.01241673683620387,
          0.013922516444695889,
          0.015387164063854692,
          0.016769989437982163,
          0.018031220321378338,
          0.019134048727410136,
          0.02004651264504758,
          0.020743079377934247,
          0.02120582434398243,
          0.021425135866584014,
          0.02139991776415168,
          0.021137302800523405,
          0.02065192710638452,
          0.019964845214263522,
          0.019102185236587677,
          0.018093653109734452,
          0.016970994089689495,
          0.015766510178372876,
          0.014511715942896073,
          0.013236194682895872,
          0.01196669456263127,
          0.010726482383480337,
          0.009534952934386024,
          0.008407475596941135,
          0.007355447813746078,
          0.006386517349803094,
          0.005504931751521716,
          0.004711973483295952,
          0.004006442148987892,
          0.0033851501553042525,
          0.002843404330964522,
          0.002375452650764598,
          0.001974881729566801,
          0.0016349567029013713,
          0.0013489002069024922,
          0.0011101112592406227,
          0.0009123278896714697,
          0.0007497394277399509,
          0.0006170555405172552,
          0.0005095395741026127,
          0.0004230136510263411,
          0.00035384247000736245,
          0.0002989019879317787,
          0.00025553825761481753,
          0.0002215207451304766,
          0.00019499352856801967,
          0.00017442693448175374,
          0.00015857142796761034,
          0.00014641495044738379,
          0.0001371443972695233,
          0.0001301115383097277,
          0.00012480339688340132,
          0.00012081690079644491,
          0.00011783748879076988,
          0.00011562128103507021,
          0.00011398039008176048,
          0.0001127709470956378,
          0.00011188343739750327,
          0.00011123497166811417,
          0.00011076315855018068,
          0.00011042128647734974,
          0.00011017456427965869,
          0.00010999720945584549,
          0.00010987020877415045,
          0.00010977960748211865,
          0.00010971521071997969,
          0.00010966960387707417,
          0.0001096374179201316,
          0.0001096147815657866,
          0.0001095989150151384,
          0.00010958783026135648,
          0.00010958011114161806,
          0.00010957475271064683,
          0.00010957104449627709,
          0.0001095684860409983,
          0.0001095667260744406,
          0.00010956551889535659,
          0.0001095646932260222,
          0.00010956413006367097,
          0.0001095637469926404,
          0.00010956348711561279,
          0.00010956331127328164,
          0.00010956319259548841,
          0.00010956311269876473,
          0.00010956305904200628,
          0.00010956302309375095,
          0.00010956299906613896,
          0.00010956298304313946,
          0.00010956297238213836
         ],
         "yaxis": "y"
        },
        {
         "hovertemplate": "variable=Long Call K=80<br>Spot Price=%{x}<br>value=%{y}<extra></extra>",
         "legendgroup": "Long Call K=80",
         "line": {
          "color": "#EF553B",
          "dash": "solid"
         },
         "marker": {
          "symbol": "circle"
         },
         "mode": "lines",
         "name": "Long Call K=80",
         "orientation": "v",
         "showlegend": true,
         "type": "scatter",
         "x": [
          50,
          51,
          52,
          53,
          54,
          55,
          56,
          57,
          58,
          59,
          60,
          61,
          62,
          63,
          64,
          65,
          66,
          67,
          68,
          69,
          70,
          71,
          72,
          73,
          74,
          75,
          76,
          77,
          78,
          79,
          80,
          81,
          82,
          83,
          84,
          85,
          86,
          87,
          88,
          89,
          90,
          91,
          92,
          93,
          94,
          95,
          96,
          97,
          98,
          99,
          100,
          101,
          102,
          103,
          104,
          105,
          106,
          107,
          108,
          109,
          110,
          111,
          112,
          113,
          114,
          115,
          116,
          117,
          118,
          119,
          120,
          121,
          122,
          123,
          124,
          125,
          126,
          127,
          128,
          129,
          130,
          131,
          132,
          133,
          134,
          135,
          136,
          137,
          138,
          139,
          140,
          141,
          142,
          143,
          144,
          145,
          146,
          147,
          148,
          149,
          150,
          151,
          152,
          153,
          154,
          155,
          156,
          157,
          158,
          159,
          160,
          161,
          162,
          163,
          164,
          165,
          166,
          167,
          168,
          169,
          170,
          171,
          172,
          173,
          174,
          175,
          176,
          177,
          178,
          179,
          180,
          181,
          182,
          183,
          184,
          185,
          186,
          187,
          188,
          189,
          190,
          191,
          192,
          193,
          194,
          195,
          196,
          197,
          198,
          199
         ],
         "xaxis": "x",
         "y": [
          -1.5578795118083574e-10,
          -7.009777747532991e-10,
          -2.8777967440551182e-9,
          -1.0830049258425137e-8,
          -3.752419850355608e-8,
          -1.2019250242863966e-7,
          -3.5726490675738374e-7,
          -9.8902901504855e-7,
          -0.0000025585661088452807,
          -0.00000620480677369825,
          -0.000014148075963715543,
          -0.00003041738889529223,
          -0.0000618229517838911,
          -0.00011908678073845023,
          -0.00021791425604405785,
          -0.0003796487443949436,
          -0.0006310533396189761,
          -0.0010027729518949067,
          -0.0015261972093931395,
          -0.0022287773558637937,
          -0.0031282929327910635,
          -0.004227001136713745,
          -0.005506888849100078,
          -0.0069272606479542625,
          -0.008425582420322184,
          -0.009921905431476322,
          -0.01132645837626522,
          -0.012549305234374034,
          -0.013510506454746277,
          -0.014149106807132765,
          -0.014429523830238804,
          -0.014344447419106926,
          -0.013914038315173592,
          -0.013181866288531482,
          -0.012208519865694,
          -0.01106406923500812,
          -0.009820561318304782,
          -0.008545517580234066,
          -0.007297072205071022,
          -0.006121020073954604,
          -0.005049715813401348,
          -0.00410252547205755,
          -0.0032873995912763012,
          -0.002603103747527811,
          -0.0020416868227851738,
          -0.001590858307554432,
          -0.0012360550707044991,
          -0.0009620827044168707,
          -0.0007543025285459032,
          -0.0005993963420885612,
          -0.00048577698483261763,
          -0.00040372760689423305,
          -0.0003453519273853019,
          -0.0003044075522121776,
          -0.00027607962114278395,
          -0.0002567363634601427,
          -0.00024369390239569188,
          -0.0002350060486352938,
          -0.00022928620001970342,
          -0.00022556261672870235,
          -0.00022316478945414933,
          -0.00022163679427940632,
          -0.00022067289369577138,
          -0.00022007074998491692,
          -0.000219698126415669,
          -0.00021946962917038031,
          -0.00021933074128020278,
          -0.00021924703707184058,
          -0.00021919700468215193,
          -0.00021916733636578913,
          -0.0002191498787741948,
          -0.0002191396826932616,
          -0.0002191337705712004,
          -0.00021913036637587262,
          -0.00021912841948039624,
          -0.00021912731331382034,
          -0.00021912668880654982,
          -0.00021912633839393374,
          -0.00021912614294629024,
          -0.0002191260345610964,
          -0.0002191259747921067,
          -0.00021912594201102154,
          -0.00021912592412619546,
          -0.00021912591441818486,
          -0.00021912590917460645,
          -0.00021912590635594464,
          -0.00021912590484781235,
          -0.00021912590404451056,
          -0.00021912590361849982,
          -0.00021912590339353083,
          -0.0002191259032752155,
          -0.00021912590321323855,
          -0.00021912590318089837,
          -0.00021912590316408603,
          -0.00021912590315537758,
          -0.00021912590315088267,
          -0.00021912590314857047,
          -0.00021912590314738503,
          -0.00021912590314677918,
          -0.00021912590314647053,
          -0.00021912590314631376,
          -0.00021912590314623437,
          -0.0002191259031461942,
          -0.00021912590314617403,
          -0.0002191259031461639,
          -0.0002191259031461588,
          -0.00021912590314615625,
          -0.000219125903146155,
          -0.00021912590314615435,
          -0.00021912590314615405,
          -0.0002191259031461539,
          -0.00021912590314615384,
          -0.00021912590314615378,
          -0.00021912590314615376,
          -0.00021912590314615376,
          -0.00021912590314615376,
          -0.00021912590314615376,
          -0.00021912590314615376,
          -0.00021912590314615376,
          -0.00021912590314615376,
          -0.00021912590314615376,
          -0.00021912590314615376,
          -0.00021912590314615376,
          -0.00021912590314615376,
          -0.00021912590314615376,
          -0.00021912590314615376,
          -0.00021912590314615376,
          -0.00021912590314615376,
          -0.00021912590314615376,
          -0.00021912590314615376,
          -0.00021912590314615376,
          -0.00021912590314615376,
          -0.00021912590314615376,
          -0.00021912590314615376,
          -0.00021912590314615376,
          -0.00021912590314615376,
          -0.00021912590314615376,
          -0.00021912590314615376,
          -0.00021912590314615376,
          -0.00021912590314615376,
          -0.00021912590314615376,
          -0.00021912590314615376,
          -0.00021912590314615376,
          -0.00021912590314615376,
          -0.00021912590314615376,
          -0.00021912590314615376,
          -0.00021912590314615376,
          -0.00021912590314615376,
          -0.00021912590314615376,
          -0.00021912590314615376
         ],
         "yaxis": "y"
        },
        {
         "hovertemplate": "variable=Short Call K=120<br>Spot Price=%{x}<br>value=%{y}<extra></extra>",
         "legendgroup": "Short Call K=120",
         "line": {
          "color": "#00cc96",
          "dash": "solid"
         },
         "marker": {
          "symbol": "circle"
         },
         "mode": "lines",
         "name": "Short Call K=120",
         "orientation": "v",
         "showlegend": true,
         "type": "scatter",
         "x": [
          50,
          51,
          52,
          53,
          54,
          55,
          56,
          57,
          58,
          59,
          60,
          61,
          62,
          63,
          64,
          65,
          66,
          67,
          68,
          69,
          70,
          71,
          72,
          73,
          74,
          75,
          76,
          77,
          78,
          79,
          80,
          81,
          82,
          83,
          84,
          85,
          86,
          87,
          88,
          89,
          90,
          91,
          92,
          93,
          94,
          95,
          96,
          97,
          98,
          99,
          100,
          101,
          102,
          103,
          104,
          105,
          106,
          107,
          108,
          109,
          110,
          111,
          112,
          113,
          114,
          115,
          116,
          117,
          118,
          119,
          120,
          121,
          122,
          123,
          124,
          125,
          126,
          127,
          128,
          129,
          130,
          131,
          132,
          133,
          134,
          135,
          136,
          137,
          138,
          139,
          140,
          141,
          142,
          143,
          144,
          145,
          146,
          147,
          148,
          149,
          150,
          151,
          152,
          153,
          154,
          155,
          156,
          157,
          158,
          159,
          160,
          161,
          162,
          163,
          164,
          165,
          166,
          167,
          168,
          169,
          170,
          171,
          172,
          173,
          174,
          175,
          176,
          177,
          178,
          179,
          180,
          181,
          182,
          183,
          184,
          185,
          186,
          187,
          188,
          189,
          190,
          191,
          192,
          193,
          194,
          195,
          196,
          197,
          198,
          199
         ],
         "xaxis": "x",
         "y": [
          -7.111085443027815e-30,
          -1.1945140680897922e-28,
          -1.7845214322116873e-27,
          -2.3844021799311218e-26,
          -2.8645745624280646e-25,
          -3.109677193965018e-24,
          -3.064531438701586e-23,
          -2.7536142343723735e-22,
          -2.2652488574926123e-21,
          -1.7127006831599544e-20,
          -1.1944878352706622e-19,
          -7.710965366288504e-19,
          -4.622437659696693e-18,
          -2.581068459822713e-17,
          -1.3463336341744256e-16,
          -6.578422380896035e-16,
          -3.018804672761653e-15,
          -1.3042536837422111e-14,
          -5.317624209796332e-14,
          -2.0505250393951244e-13,
          -7.494102259793632e-13,
          -2.601066133751597e-12,
          -8.58990241408427e-12,
          -2.7040715979280493e-11,
          -8.128154812419572e-11,
          -2.3368192677125364e-10,
          -6.435764198291626e-10,
          -1.700467147816613e-9,
          -4.316695116082677e-9,
          -1.0542501094845548e-8,
          -2.480350338356428e-8,
          -5.6286297755334124e-8,
          -1.2334808371012763e-7,
          -2.6133635560111244e-7,
          -5.358973601360756e-7,
          -0.000001064717919138197,
          -0.0000020516185960923534,
          -0.000003837849163267921,
          -0.000006976081158650389,
          -0.0000123325966385637,
          -0.000021222113945573315,
          -0.00003557714171902075,
          -0.00005814938304977051,
          -0.00009273442767583665,
          -0.00014440304522671168,
          -0.00021971356990154107,
          -0.0003268713840660868,
          -0.00047579501180459126,
          -0.000678045669217519,
          -0.0009465800094284641,
          -0.0012952954615525422,
          -0.0017383543249989807,
          -0.002289295814089709,
          -0.0029599724692626066,
          -0.0037593755626046544,
          -0.004692439399186594,
          -0.005758932672277695,
          -0.00695255271886837,
          -0.008260333273650118,
          -0.009662457448585281,
          -0.011132536406661769,
          -0.012638373630483276,
          -0.01414318933839166,
          -0.01560723481383961,
          -0.016989687564397834,
          -0.018250689950548717,
          -0.01935337946869034,
          -0.02026575968211942,
          -0.0209622763826164,
          -0.02142499168034822,
          -0.02164428574535821,
          -0.021619057446844944,
          -0.021356436571094605,
          -0.020871057472760392,
          -0.02018397363374392,
          -0.019321312549901496,
          -0.018312779798541002,
          -0.01719012042808343,
          -0.015985636321319167,
          -0.01473084197745717,
          -0.013455320657687979,
          -0.012185820504642291,
          -0.010945608307606533,
          -0.009754078848804209,
          -0.00862660150611574,
          -0.0075745737201020225,
          -0.006605643254650907,
          -0.005724057655566227,
          -0.004931099386914452,
          -0.004225568052381423,
          -0.003604276058579468,
          -0.003062530234177761,
          -0.0025945785539454964,
          -0.002194007632730887,
          -0.001854082606056749,
          -0.001568026110053375,
          -0.001329237162389193,
          -0.0011314537928188548,
          -0.0009688653308867301,
          -0.0008361814436637257,
          -0.0007286654772489264,
          -0.0006421395541725755,
          -0.0005729683731535566,
          -0.0005180278910779528,
          -0.0004746641607609814,
          -0.0004406466482766354,
          -0.0004141194317141759,
          -0.00039355283762790874,
          -0.0003776973311137647,
          -0.00036554085359353784,
          -0.0003562703004156772,
          -0.0003492374414558815,
          -0.0003439293000295551,
          -0.00033994280394259867,
          -0.00033696339193692364,
          -0.00033474718418122397,
          -0.00033310629322791423,
          -0.00033189685024179156,
          -0.000331009340543657,
          -0.00033036087481426793,
          -0.00032988906169633444,
          -0.0003295471896235035,
          -0.00032930046742581245,
          -0.00032912311260199924,
          -0.0003289961119203042,
          -0.0003289055106282724,
          -0.00032884111386613345,
          -0.0003287955070232279,
          -0.00032876332106628536,
          -0.00032874068471194036,
          -0.00032872481816129215,
          -0.00032871373340751024,
          -0.0003287060142877718,
          -0.0003287006558568006,
          -0.00032869694764243085,
          -0.00032869438918715205,
          -0.00032869262922059436,
          -0.00032869142204151034,
          -0.00032869059637217595,
          -0.00032869003320982473,
          -0.00032868965013879416,
          -0.00032868939026176654,
          -0.0003286892144194354,
          -0.00032868909574164216,
          -0.0003286890158449185,
          -0.00032868896218816003,
          -0.0003286889262399047,
          -0.0003286889022122927,
          -0.0003286888861892932,
          -0.0003286888755282921
         ],
         "yaxis": "y"
        }
       ],
       "layout": {
        "legend": {
         "title": {
          "text": "variable"
         },
         "tracegroupgap": 0
        },
        "template": {
         "data": {
          "bar": [
           {
            "error_x": {
             "color": "#2a3f5f"
            },
            "error_y": {
             "color": "#2a3f5f"
            },
            "marker": {
             "line": {
              "color": "#E5ECF6",
              "width": 0.5
             },
             "pattern": {
              "fillmode": "overlay",
              "size": 10,
              "solidity": 0.2
             }
            },
            "type": "bar"
           }
          ],
          "barpolar": [
           {
            "marker": {
             "line": {
              "color": "#E5ECF6",
              "width": 0.5
             },
             "pattern": {
              "fillmode": "overlay",
              "size": 10,
              "solidity": 0.2
             }
            },
            "type": "barpolar"
           }
          ],
          "carpet": [
           {
            "aaxis": {
             "endlinecolor": "#2a3f5f",
             "gridcolor": "white",
             "linecolor": "white",
             "minorgridcolor": "white",
             "startlinecolor": "#2a3f5f"
            },
            "baxis": {
             "endlinecolor": "#2a3f5f",
             "gridcolor": "white",
             "linecolor": "white",
             "minorgridcolor": "white",
             "startlinecolor": "#2a3f5f"
            },
            "type": "carpet"
           }
          ],
          "choropleth": [
           {
            "colorbar": {
             "outlinewidth": 0,
             "ticks": ""
            },
            "type": "choropleth"
           }
          ],
          "contour": [
           {
            "colorbar": {
             "outlinewidth": 0,
             "ticks": ""
            },
            "colorscale": [
             [
              0,
              "#0d0887"
             ],
             [
              0.1111111111111111,
              "#46039f"
             ],
             [
              0.2222222222222222,
              "#7201a8"
             ],
             [
              0.3333333333333333,
              "#9c179e"
             ],
             [
              0.4444444444444444,
              "#bd3786"
             ],
             [
              0.5555555555555556,
              "#d8576b"
             ],
             [
              0.6666666666666666,
              "#ed7953"
             ],
             [
              0.7777777777777778,
              "#fb9f3a"
             ],
             [
              0.8888888888888888,
              "#fdca26"
             ],
             [
              1,
              "#f0f921"
             ]
            ],
            "type": "contour"
           }
          ],
          "contourcarpet": [
           {
            "colorbar": {
             "outlinewidth": 0,
             "ticks": ""
            },
            "type": "contourcarpet"
           }
          ],
          "heatmap": [
           {
            "colorbar": {
             "outlinewidth": 0,
             "ticks": ""
            },
            "colorscale": [
             [
              0,
              "#0d0887"
             ],
             [
              0.1111111111111111,
              "#46039f"
             ],
             [
              0.2222222222222222,
              "#7201a8"
             ],
             [
              0.3333333333333333,
              "#9c179e"
             ],
             [
              0.4444444444444444,
              "#bd3786"
             ],
             [
              0.5555555555555556,
              "#d8576b"
             ],
             [
              0.6666666666666666,
              "#ed7953"
             ],
             [
              0.7777777777777778,
              "#fb9f3a"
             ],
             [
              0.8888888888888888,
              "#fdca26"
             ],
             [
              1,
              "#f0f921"
             ]
            ],
            "type": "heatmap"
           }
          ],
          "heatmapgl": [
           {
            "colorbar": {
             "outlinewidth": 0,
             "ticks": ""
            },
            "colorscale": [
             [
              0,
              "#0d0887"
             ],
             [
              0.1111111111111111,
              "#46039f"
             ],
             [
              0.2222222222222222,
              "#7201a8"
             ],
             [
              0.3333333333333333,
              "#9c179e"
             ],
             [
              0.4444444444444444,
              "#bd3786"
             ],
             [
              0.5555555555555556,
              "#d8576b"
             ],
             [
              0.6666666666666666,
              "#ed7953"
             ],
             [
              0.7777777777777778,
              "#fb9f3a"
             ],
             [
              0.8888888888888888,
              "#fdca26"
             ],
             [
              1,
              "#f0f921"
             ]
            ],
            "type": "heatmapgl"
           }
          ],
          "histogram": [
           {
            "marker": {
             "pattern": {
              "fillmode": "overlay",
              "size": 10,
              "solidity": 0.2
             }
            },
            "type": "histogram"
           }
          ],
          "histogram2d": [
           {
            "colorbar": {
             "outlinewidth": 0,
             "ticks": ""
            },
            "colorscale": [
             [
              0,
              "#0d0887"
             ],
             [
              0.1111111111111111,
              "#46039f"
             ],
             [
              0.2222222222222222,
              "#7201a8"
             ],
             [
              0.3333333333333333,
              "#9c179e"
             ],
             [
              0.4444444444444444,
              "#bd3786"
             ],
             [
              0.5555555555555556,
              "#d8576b"
             ],
             [
              0.6666666666666666,
              "#ed7953"
             ],
             [
              0.7777777777777778,
              "#fb9f3a"
             ],
             [
              0.8888888888888888,
              "#fdca26"
             ],
             [
              1,
              "#f0f921"
             ]
            ],
            "type": "histogram2d"
           }
          ],
          "histogram2dcontour": [
           {
            "colorbar": {
             "outlinewidth": 0,
             "ticks": ""
            },
            "colorscale": [
             [
              0,
              "#0d0887"
             ],
             [
              0.1111111111111111,
              "#46039f"
             ],
             [
              0.2222222222222222,
              "#7201a8"
             ],
             [
              0.3333333333333333,
              "#9c179e"
             ],
             [
              0.4444444444444444,
              "#bd3786"
             ],
             [
              0.5555555555555556,
              "#d8576b"
             ],
             [
              0.6666666666666666,
              "#ed7953"
             ],
             [
              0.7777777777777778,
              "#fb9f3a"
             ],
             [
              0.8888888888888888,
              "#fdca26"
             ],
             [
              1,
              "#f0f921"
             ]
            ],
            "type": "histogram2dcontour"
           }
          ],
          "mesh3d": [
           {
            "colorbar": {
             "outlinewidth": 0,
             "ticks": ""
            },
            "type": "mesh3d"
           }
          ],
          "parcoords": [
           {
            "line": {
             "colorbar": {
              "outlinewidth": 0,
              "ticks": ""
             }
            },
            "type": "parcoords"
           }
          ],
          "pie": [
           {
            "automargin": true,
            "type": "pie"
           }
          ],
          "scatter": [
           {
            "fillpattern": {
             "fillmode": "overlay",
             "size": 10,
             "solidity": 0.2
            },
            "type": "scatter"
           }
          ],
          "scatter3d": [
           {
            "line": {
             "colorbar": {
              "outlinewidth": 0,
              "ticks": ""
             }
            },
            "marker": {
             "colorbar": {
              "outlinewidth": 0,
              "ticks": ""
             }
            },
            "type": "scatter3d"
           }
          ],
          "scattercarpet": [
           {
            "marker": {
             "colorbar": {
              "outlinewidth": 0,
              "ticks": ""
             }
            },
            "type": "scattercarpet"
           }
          ],
          "scattergeo": [
           {
            "marker": {
             "colorbar": {
              "outlinewidth": 0,
              "ticks": ""
             }
            },
            "type": "scattergeo"
           }
          ],
          "scattergl": [
           {
            "marker": {
             "colorbar": {
              "outlinewidth": 0,
              "ticks": ""
             }
            },
            "type": "scattergl"
           }
          ],
          "scattermapbox": [
           {
            "marker": {
             "colorbar": {
              "outlinewidth": 0,
              "ticks": ""
             }
            },
            "type": "scattermapbox"
           }
          ],
          "scatterpolar": [
           {
            "marker": {
             "colorbar": {
              "outlinewidth": 0,
              "ticks": ""
             }
            },
            "type": "scatterpolar"
           }
          ],
          "scatterpolargl": [
           {
            "marker": {
             "colorbar": {
              "outlinewidth": 0,
              "ticks": ""
             }
            },
            "type": "scatterpolargl"
           }
          ],
          "scatterternary": [
           {
            "marker": {
             "colorbar": {
              "outlinewidth": 0,
              "ticks": ""
             }
            },
            "type": "scatterternary"
           }
          ],
          "surface": [
           {
            "colorbar": {
             "outlinewidth": 0,
             "ticks": ""
            },
            "colorscale": [
             [
              0,
              "#0d0887"
             ],
             [
              0.1111111111111111,
              "#46039f"
             ],
             [
              0.2222222222222222,
              "#7201a8"
             ],
             [
              0.3333333333333333,
              "#9c179e"
             ],
             [
              0.4444444444444444,
              "#bd3786"
             ],
             [
              0.5555555555555556,
              "#d8576b"
             ],
             [
              0.6666666666666666,
              "#ed7953"
             ],
             [
              0.7777777777777778,
              "#fb9f3a"
             ],
             [
              0.8888888888888888,
              "#fdca26"
             ],
             [
              1,
              "#f0f921"
             ]
            ],
            "type": "surface"
           }
          ],
          "table": [
           {
            "cells": {
             "fill": {
              "color": "#EBF0F8"
             },
             "line": {
              "color": "white"
             }
            },
            "header": {
             "fill": {
              "color": "#C8D4E3"
             },
             "line": {
              "color": "white"
             }
            },
            "type": "table"
           }
          ]
         },
         "layout": {
          "annotationdefaults": {
           "arrowcolor": "#2a3f5f",
           "arrowhead": 0,
           "arrowwidth": 1
          },
          "autotypenumbers": "strict",
          "coloraxis": {
           "colorbar": {
            "outlinewidth": 0,
            "ticks": ""
           }
          },
          "colorscale": {
           "diverging": [
            [
             0,
             "#8e0152"
            ],
            [
             0.1,
             "#c51b7d"
            ],
            [
             0.2,
             "#de77ae"
            ],
            [
             0.3,
             "#f1b6da"
            ],
            [
             0.4,
             "#fde0ef"
            ],
            [
             0.5,
             "#f7f7f7"
            ],
            [
             0.6,
             "#e6f5d0"
            ],
            [
             0.7,
             "#b8e186"
            ],
            [
             0.8,
             "#7fbc41"
            ],
            [
             0.9,
             "#4d9221"
            ],
            [
             1,
             "#276419"
            ]
           ],
           "sequential": [
            [
             0,
             "#0d0887"
            ],
            [
             0.1111111111111111,
             "#46039f"
            ],
            [
             0.2222222222222222,
             "#7201a8"
            ],
            [
             0.3333333333333333,
             "#9c179e"
            ],
            [
             0.4444444444444444,
             "#bd3786"
            ],
            [
             0.5555555555555556,
             "#d8576b"
            ],
            [
             0.6666666666666666,
             "#ed7953"
            ],
            [
             0.7777777777777778,
             "#fb9f3a"
            ],
            [
             0.8888888888888888,
             "#fdca26"
            ],
            [
             1,
             "#f0f921"
            ]
           ],
           "sequentialminus": [
            [
             0,
             "#0d0887"
            ],
            [
             0.1111111111111111,
             "#46039f"
            ],
            [
             0.2222222222222222,
             "#7201a8"
            ],
            [
             0.3333333333333333,
             "#9c179e"
            ],
            [
             0.4444444444444444,
             "#bd3786"
            ],
            [
             0.5555555555555556,
             "#d8576b"
            ],
            [
             0.6666666666666666,
             "#ed7953"
            ],
            [
             0.7777777777777778,
             "#fb9f3a"
            ],
            [
             0.8888888888888888,
             "#fdca26"
            ],
            [
             1,
             "#f0f921"
            ]
           ]
          },
          "colorway": [
           "#636efa",
           "#EF553B",
           "#00cc96",
           "#ab63fa",
           "#FFA15A",
           "#19d3f3",
           "#FF6692",
           "#B6E880",
           "#FF97FF",
           "#FECB52"
          ],
          "font": {
           "color": "#2a3f5f"
          },
          "geo": {
           "bgcolor": "white",
           "lakecolor": "white",
           "landcolor": "#E5ECF6",
           "showlakes": true,
           "showland": true,
           "subunitcolor": "white"
          },
          "hoverlabel": {
           "align": "left"
          },
          "hovermode": "closest",
          "mapbox": {
           "style": "light"
          },
          "paper_bgcolor": "white",
          "plot_bgcolor": "#E5ECF6",
          "polar": {
           "angularaxis": {
            "gridcolor": "white",
            "linecolor": "white",
            "ticks": ""
           },
           "bgcolor": "#E5ECF6",
           "radialaxis": {
            "gridcolor": "white",
            "linecolor": "white",
            "ticks": ""
           }
          },
          "scene": {
           "xaxis": {
            "backgroundcolor": "#E5ECF6",
            "gridcolor": "white",
            "gridwidth": 2,
            "linecolor": "white",
            "showbackground": true,
            "ticks": "",
            "zerolinecolor": "white"
           },
           "yaxis": {
            "backgroundcolor": "#E5ECF6",
            "gridcolor": "white",
            "gridwidth": 2,
            "linecolor": "white",
            "showbackground": true,
            "ticks": "",
            "zerolinecolor": "white"
           },
           "zaxis": {
            "backgroundcolor": "#E5ECF6",
            "gridcolor": "white",
            "gridwidth": 2,
            "linecolor": "white",
            "showbackground": true,
            "ticks": "",
            "zerolinecolor": "white"
           }
          },
          "shapedefaults": {
           "line": {
            "color": "#2a3f5f"
           }
          },
          "ternary": {
           "aaxis": {
            "gridcolor": "white",
            "linecolor": "white",
            "ticks": ""
           },
           "baxis": {
            "gridcolor": "white",
            "linecolor": "white",
            "ticks": ""
           },
           "bgcolor": "#E5ECF6",
           "caxis": {
            "gridcolor": "white",
            "linecolor": "white",
            "ticks": ""
           }
          },
          "title": {
           "x": 0.05
          },
          "xaxis": {
           "automargin": true,
           "gridcolor": "white",
           "linecolor": "white",
           "ticks": "",
           "title": {
            "standoff": 15
           },
           "zerolinecolor": "white",
           "zerolinewidth": 2
          },
          "yaxis": {
           "automargin": true,
           "gridcolor": "white",
           "linecolor": "white",
           "ticks": "",
           "title": {
            "standoff": 15
           },
           "zerolinecolor": "white",
           "zerolinewidth": 2
          }
         }
        },
        "title": {
         "text": "Theta Spread"
        },
        "xaxis": {
         "anchor": "y",
         "domain": [
          0,
          1
         ],
         "title": {
          "text": "Spot Price"
         }
        },
        "yaxis": {
         "anchor": "x",
         "domain": [
          0,
          1
         ],
         "title": {
          "text": "value"
         }
        }
       }
      }
     },
     "metadata": {},
     "output_type": "display_data"
    }
   ],
   "source": [
    "df=pd.DataFrame({\"Spread Theta\":Spread_Theta, \"Long Call K=80\":list_theta_long_call, \"Short Call K=120\":list_theta_short_call, \"Spot Price\":spot})\n",
    "df.set_index(\"Spot Price\", inplace = True)\n",
    "px.line(df, title='Theta Spread')"
   ]
  },
  {
   "cell_type": "code",
   "execution_count": 16,
   "metadata": {},
   "outputs": [
    {
     "data": {
      "text/plain": [
       "'V - European barrier option'"
      ]
     },
     "execution_count": 16,
     "metadata": {},
     "output_type": "execute_result"
    }
   ],
   "source": [
    "\"\"\"V - European barrier option\"\"\"\n"
   ]
  }
 ],
 "metadata": {
  "kernelspec": {
   "display_name": "Python 3",
   "language": "python",
   "name": "python3"
  },
  "language_info": {
   "codemirror_mode": {
    "name": "ipython",
    "version": 3
   },
   "file_extension": ".py",
   "mimetype": "text/x-python",
   "name": "python",
   "nbconvert_exporter": "python",
   "pygments_lexer": "ipython3",
   "version": "3.12.4"
  }
 },
 "nbformat": 4,
 "nbformat_minor": 2
}
