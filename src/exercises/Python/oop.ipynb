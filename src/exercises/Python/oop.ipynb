{
 "cells": [
  {
   "cell_type": "markdown",
   "metadata": {},
   "source": [
    "# Exercice 3"
   ]
  },
  {
   "cell_type": "code",
   "execution_count": 1,
   "metadata": {},
   "outputs": [],
   "source": [
    "class Book:\n",
    "    def __init__(self, title, author):\n",
    "        self.title = title\n",
    "        self.author = author\n",
    "        self.available = True\n",
    "\n",
    "    def  __str__(self) :\n",
    "        if self.available:\n",
    "            availability = 'Available'\n",
    "        else: \n",
    "            availability = 'Not Available'\n",
    "        return f\"{self.title}, {self.author}, {availability}\"\n",
    "    \n",
    "    \n",
    "\n"
   ]
  },
  {
   "cell_type": "code",
   "execution_count": 2,
   "metadata": {},
   "outputs": [
    {
     "name": "stdout",
     "output_type": "stream",
     "text": [
      "The Great Gatsby, F. Scott Fitzgerald, Available\n",
      "1984, George Orwell, Available\n",
      "To Kill a Mockingbird, Harper Lee, Available\n"
     ]
    }
   ],
   "source": [
    "book1 = Book(\"The Great Gatsby\", \"F. Scott Fitzgerald\")\n",
    "book2 = Book(\"1984\", \"George Orwell\")\n",
    "book3 = Book(\"To Kill a Mockingbird\", \"Harper Lee\")\n",
    "\n",
    "print (book1)\n",
    "print (book2)\n",
    "print (book3)"
   ]
  },
  {
   "cell_type": "code",
   "execution_count": 7,
   "metadata": {},
   "outputs": [],
   "source": [
    "class my_Library:\n",
    "    def  __init__(self):\n",
    "        self.list_books = []\n",
    "\n",
    "    def add_book(self, book):\n",
    "        self.list_books.append(book)\n",
    "        print(f'Book \"{book.title}\" by {book.author} has been added to the library.')\n",
    "\n",
    "    def display_books(self):\n",
    "        print ('Available Books:')\n",
    "        for book in self.list_books:\n",
    "            print (book)\n",
    "\n",
    "    def borrow_book(self, title): \n",
    "        for book in self.list_books:\n",
    "            if book.title == title:\n",
    "                if book.available == True:\n",
    "                    book.available = False\n",
    "                    print (f'{book.title} has been borrowed, not available anymore')\n",
    "                else:\n",
    "                    print (f'{book.title} not available, cannot be borrowed')\n",
    "    def return_book(self, title): \n",
    "        for book in self.list_books:\n",
    "            if book.title == title:\n",
    "                if book.available == False:\n",
    "                    book.available = True \n",
    "                    print (f'{book.title} has been returned, available again')\n",
    "                else:\n",
    "                    print (f'{book.title} is already available, cannot be returned')\n",
    "\n",
    "\n"
   ]
  },
  {
   "cell_type": "code",
   "execution_count": 10,
   "metadata": {},
   "outputs": [
    {
     "name": "stdout",
     "output_type": "stream",
     "text": [
      "Book \"The Great Gatsby\" by F. Scott Fitzgerald has been added to the library.\n",
      "Book \"1984\" by George Orwell has been added to the library.\n",
      "Book \"To Kill a Mockingbird\" by Harper Lee has been added to the library.\n",
      "Available Books:\n",
      "The Great Gatsby, F. Scott Fitzgerald, Available\n",
      "1984, George Orwell, Available\n",
      "To Kill a Mockingbird, Harper Lee, Available\n",
      "1984 has been borrowed, not available anymore\n",
      "1984 not available, cannot be borrowed\n",
      "1984 has been returned, available again\n",
      "Available Books:\n",
      "The Great Gatsby, F. Scott Fitzgerald, Available\n",
      "1984, George Orwell, Available\n",
      "To Kill a Mockingbird, Harper Lee, Available\n"
     ]
    }
   ],
   "source": [
    "\"\"\"Test\"\"\"\n",
    "my_library = my_Library()\n",
    "book1 = Book(\"The Great Gatsby\", \"F. Scott Fitzgerald\")\n",
    "book2 = Book(\"1984\", \"George Orwell\")\n",
    "book3 = Book(\"To Kill a Mockingbird\", \"Harper Lee\")\n",
    "my_library.add_book(book1)\n",
    "my_library.add_book(book2)\n",
    "my_library.add_book(book3)\n",
    "my_library.display_books()\n",
    "my_library.borrow_book('1984')\n",
    "my_library.borrow_book('1984')\n",
    "my_library.return_book('1984')\n",
    "my_library.display_books()"
   ]
  }
 ],
 "metadata": {
  "kernelspec": {
   "display_name": "Python 3",
   "language": "python",
   "name": "python3"
  },
  "language_info": {
   "codemirror_mode": {
    "name": "ipython",
    "version": 3
   },
   "file_extension": ".py",
   "mimetype": "text/x-python",
   "name": "python",
   "nbconvert_exporter": "python",
   "pygments_lexer": "ipython3",
   "version": "3.12.4"
  }
 },
 "nbformat": 4,
 "nbformat_minor": 2
}
