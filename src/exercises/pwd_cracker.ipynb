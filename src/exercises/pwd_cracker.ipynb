{
 "cells": [
  {
   "cell_type": "code",
   "execution_count": null,
   "metadata": {},
   "outputs": [],
   "source": [
    "\"\"\"Hash function given in the exercise\"\"\"\n",
    "ascii_chars = [chr(i) for i in range(32, 127)]\n",
    "\n",
    "def hash_password(text):\n",
    "    hash=0\n",
    "    for char in text:\n",
    "        hash =  ( hash*281  ^ ord(char)*997) & 0xFFFFFFFF\n",
    "    print (hash)\n",
    "    return hash"
   ]
  },
  {
   "cell_type": "code",
   "execution_count": null,
   "metadata": {},
   "outputs": [],
   "source": [
    "x_1=chr(32)\n",
    "x_2=chr(32)\n",
    "x_3=chr(32)\n",
    "x_4=chr(32)\n",
    "for i in range(32, 127):\n",
    "    x_1=chr(i)\n",
    "    password = x_1+x_2+x_3+x_4\n",
    "    if hash_password(password) == 2868533088 :\n",
    "        print(password)\n",
    "        break\n",
    "    for j in range(32, 127):\n",
    "        x_2=chr(j)\n",
    "        password = x_1+x_2+x_3+x_4\n",
    "        if hash_password(password) == 2868533088 :\n",
    "            print(password)\n",
    "            break\n",
    "        for m in range(32, 127):\n",
    "            x_3=chr(m)\n",
    "            password = x_1+x_2+x_3+x_4\n",
    "            if hash_password(password) == 2868533088 :\n",
    "                print(password)\n",
    "                break\n",
    "            for n in range(32, 127):\n",
    "                x_4=chr(n)\n",
    "                password = x_1+x_2+x_3+x_4\n",
    "                if hash_password(password) == 2868533088 :\n",
    "                    print(password)\n",
    "                    break"
   ]
  }
 ],
 "metadata": {
  "language_info": {
   "name": "python"
  }
 },
 "nbformat": 4,
 "nbformat_minor": 2
}
